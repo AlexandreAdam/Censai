{
 "cells": [
  {
   "cell_type": "code",
   "execution_count": 1,
   "metadata": {},
   "outputs": [],
   "source": [
    "import tensorflow as tf\n",
    "import numpy as np\n",
    "#import Censai as Celi"
   ]
  },
  {
   "cell_type": "code",
   "execution_count": 2,
   "metadata": {},
   "outputs": [],
   "source": [
    "%matplotlib inline\n",
    "import matplotlib.pyplot as plt"
   ]
  },
  {
   "cell_type": "code",
   "execution_count": 2,
   "metadata": {},
   "outputs": [],
   "source": [
    "# kappa = Celi.Kappa_fun(0, 2, 0.5, np.pi/2, 200000, kap_side_length=5)"
   ]
  },
  {
   "cell_type": "code",
   "execution_count": 3,
   "metadata": {},
   "outputs": [],
   "source": [
    "# %matplotlib inline\n",
    "# import matplotlib.pyplot as plt\n",
    "# plt.imshow(np.log10(kappa))"
   ]
  },
  {
   "cell_type": "code",
   "execution_count": 4,
   "metadata": {},
   "outputs": [],
   "source": [
    "# np.max(kappa)"
   ]
  },
  {
   "cell_type": "code",
   "execution_count": null,
   "metadata": {},
   "outputs": [],
   "source": []
  },
  {
   "cell_type": "code",
   "execution_count": null,
   "metadata": {},
   "outputs": [],
   "source": []
  },
  {
   "cell_type": "code",
   "execution_count": 5,
   "metadata": {},
   "outputs": [],
   "source": [
    "# import tensorflow as tf\n",
    "# import numpy as np\n",
    "# sess = tf.InteractiveSession()\n",
    "\n",
    "# IM = tf.constant([1, 2, 3, 4, 5, 6, 7,8,9,10,11,12,13,14,15,16], shape = [1, 4, 4,1] )\n",
    "\n",
    "# sess.run(IM)\n",
    "\n",
    "# #print sess.run(x)\n",
    "# #print sess.run(y)\n",
    "\n",
    "# x = tf.constant([-5, -5, -6, -6 ], shape = [1, 2, 2] )\n",
    "# y = tf.constant([-5,- 6, -5, -6], shape = [1, 2, 2] )\n",
    "# XY = tf.stack([x,y],axis=3)\n",
    "\n",
    "# print sess.run(XY)\n",
    "\n",
    "# INT = tf.contrib.resampler.resampler(tf.cast(IM,'float32'),   tf.cast(XY,'float32')  )\n",
    "# print sess.run(INT)"
   ]
  },
  {
   "cell_type": "code",
   "execution_count": 7,
   "metadata": {},
   "outputs": [],
   "source": [
    "from PIL import Image\n",
    "import tensorflow as tf\n",
    "import scipy.ndimage\n",
    "from scipy import misc\n",
    "from scipy.interpolate import RectBivariateSpline\n",
    "import numpy as np\n",
    "import numpy.matlib as ml\n",
    "import random\n",
    "import time\n",
    "import os\n",
    "#from spatial_transformer import transformer\n",
    "import gc\n",
    "import scipy.io\n",
    "\n",
    "\n",
    "\n",
    "\n",
    "\n",
    "class DataGenerator(object):\n",
    "    '''\n",
    "    A class to handle processing of data.\n",
    "    '''\n",
    "    \n",
    "    def __init__(self,datadir=None,numpix_side=192, numkappa_side=193, src_side=2., im_side = 2.,max_noise_rms=0.0,use_psf=False,lens_model_error=[0.01,0.01,0.01,0.01,0.01,0.01,0.01],binpix=1,mask=False,min_unmasked_flux=1.0):\n",
    "        '''\n",
    "        Initialize an instance of the class.  Give it the directory\n",
    "        of the directories containing training/test data.\n",
    "        '''\n",
    "        self.datadir = datadir\n",
    "        if datadir is not None:\n",
    "            self.num_datadir = len(datadir)\n",
    "        self.src_side = src_side\n",
    "        self.numpix_side = numpix_side\n",
    "        self.im_side = im_side\n",
    "        self.numkappa_side = numkappa_side\n",
    "        \n",
    "        self.num_out = 7\n",
    "        \n",
    "        \n",
    "        \n",
    "    def gen_source(self,Xsrc, Ysrc, x_src = 0, y_src = 0, sigma_src = 1, numpix_side = 192):\n",
    "    \n",
    "        \n",
    "    \n",
    "        Im = np.exp( -(((Xsrc-x_src)**2+(Ysrc-y_src)**2) / (2.*sigma_src**2) ))\n",
    "                    \n",
    "        return Im\n",
    "\n",
    "\n",
    "\n",
    "    def Kappa_fun(self, xlens, ylens, elp, phi, Rein, numkappa_side = 193, kap_side_length = 2, rc=0, Ds = 1753486987.8422, Dds = 1125770220.58881, c = 299800000):\n",
    "    \n",
    "        sigma_v = np.sqrt( c**2/(4*np.pi)*Rein*np.pi/180/3600  * Ds/Dds )\n",
    "        \n",
    "        x = np.linspace(-1, 1, numkappa_side) * kap_side_length/2\n",
    "        y = np.linspace(-1, 1, numkappa_side) * kap_side_length/2\n",
    "        xv, yv = np.meshgrid(x, y)\n",
    "        \n",
    "        A = (y[1]-y[0])/2. *(2*np.pi/ (360*3600) )\n",
    "        \n",
    "        rcord, thetacord = np.sqrt(xv**2 + yv**2) , np.arctan2(xv, yv)\n",
    "        thetacord = thetacord - phi\n",
    "        Xkap, Ykap = rcord*np.cos(thetacord), rcord*np.sin(thetacord)\n",
    "        \n",
    "        rlens, thetalens = np.sqrt(xlens**2 + ylens**2) , np.arctan2(xlens, ylens)\n",
    "        thetalens = thetalens - phi\n",
    "        xlens, ylens = rlens*np.cos(thetalens), rlens*np.sin(thetalens)\n",
    "    \n",
    "        r = np.sqrt((Xkap-xlens)**2 + ((Ykap-ylens) * (1-elp) )**2) *(2*np.pi/ (360*3600) )\n",
    "    \n",
    "        Rein = (4*np.pi*sigma_v**2/c**2) * Dds /Ds \n",
    "    \n",
    "        kappa = np.divide( np.sqrt(1-elp)* Rein ,  (2* np.sqrt( r**2 + rc**2)))\n",
    "    \n",
    "        mass_inside_00_pix = 2.*A*(np.log(2.**(1./2.) + 1.) - np.log(2.**(1./2.)*A - A) + np.log(3.*A + 2.*2.**(1./2.)*A))\n",
    "    \n",
    "        \n",
    "    \n",
    "        density_00_pix = np.sqrt(1.-elp) * Rein/(2.) * mass_inside_00_pix/((2.*A)**2.)\n",
    "    \n",
    "    \n",
    "    \n",
    "        ind = np.argmin(r)\n",
    "    \n",
    "        kappa.flat[ind] = density_00_pix\n",
    "    \n",
    "        return kappa\n",
    "    \n",
    "    \n",
    "    def read_data_batch(self,X ,source ,train_or_test, read_or_gen,  max_file_num=None):\n",
    "    \n",
    "        batch_size = X.shape[0]\n",
    "        #mag = np.zeros((batch_size,1))\n",
    "\n",
    "        if read_or_gen == 'read':\n",
    "    #        if train_or_test=='test':\n",
    "    #            #inds = range(batch_size)\n",
    "    #            np.random.seed(seed=136)# 136 ->arc_1, 137 -> arc_2\n",
    "    #            d_path = [[],[]]\n",
    "    #            d_path[0] = test_data_path_1\n",
    "    #            d_path[1] = test_data_path_2\n",
    "    #\n",
    "    #            #d_lens_path = [[],[],[]]  \n",
    "    #            #d_lens_path[0] = testlens_data_path_1\n",
    "    #            #d_lens_path[1] = testlens_data_path_2\n",
    "    #            #d_lens_path[2] = testlens_data_path_3\n",
    "    #    #        inds = np.random.randint(0, high = max_file_num , size= batch_size)\n",
    "    #            inds = range(max_file_num)\n",
    "    #        else:\n",
    "            np.random.seed(seed=None)\n",
    "    #            inds = np.random.randint(0, high = max_file_num , size= batch_size)\n",
    "    #\n",
    "    #            d_path = [[],[]]\n",
    "    #            d_path[0] = arcs_data_path_1\n",
    "    #            d_path[1] = arcs_data_path_2\n",
    "    #\n",
    "    #            #d_lens_path = [[],[],[]]\n",
    "    #            #d_lens_path[0] = lens_data_path_1\n",
    "    #            #d_lens_path[1] = lens_data_path_2\n",
    "    #            #d_lens_path[2] = lens_data_path_3\n",
    "\n",
    "            #inds = np.zeros((batch_size,),dtype='int')\n",
    "        else:\n",
    "            np.random.seed(seed=136)\n",
    "            x = np.linspace(-1, 1, self.numpix_side) * self.src_side/2\n",
    "            y = np.linspace(-1, 1, self.numpix_side) * self.src_side/2\n",
    "            Xsrc, Ysrc = np.meshgrid(x, y)\n",
    "\n",
    "            for i in range(batch_size):\n",
    "\n",
    "                #parameters for kappa\n",
    "                xlens = 0\n",
    "                ylens = 0\n",
    "                elp = np.random.uniform()\n",
    "                phi = np.random.uniform(low=0.0, high=2.*np.pi)\n",
    "                Rein = np.random.uniform(low=0.5, high = 3.)\n",
    "\n",
    "                #parameters for source\n",
    "                sigma_src = np.random.uniform(low=0, high=0.5)\n",
    "                #np.random.normal(loc=0.0, scale = 0.01)\n",
    "                x_src = np.random.uniform(low=-0.16, high=0.16)\n",
    "                y_src = np.random.uniform(low=-0.16, high=0.16)\n",
    "\n",
    "                self.source[i,:] = self.gen_source(Xsrc, Ysrc, x_src = x_src, y_src = y_src, sigma_src = sigma_src, numpix_side = self.numpix_side)\n",
    "\n",
    "                self.kappa[i,:] = self.Kappa_fun(xlens, ylens, elp, phi, Rein, numkappa_side = 193, kap_side_length = 2, rc=0, Ds = 1753486987.8422, Dds = 1125770220.58881, c = 299800000)\n",
    "\n",
    "   "
   ]
  },
  {
   "cell_type": "code",
   "execution_count": 8,
   "metadata": {},
   "outputs": [],
   "source": [
    "Datagen = DataGenerator()"
   ]
  },
  {
   "cell_type": "code",
   "execution_count": 9,
   "metadata": {},
   "outputs": [],
   "source": [
    "Datagen.X = np.zeros((3, Datagen.numpix_side , Datagen.numpix_side ))\n",
    "Datagen.source = np.zeros((3, Datagen.numpix_side , Datagen.numpix_side ))\n",
    "Datagen.kappa = np.zeros((3, Datagen.numkappa_side , Datagen.numkappa_side ))\n",
    "max_file_num=None\n",
    "train_or_test = 'train'\n",
    "read_or_gen = 'gen'"
   ]
  },
  {
   "cell_type": "code",
   "execution_count": null,
   "metadata": {},
   "outputs": [],
   "source": []
  },
  {
   "cell_type": "code",
   "execution_count": 10,
   "metadata": {},
   "outputs": [
    {
     "name": "stderr",
     "output_type": "stream",
     "text": [
      "/Users/llevasseur/miniconda2/lib/python2.7/site-packages/ipykernel_launcher.py:73: RuntimeWarning: divide by zero encountered in divide\n"
     ]
    }
   ],
   "source": [
    "Datagen.read_data_batch(Datagen.X ,Datagen.source , train_or_test, read_or_gen)"
   ]
  },
  {
   "cell_type": "code",
   "execution_count": 13,
   "metadata": {},
   "outputs": [
    {
     "data": {
      "text/plain": [
       "<matplotlib.colorbar.Colorbar at 0xb2057bb50>"
      ]
     },
     "execution_count": 13,
     "metadata": {},
     "output_type": "execute_result"
    },
    {
     "data": {
      "image/png": "[encoded data removed]",
      "text/plain": [
       "<Figure size 432x288 with 2 Axes>"
      ]
     },
     "metadata": {
      "needs_background": "light"
     },
     "output_type": "display_data"
    }
   ],
   "source": [
    "plt.imshow((Datagen.source[2,:,:]))\n",
    "plt.colorbar()"
   ]
  },
  {
   "cell_type": "code",
   "execution_count": 8,
   "metadata": {},
   "outputs": [
    {
     "data": {
      "text/plain": [
       "array([[[0., 0., 0., ..., 0., 0., 0.],\n",
       "        [0., 0., 0., ..., 0., 0., 0.],\n",
       "        [0., 0., 0., ..., 0., 0., 0.],\n",
       "        ...,\n",
       "        [0., 0., 0., ..., 0., 0., 0.],\n",
       "        [0., 0., 0., ..., 0., 0., 0.],\n",
       "        [0., 0., 0., ..., 0., 0., 0.]],\n",
       "\n",
       "       [[0., 0., 0., ..., 0., 0., 0.],\n",
       "        [0., 0., 0., ..., 0., 0., 0.],\n",
       "        [0., 0., 0., ..., 0., 0., 0.],\n",
       "        ...,\n",
       "        [0., 0., 0., ..., 0., 0., 0.],\n",
       "        [0., 0., 0., ..., 0., 0., 0.],\n",
       "        [0., 0., 0., ..., 0., 0., 0.]]])"
      ]
     },
     "execution_count": 8,
     "metadata": {},
     "output_type": "execute_result"
    }
   ],
   "source": [
    "Z"
   ]
  },
  {
   "cell_type": "code",
   "execution_count": null,
   "metadata": {},
   "outputs": [],
   "source": []
  }
 ],
 "metadata": {
  "kernelspec": {
   "display_name": "Python 2",
   "language": "python",
   "name": "python2"
  },
  "language_info": {
   "codemirror_mode": {
    "name": "ipython",
    "version": 2
   },
   "file_extension": ".py",
   "mimetype": "text/x-python",
   "name": "python",
   "nbconvert_exporter": "python",
   "pygments_lexer": "ipython2",
   "version": "2.7.15"
  }
 },
 "nbformat": 4,
 "nbformat_minor": 2
}
