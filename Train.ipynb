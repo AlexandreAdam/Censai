{
 "cells": [
  {
   "cell_type": "code",
   "execution_count": 1,
   "metadata": {},
   "outputs": [],
   "source": [
    "import tensorflow as tf\n",
    "import numpy as np\n",
    "import Censai as Celi\n",
    "%matplotlib inline\n",
    "import matplotlib.pyplot as plt"
   ]
  },
  {
   "cell_type": "code",
   "execution_count": 2,
   "metadata": {
    "scrolled": false
   },
   "outputs": [
    {
     "name": "stdout",
     "output_type": "stream",
     "text": [
      "Using RNN\n",
      "Tensor(\"sub_1:0\", shape=(?, 192, 192, 1), dtype=float32) <iterative_inference_learning.layers.rnn_cell.MultiRNNCellFlex object at 0x1a180c6dd0> <iterative_inference_learning.layers.loopfun.InputFunction object at 0x1a180faed0> <iterative_inference_learning.layers.loopfun.OutputFunction object at 0x1a1810f090> <function init_func at 0x1a180f9b90> Tensor(\"T:0\", shape=(), dtype=int32)\n",
      "3 1 Tensor(\"RNN/stack_2:0\", shape=(?, 192, 192, 1), dtype=float32)\n",
      "3 1 Tensor(\"RNN/while/stack_2:0\", shape=(?, 192, 192, 1), dtype=float32)\n",
      "xold is  Tensor(\"RNN/while/Identity_3:0\", shape=(?, 192, 192, 2), dtype=float32)\n",
      "xout is  Tensor(\"RNN/while/Conv/Conv2D:0\", shape=(?, 192, 192, 2), dtype=float32)\n",
      "INFO:tensorflow:Restoring parameters from /Users/llevasseur/Documents/travail/Censai/trained_weights/RIM_source/MagNet_hires_chi2.ckpt\n",
      "Sampling data\n",
      "Iterating...\n",
      "0\n",
      "generated data batch 0\n",
      "(1, 192, 192, 1)\n",
      "(1, 192, 192, 1)\n",
      "DONE\n",
      "Optimization Finished!\n"
     ]
    },
    {
     "ename": "SystemExit",
     "evalue": "",
     "output_type": "error",
     "traceback": [
      "An exception has occurred, use %tb to see the full traceback.\n",
      "\u001b[0;31mSystemExit\u001b[0m\n"
     ]
    },
    {
     "name": "stderr",
     "output_type": "stream",
     "text": [
      "/Users/llevasseur/miniconda2/lib/python2.7/site-packages/IPython/core/interactiveshell.py:2886: UserWarning: To exit: use 'exit', 'quit', or Ctrl-D.\n",
      "  warn(\"To exit: use 'exit', 'quit', or Ctrl-D.\", stacklevel=1)\n"
     ]
    }
   ],
   "source": [
    "execfile('lensmodel_source.py')"
   ]
  },
  {
   "cell_type": "code",
   "execution_count": 3,
   "metadata": {},
   "outputs": [],
   "source": [
    "source_image = np.load('source_image.npy')\n",
    "source_image_true = np.load('source_image_true.npy')\n",
    "\n"
   ]
  },
  {
   "cell_type": "code",
   "execution_count": 4,
   "metadata": {},
   "outputs": [
    {
     "data": {
      "text/plain": [
       "<matplotlib.image.AxesImage at 0x1025cdc90>"
      ]
     },
     "execution_count": 4,
     "metadata": {},
     "output_type": "execute_result"
    },
    {
     "data": {
      "image/png": "[encoded data removed]",
      "text/plain": [
       "<Figure size 432x288 with 1 Axes>"
      ]
     },
     "metadata": {
      "needs_background": "light"
     },
     "output_type": "display_data"
    }
   ],
   "source": [
    "plt.imshow(source_image[0,0,:,:,0])\n"
   ]
  },
  {
   "cell_type": "code",
   "execution_count": 5,
   "metadata": {},
   "outputs": [
    {
     "data": {
      "text/plain": [
       "<matplotlib.image.AxesImage at 0x1a17dd8210>"
      ]
     },
     "execution_count": 5,
     "metadata": {},
     "output_type": "execute_result"
    },
    {
     "data": {
      "image/png": "[encoded data removed]",
      "text/plain": [
       "<Figure size 432x288 with 1 Axes>"
      ]
     },
     "metadata": {
      "needs_background": "light"
     },
     "output_type": "display_data"
    }
   ],
   "source": [
    "plt.imshow(source_image_true[0,:,:,0])"
   ]
  },
  {
   "cell_type": "code",
   "execution_count": null,
   "metadata": {},
   "outputs": [],
   "source": [
    "saver.save(sess,model_name)"
   ]
  },
  {
   "cell_type": "code",
   "execution_count": null,
   "metadata": {},
   "outputs": [],
   "source": [
    "sess = tf.InteractiveSession()"
   ]
  },
  {
   "cell_type": "code",
   "execution_count": null,
   "metadata": {},
   "outputs": [],
   "source": [
    "FLAGS = tf.app.flags.FLAGS\n",
    "\n",
    "tf.app.flags.DEFINE_string('train_dir', '~/Documents/tensorflow_logs/iel/',\n",
    "                           \"\"\"Directory where to write event logs \"\"\"\n",
    "                           \"\"\"and checkpoint.\"\"\")\n",
    "tf.app.flags.DEFINE_boolean('use_rnn', True,\n",
    "                            \"\"\"Flag whether to use an RNN or whether to use a ReLu network.\"\"\")\n",
    "tf.app.flags.DEFINE_boolean('use_gray', True,\n",
    "                            \"\"\"Flag whether we work on gray images or RGB images.\"\"\")\n",
    "tf.app.flags.DEFINE_boolean('use_grad', True,\n",
    "                            \"\"\"Flag whether to use gradient information in the inference model\"\"\")\n",
    "tf.app.flags.DEFINE_boolean('use_prior', True,\n",
    "                            \"\"\"Flag whether to input the current estimate again.\"\"\")\n",
    "tf.app.flags.DEFINE_boolean('accumulate_output', True,\n",
    "                            \"\"\"Flag whether some teh network outputs over time.\"\"\")\n",
    "tf.app.flags.DEFINE_float('lr', 1.5e-5,\n",
    "                            \"\"\"Global learning rate to use\"\"\")\n",
    "tf.app.flags.DEFINE_integer('n_pseudo', 1,\n",
    "                            \"\"\"How many pseudo samples should be used\"\"\")\n",
    "tf.app.flags.DEFINE_integer('n_epochs', 10,\n",
    "                            \"\"\"Number of epochs.\"\"\")\n",
    "tf.app.flags.DEFINE_boolean('log_device_placement', False,\n",
    "                            \"\"\"Whether to log device placement.\"\"\")\n",
    "tf.app.flags.DEFINE_integer('k_size', 11,\n",
    "                            \"\"\"Size of convolutional kernels.\"\"\")\n",
    "tf.app.flags.DEFINE_integer('features', 32,\n",
    "                            \"\"\"Number of features per layer.\"\"\")\n",
    "tf.app.flags.DEFINE_integer('depth', 1,\n",
    "                            \"\"\"Depth of the network\"\"\")\n",
    "tf.app.flags.DEFINE_integer('batch_size', 5,\n",
    "                            \"\"\"Number of samples per batch.\"\"\")\n",
    "tf.app.flags.DEFINE_integer('t_max', 10,\n",
    "                            \"\"\"The number of time steps to train on. \"\"\"\n",
    "                            \"\"\"If -1 it will be drawn randomly from a geometrix distribution.\"\"\")\n",
    "tf.app.flags.DEFINE_integer('j_min', 6,\n",
    "                            \"\"\"The minimum id of corruption models to sample from\"\"\")\n",
    "tf.app.flags.DEFINE_integer('j_max', 7,\n",
    "                            \"\"\"The maximum id of corruption models to sample from\"\"\")\n",
    "tf.app.flags.DEFINE_integer('k_max', 5,\n",
    "                            \"\"\"The maximum size x of corruption kernels for BlurImage, and pooling size \"\"\"\n",
    "                            \"\"\" for resize operations \"\"\")\n",
    "tf.app.flags.DEFINE_integer('k_in', 1,\n",
    "                            \"\"\"The number of input channels of corruption kernels for BlurImage\"\"\")\n",
    "tf.app.flags.DEFINE_integer('k_out', 1,\n",
    "                            \"\"\"The number of output channels corruption kernels for BlurImage, and pooling size\"\"\")\n",
    "tf.app.flags.DEFINE_integer('stride', 1,\n",
    "                            \"\"\"The stride for the ImageBlur operation\"\"\")\n",
    "tf.app.flags.DEFINE_float('noise_lambda', 100.,\n",
    "                            \"\"\"The scale parameter for the exponential distribution where \"\"\"\n",
    "                            \"\"\"noise_std is drawn from.\"\"\")\n",
    "tf.app.flags.DEFINE_float('reduction_min', 0.,\n",
    "                            \"\"\"The minimum allowable fraction of sample size fro RP\"\"\")\n",
    "tf.app.flags.DEFINE_float('reduction_max', 1.,\n",
    "                            \"\"\"The maximum allowable fraction of sample size fro RP\"\"\")\n",
    "tf.app.flags.DEFINE_string('desc', 'default_superres_model_',\n",
    "                           \"\"\"A short description of the experiment\"\"\")"
   ]
  },
  {
   "cell_type": "code",
   "execution_count": null,
   "metadata": {},
   "outputs": [],
   "source": [
    "Raytracer = Celi.Likelihood(numpix_side = 192)"
   ]
  },
  {
   "cell_type": "code",
   "execution_count": null,
   "metadata": {},
   "outputs": [],
   "source": [
    "Datagen = Celi.DataGenerator(numpix_side=Raytracer.numpix_side, numkappa_side=193, src_side=Raytracer.src_side, im_side = Raytracer.im_side,max_noise_rms=0.0,use_psf=False,lens_model_error=[0.01,0.01,0.01,0.01,0.01,0.01,0.01],binpix=1,mask=False,min_unmasked_flux=1.0)"
   ]
  },
  {
   "cell_type": "code",
   "execution_count": null,
   "metadata": {},
   "outputs": [],
   "source": [
    "batch_size = 2\n",
    "n_channel = 1\n",
    "\n",
    "Datagen.X = np.zeros((batch_size, Datagen.numpix_side , Datagen.numpix_side,1 ))\n",
    "Datagen.source = np.zeros((batch_size, Datagen.numpix_side , Datagen.numpix_side,1 ))\n",
    "Datagen.kappa = np.zeros((batch_size, Datagen.numkappa_side , Datagen.numkappa_side,1 ))\n",
    "max_file_num=None\n",
    "train_or_test = 'train'\n",
    "read_or_gen = 'gen'"
   ]
  },
  {
   "cell_type": "code",
   "execution_count": null,
   "metadata": {},
   "outputs": [],
   "source": [
    "Datagen.read_data_batch(Datagen.X ,Datagen.source , train_or_test, read_or_gen)"
   ]
  },
  {
   "cell_type": "code",
   "execution_count": null,
   "metadata": {},
   "outputs": [],
   "source": [
    "Kappatest = tf.placeholder( tf.float32, [None, Datagen.numkappa_side, Datagen.numkappa_side,1] )\n",
    "Srctest = tf.placeholder( tf.float32, [None, Raytracer.numpix_side, Raytracer.numpix_side,1] )\n",
    "\n",
    "\n",
    "\n",
    "y_ = tf.placeholder(dtype=tf.float32,shape=[None,Datagen.numkappa_side**2])\n",
    "y_image = Kappatest\n",
    "x_init = tf.zeros_like(y_image)\n",
    "\n",
    "\n",
    "\n",
    "Raytracer.trueimage = Raytracer.get_lensed_image(Kappatest,[0.,0.], 7.68, Srctest)\n",
    "x_image = Raytracer.trueimage\n",
    "\n",
    "\n",
    "n_channel = 1\n",
    "\n",
    "\n",
    "#imout= sess.run(IM, feed_dict={Srctest: Datagen.source, Kappatest: Datagen.kappa})"
   ]
  },
  {
   "cell_type": "code",
   "execution_count": null,
   "metadata": {},
   "outputs": [],
   "source": [
    "# Needed for Optimization purposes\n",
    "global_step = tf.Variable(0, trainable=False, dtype=tf.int32)\n",
    "is_training = tf.placeholder(tf.bool, [], name='is_training')\n",
    "\n",
    "# Number of steps to perform for inference\n",
    "T = tf.constant(FLAGS.t_max, dtype=tf.int32, name='T')\n"
   ]
  },
  {
   "cell_type": "code",
   "execution_count": null,
   "metadata": {},
   "outputs": [],
   "source": [
    "print imout.shape"
   ]
  },
  {
   "cell_type": "code",
   "execution_count": null,
   "metadata": {},
   "outputs": [],
   "source": [
    "plt.imshow(imout[1,:,:,0])"
   ]
  },
  {
   "cell_type": "code",
   "execution_count": null,
   "metadata": {},
   "outputs": [],
   "source": [
    "Datagen.numkappa_side"
   ]
  },
  {
   "cell_type": "code",
   "execution_count": null,
   "metadata": {},
   "outputs": [],
   "source": [
    "3.0/(191)"
   ]
  },
  {
   "cell_type": "code",
   "execution_count": null,
   "metadata": {},
   "outputs": [],
   "source": []
  }
 ],
 "metadata": {
  "kernelspec": {
   "display_name": "Python 2",
   "language": "python",
   "name": "python2"
  },
  "language_info": {
   "codemirror_mode": {
    "name": "ipython",
    "version": 2
   },
   "file_extension": ".py",
   "mimetype": "text/x-python",
   "name": "python",
   "nbconvert_exporter": "python",
   "pygments_lexer": "ipython2",
   "version": "2.7.15"
  }
 },
 "nbformat": 4,
 "nbformat_minor": 2
}
