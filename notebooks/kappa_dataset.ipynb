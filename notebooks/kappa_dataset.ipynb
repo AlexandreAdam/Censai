{
 "cells": [
  {
   "cell_type": "code",
   "execution_count": 2,
   "id": "b5ebe8f8-3567-4f34-920c-e2241a7cac66",
   "metadata": {},
   "outputs": [
    {
     "name": "stdout",
     "output_type": "stream",
     "text": [
      "The history saving thread hit an unexpected error (OperationalError('database is locked')).History will not be written to the database.\n"
     ]
    }
   ],
   "source": [
    "import tensorflow as tf\n",
    "import numpy as np\n",
    "import matplotlib.pyplot as plt\n",
    "import os, glob\n",
    "import galsim\n",
    "from tqdm import tqdm\n",
    "from censai.data.kappa_tng import decode_train\n",
    "from censai.definitions import log_10\n",
    "from astropy.visualization import ImageNormalize, LogStretch\n",
    "plt.style.use('dark_background')"
   ]
  },
  {
   "cell_type": "code",
   "execution_count": null,
   "id": "b72e8732-a504-4b3a-b1cd-32789627311d",
   "metadata": {},
   "outputs": [],
   "source": [
    "# datapath = \"/home/aadam/scratch/Censai/data/cosmos_23.5/\"\n",
    "datapath = \"/home/aadam/scratch/Censai/data/kappa128_TNG100_trainset/\"\n",
    "files = glob.glob(os.path.join(datapath, \"*.tfrecords\"))\n",
    "files = tf.data.Dataset.from_tensor_slices(files)\n",
    "dataset = files.interleave(lambda x: tf.data.TFRecordDataset(x), block_length=1, num_parallel_calls=tf.data.AUTOTUNE).map(decode_train).map(log_10)"
   ]
  },
  {
   "cell_type": "code",
   "execution_count": null,
   "id": "ad290434-7114-427b-ba14-fbe40e05f59d",
   "metadata": {},
   "outputs": [],
   "source": []
  }
 ],
 "metadata": {
  "kernelspec": {
   "display_name": "censai",
   "language": "python",
   "name": "censai"
  },
  "language_info": {
   "codemirror_mode": {
    "name": "ipython",
    "version": 3
   },
   "file_extension": ".py",
   "mimetype": "text/x-python",
   "name": "python",
   "nbconvert_exporter": "python",
   "pygments_lexer": "ipython3",
   "version": "3.8.2"
  }
 },
 "nbformat": 4,
 "nbformat_minor": 5
}
