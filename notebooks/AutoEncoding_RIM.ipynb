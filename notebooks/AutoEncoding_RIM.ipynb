{
 "cells": [
  {
   "cell_type": "code",
   "execution_count": 1,
   "metadata": {
    "scrolled": false
   },
   "outputs": [],
   "source": [
    "import sys\n",
    "sys.path = ['',\n",
    " '/cm/shared/sw/pkg-old/devel/python2/2.7.13/bin',\n",
    " '/mnt/xfs1/flatiron-sw/pkg/devel/python2/2.7.13/lib/python27.zip',\n",
    " '/mnt/xfs1/flatiron-sw/pkg/devel/python2/2.7.13/lib/python2.7',\n",
    " '/mnt/xfs1/flatiron-sw/pkg/devel/python2/2.7.13/lib/python2.7/plat-linux2',\n",
    " '/mnt/xfs1/flatiron-sw/pkg/devel/python2/2.7.13/lib/python2.7/lib-tk',\n",
    " '/mnt/xfs1/flatiron-sw/pkg/devel/python2/2.7.13/lib/python2.7/lib-old',\n",
    " '/mnt/xfs1/flatiron-sw/pkg/devel/python2/2.7.13/lib/python2.7/lib-dynload',\n",
    " '/mnt/xfs1/flatiron-sw/pkg/devel/python2/2.7.13/lib/python2.7/site-packages',\n",
    " '/mnt/xfs1/flatiron-sw/pkg/devel/python2/2.7.13/lib/python2.7/site-packages/IPython/extensions',\n",
    " '/mnt/home/llevasseur/.ipython']"
   ]
  },
  {
   "cell_type": "code",
   "execution_count": 2,
   "metadata": {},
   "outputs": [
    {
     "name": "stderr",
     "output_type": "stream",
     "text": [
      "/mnt/xfs1/flatiron-sw/pkg/devel/python2/2.7.13/lib/python2.7/site-packages/h5py/__init__.py:36: FutureWarning: Conversion of the second argument of issubdtype from `float` to `np.floating` is deprecated. In future, it will be treated as `np.float64 == np.dtype(float).type`.\n",
      "  from ._conv import register_converters as _register_converters\n"
     ]
    }
   ],
   "source": [
    "import tensorflow as tf\n",
    "import numpy as np\n",
    "\n",
    "tf.enable_eager_execution()"
   ]
  },
  {
   "cell_type": "code",
   "execution_count": 3,
   "metadata": {},
   "outputs": [],
   "source": [
    "execfile(\"AE_RIM_definitions.py\")\n",
    "execfile(\"auto_encoder.py\")\n",
    "\n",
    "num_steps = 4\n",
    "num_features = 512\n",
    "state_size = 128\n",
    "\n",
    "checkpoint_path_1 = \"checkpoints/model1_48\"\n",
    "checkpoint_path_2 = \"checkpoints/model2_48\"\n",
    "\n",
    "\n",
    "import matplotlib.pyplot as plt\n",
    "%matplotlib inline  \n",
    "from IPython import display\n",
    "import pylab as pl\n",
    "\n"
   ]
  },
  {
   "cell_type": "code",
   "execution_count": 4,
   "metadata": {},
   "outputs": [],
   "source": [
    "src_side = 20.48\n",
    "im_side = 20.48\n",
    "train_batch_size = 2\n",
    "num_RIM_features = 64\n",
    "RIM = RIM_UNET_CELL(train_batch_size , num_steps , num_RIM_features , state_size)\n",
    "sk_gen = SRC_KAPPA_Generator(train_batch_size=train_batch_size,test_batch_size=train_batch_size,kap_side_length=im_side, num_src_side=num_features,num_kappa_side=num_features,src_side=src_side)\n",
    "lens_util_obj = lens_util(im_side= im_side, src_side=src_side, numpix_side = num_features ,kap_side=im_side,  method = \"conv2d\")\n",
    "physical_model = lens_util_obj.AE_physical_model\n",
    "\n",
    "noise_rms = 0.01\n",
    "sk_gen.draw_k_s(\"test\")\n",
    "\n",
    "RESTORE=False\n",
    "if (RESTORE):\n",
    "    RIM.model_1.load_weights(checkpoint_path_1)\n",
    "    RIM.model_2.load_weights(checkpoint_path_2)\n"
   ]
  },
  {
   "cell_type": "code",
   "execution_count": 5,
   "metadata": {},
   "outputs": [],
   "source": [
    "AE = AUTOENCODER()"
   ]
  },
  {
   "cell_type": "code",
   "execution_count": 7,
   "metadata": {},
   "outputs": [],
   "source": [
    "# AE.encode(tf.identity(src)).shape"
   ]
  },
  {
   "cell_type": "code",
   "execution_count": null,
   "metadata": {},
   "outputs": [],
   "source": [
    "# optimizer = tf.train.AdamOptimizer(2e-4)"
   ]
  },
  {
   "cell_type": "code",
   "execution_count": null,
   "metadata": {},
   "outputs": [],
   "source": [
    "# for train_iter in range(1000):\n",
    "#     print train_iter\n",
    "#     sk_gen.draw_k_s(\"train\")\n",
    "#     src = sk_gen.Source_tr[:,:,:,:]\n",
    "#     #kap = sk_gen.Kappa_tr[:,:,:,:]\n",
    "#     AE.train(tf.identity(src), optimizer)\n",
    "\n",
    "#     if (((train_iter+1)%10)==0):\n",
    "#         output = AE.forward_pass(tf.identity(src))\n",
    "#         pl.clf()\n",
    "#         fig, ax = pl.subplots(1, 2, figsize = (10, 15))\n",
    "#         pl.subplots_adjust(wspace = 0, hspace = 0)\n",
    "#         imsrcP = ax[0].imshow(src[0,:,:,0])\n",
    "\n",
    "#         imsrcT = ax[1].imshow(output[0,:,:,0].numpy())\n",
    "#         ax[0].axis('off')\n",
    "#         ax[1].axis('off')\n",
    "#         display.clear_output(wait=True)\n",
    "#         display.display(pl.gcf())\n",
    "#     if (((train_iter+1)%40)==0):\n",
    "#         AE.Save()\n",
    "#         print \"saved\"\n",
    "\n"
   ]
  },
  {
   "cell_type": "code",
   "execution_count": null,
   "metadata": {
    "scrolled": false
   },
   "outputs": [],
   "source": [
    "for train_iter in range(4000):\n",
    "    #if ((train_iter%1)==0):\n",
    "    print train_iter\n",
    "    sk_gen.draw_k_s(\"train\")\n",
    "    noisy_data = lens_util_obj.simulate_noisy_lensed_image(  sk_gen.Source_tr[:,:,:,:],sk_gen.Kappa_tr[:,:,:,:],noise_rms)\n",
    "    tf_source =  tf.identity(sk_gen.Source_tr[:,:,:,:])\n",
    "    tf_kappa  = tf.identity(sk_gen.Kappa_tr[:,:,:,:] )\n",
    "\n",
    "    with tf.GradientTape() as tape:\n",
    "        tape.watch(RIM.model_1.variables)\n",
    "        #tape.watch(RIM.model_2.variables)\n",
    "        cost_value, _ , _ , OS_src , OS_kap = RIM.cost_function(noisy_data, tf_source , tf_kappa)\n",
    "    weight_grads = tape.gradient(cost_value, [RIM.model_1.variables ] )\n",
    "\n",
    "    clipped_grads_1 = [tf.clip_by_value(grads_i,-10,10) for grads_i in weight_grads[0]]\n",
    "    optimizer.apply_gradients(zip(clipped_grads_1, RIM.model_1.variables), global_step=tf.train.get_or_create_global_step())\n",
    "#     clipped_grads_2 = [tf.clip_by_value(grads_i,-10,10) for grads_i in weight_grads[1]]\n",
    "#     optimizer.apply_gradients(zip(clipped_grads_2, RIM.model_2.variables), global_step=tf.train.get_or_create_global_step())\n",
    "    print( train_iter , cost_value.numpy() )\n",
    "    if (((train_iter+1)%1)==0):\n",
    "        model_im = lens_util_obj.physical_model(OS_src , OS_kap)\n",
    "        pl.clf()\n",
    "        fig, ax = pl.subplots(3, 2, figsize = (10, 15))\n",
    "        pl.subplots_adjust(wspace = 0, hspace = 0)\n",
    "        imsrcP = ax[0, 0].imshow(OS_src[0,:,:,0])\n",
    "#         immodP = ax[0, 1].imshow(np.log10(OS_kap[0,:,:,0]))\n",
    "        imsrcT = ax[1, 0].imshow(tf_source[0,:,:,0])\n",
    "#         imsrcT = ax[1, 1].imshow(np.log10(tf_kappa[0,:,:,0]))\n",
    "        immodT = ax[2, 0].imshow(noisy_data[0,:,:,0])\n",
    "        immodP = ax[2, 1].imshow(model_im.numpy()[0,:,:,0])\n",
    "        for j in range(2):\n",
    "            for i in range(3):\n",
    "                ax[i,j].axis('off')    \n",
    "        display.clear_output(wait=True)\n",
    "        display.display(pl.gcf())\n",
    "        print( train_iter , cost_value.numpy() )\n",
    "#     if (((train_iter+1)%100)==0):\n",
    "#         RIM.model_1.save_weights(checkpoint_path_1)\n",
    "#         RIM.model_2.save_weights(checkpoint_path_2)\n",
    "#         print('saved weights.')"
   ]
  },
  {
   "cell_type": "code",
   "execution_count": null,
   "metadata": {},
   "outputs": [],
   "source": []
  },
  {
   "cell_type": "code",
   "execution_count": null,
   "metadata": {
    "scrolled": false
   },
   "outputs": [],
   "source": [
    "model_im = lens_util_obj.physical_model(OS_src , OS_kap)\n",
    "pl.clf()\n",
    "fig, ax = pl.subplots(3, 2, figsize = (10, 15))\n",
    "pl.subplots_adjust(wspace = 0, hspace = 0)\n",
    "imsrcP = ax[0, 0].imshow(OS_src[0,:,:,0])\n",
    "immodP = ax[0, 1].imshow(OS_kap[0,:,:,0])\n",
    "imsrcT = ax[1, 0].imshow(tf_source[0,:,:,0])\n",
    "imsrcT = ax[1, 1].imshow(np.log10(tf_kappa[0,:,:,0]))\n",
    "immodT = ax[2, 0].imshow(noisy_data[0,:,:,0])\n",
    "immodP = ax[2, 1].imshow(model_im.numpy()[0,:,:,0])\n",
    "for j in range(2):\n",
    "    for i in range(3):\n",
    "        ax[i,j].axis('off')    \n",
    "display.clear_output(wait=True)\n",
    "# display.display(pl.gcf())\n",
    "\n",
    "\n"
   ]
  },
  {
   "cell_type": "code",
   "execution_count": null,
   "metadata": {},
   "outputs": [],
   "source": [
    "len(OS_src)"
   ]
  },
  {
   "cell_type": "code",
   "execution_count": null,
   "metadata": {},
   "outputs": [],
   "source": [
    "len(cost_value)"
   ]
  },
  {
   "cell_type": "code",
   "execution_count": null,
   "metadata": {},
   "outputs": [],
   "source": [
    "plt.figure()\n",
    "plt.imshow(tf_source.numpy()[0,:,:,0])\n",
    "plt.figure()\n",
    "plt.imshow(np.log10(tf_kappa.numpy()[0,:,:,0]))\n",
    "plt.figure()\n",
    "plt.imshow(noisy_data.numpy()[0,:,:,0])"
   ]
  },
  {
   "cell_type": "code",
   "execution_count": null,
   "metadata": {},
   "outputs": [],
   "source": [
    "xs , ys , ax , ay = lens_util_obj.get_deflection_angles(tf_kappa)"
   ]
  },
  {
   "cell_type": "code",
   "execution_count": null,
   "metadata": {},
   "outputs": [],
   "source": [
    "plt.plot(xs[0,:,:,0],ys[0,:,:,0],' .');"
   ]
  },
  {
   "cell_type": "code",
   "execution_count": null,
   "metadata": {},
   "outputs": [],
   "source": [
    "plt.imshow(ay[0,:,:,0])"
   ]
  },
  {
   "cell_type": "code",
   "execution_count": null,
   "metadata": {},
   "outputs": [],
   "source": []
  },
  {
   "cell_type": "code",
   "execution_count": null,
   "metadata": {},
   "outputs": [],
   "source": []
  },
  {
   "cell_type": "code",
   "execution_count": null,
   "metadata": {},
   "outputs": [],
   "source": []
  },
  {
   "cell_type": "code",
   "execution_count": null,
   "metadata": {},
   "outputs": [],
   "source": [
    "from skimage.transform import resize"
   ]
  },
  {
   "cell_type": "code",
   "execution_count": null,
   "metadata": {},
   "outputs": [],
   "source": [
    "execfile(\"genSIEdef_angles.py\")"
   ]
  },
  {
   "cell_type": "code",
   "execution_count": null,
   "metadata": {},
   "outputs": [],
   "source": [
    "train_batch_size = 10\n",
    "num_features = 512\n",
    "\n",
    "\n",
    "RT = RayTracer()\n",
    "kap_gen = SRC_KAPPA_Generator(train_batch_size=train_batch_size,kap_side_length=20.48,num_src_side=num_features,num_kappa_side=num_features)\n",
    "checkpoint_path = \"checkpoints/model_Unet\"\n",
    "RT.load_weights(checkpoint_path)\n"
   ]
  },
  {
   "cell_type": "code",
   "execution_count": null,
   "metadata": {},
   "outputs": [],
   "source": [
    "\n",
    "ALFA = RT(tf_kappa)"
   ]
  },
  {
   "cell_type": "code",
   "execution_count": null,
   "metadata": {},
   "outputs": [],
   "source": [
    "plt.imshow(ALFA[0,:,:,1])"
   ]
  },
  {
   "cell_type": "code",
   "execution_count": null,
   "metadata": {},
   "outputs": [],
   "source": [
    "np.save('np_kappa.npy',tf_kappa.numpy())"
   ]
  },
  {
   "cell_type": "code",
   "execution_count": null,
   "metadata": {},
   "outputs": [],
   "source": [
    "plt.imshow(np.log10(tf_kappa[0,:,:,0]))"
   ]
  },
  {
   "cell_type": "code",
   "execution_count": null,
   "metadata": {},
   "outputs": [],
   "source": []
  },
  {
   "cell_type": "code",
   "execution_count": null,
   "metadata": {},
   "outputs": [],
   "source": []
  },
  {
   "cell_type": "code",
   "execution_count": null,
   "metadata": {},
   "outputs": [],
   "source": []
  },
  {
   "cell_type": "code",
   "execution_count": null,
   "metadata": {},
   "outputs": [],
   "source": []
  }
 ],
 "metadata": {
  "kernelspec": {
   "display_name": "Python 2 (python2/2.7.13)",
   "language": "python",
   "name": "module-python2-2.7.13-python2"
  },
  "language_info": {
   "codemirror_mode": {
    "name": "ipython",
    "version": 2
   },
   "file_extension": ".py",
   "mimetype": "text/x-python",
   "name": "python",
   "nbconvert_exporter": "python",
   "pygments_lexer": "ipython2",
   "version": "2.7.13"
  }
 },
 "nbformat": 4,
 "nbformat_minor": 2
}
