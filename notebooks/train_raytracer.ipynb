{
 "cells": [
  {
   "cell_type": "markdown",
   "metadata": {
    "colab_type": "text",
    "id": "view-in-github"
   },
   "source": [
    "<a href=\"https://colab.research.google.com/github/AlexandreAdam/Censai/blob/eager2.4/notebooks/train_raytracer.ipynb\" target=\"_parent\"><img src=\"https://colab.research.google.com/assets/colab-badge.svg\" alt=\"Open In Colab\"/></a>"
   ]
  },
  {
   "cell_type": "markdown",
   "metadata": {
    "id": "VeFvLQUwiNtM"
   },
   "source": [
    "# RayTracer\n",
    "\n",
    "Uncomment the following block to start"
   ]
  },
  {
   "cell_type": "code",
   "execution_count": 1,
   "metadata": {
    "colab": {
     "base_uri": "https://localhost:8080/"
    },
    "id": "-JY-H9B4hAA5",
    "outputId": "d4d175a5-5948-4ca3-b958-345e6fc51119"
   },
   "outputs": [
    {
     "name": "stdout",
     "output_type": "stream",
     "text": [
      "fatal: destination path 'Censai' already exists and is not an empty directory.\n",
      "/content/Censai\n",
      "Already on 'eager2.4'\n",
      "Your branch is up to date with 'origin/eager2.4'.\n",
      "running install\n",
      "running bdist_egg\n",
      "running egg_info\n",
      "writing censai.egg-info/PKG-INFO\n",
      "writing dependency_links to censai.egg-info/dependency_links.txt\n",
      "writing top-level names to censai.egg-info/top_level.txt\n",
      "writing manifest file 'censai.egg-info/SOURCES.txt'\n",
      "installing library code to build/bdist.linux-x86_64/egg\n",
      "running install_lib\n",
      "running build_py\n",
      "creating build/bdist.linux-x86_64/egg\n",
      "creating build/bdist.linux-x86_64/egg/censai\n",
      "copying build/lib/censai/__init__.py -> build/bdist.linux-x86_64/egg/censai\n",
      "copying build/lib/censai/physical_model.py -> build/bdist.linux-x86_64/egg/censai\n",
      "copying build/lib/censai/utilities.py -> build/bdist.linux-x86_64/egg/censai\n",
      "copying build/lib/censai/definitions.py -> build/bdist.linux-x86_64/egg/censai\n",
      "copying build/lib/censai/data_generator.py -> build/bdist.linux-x86_64/egg/censai\n",
      "byte-compiling build/bdist.linux-x86_64/egg/censai/__init__.py to __init__.cpython-37.pyc\n",
      "byte-compiling build/bdist.linux-x86_64/egg/censai/physical_model.py to physical_model.cpython-37.pyc\n",
      "byte-compiling build/bdist.linux-x86_64/egg/censai/utilities.py to utilities.cpython-37.pyc\n",
      "byte-compiling build/bdist.linux-x86_64/egg/censai/definitions.py to definitions.cpython-37.pyc\n",
      "byte-compiling build/bdist.linux-x86_64/egg/censai/data_generator.py to data_generator.cpython-37.pyc\n",
      "creating build/bdist.linux-x86_64/egg/EGG-INFO\n",
      "copying censai.egg-info/PKG-INFO -> build/bdist.linux-x86_64/egg/EGG-INFO\n",
      "copying censai.egg-info/SOURCES.txt -> build/bdist.linux-x86_64/egg/EGG-INFO\n",
      "copying censai.egg-info/dependency_links.txt -> build/bdist.linux-x86_64/egg/EGG-INFO\n",
      "copying censai.egg-info/top_level.txt -> build/bdist.linux-x86_64/egg/EGG-INFO\n",
      "zip_safe flag not set; analyzing archive contents...\n",
      "creating 'dist/censai-0.2-py3.7.egg' and adding 'build/bdist.linux-x86_64/egg' to it\n",
      "removing 'build/bdist.linux-x86_64/egg' (and everything under it)\n",
      "Processing censai-0.2-py3.7.egg\n",
      "Removing /usr/local/lib/python3.7/dist-packages/censai-0.2-py3.7.egg\n",
      "Copying censai-0.2-py3.7.egg to /usr/local/lib/python3.7/dist-packages\n",
      "censai 0.2 is already the active version in easy-install.pth\n",
      "\n",
      "Installed /usr/local/lib/python3.7/dist-packages/censai-0.2-py3.7.egg\n",
      "Processing dependencies for censai==0.2\n",
      "Finished processing dependencies for censai==0.2\n"
     ]
    }
   ],
   "source": [
    "!git clone https://github.com/AlexandreAdam/Censai.git\n",
    "%cd Censai\n",
    "!git checkout eager2.4\n",
    "!python setup.py install"
   ]
  },
  {
   "cell_type": "code",
   "execution_count": 2,
   "metadata": {
    "colab": {
     "base_uri": "https://localhost:8080/"
    },
    "id": "A5N9uONFjFB3",
    "outputId": "e21e05b3-ce79-4970-e568-9aaff7a4b979"
   },
   "outputs": [
    {
     "name": "stdout",
     "output_type": "stream",
     "text": [
      "Requirement already satisfied: tensorflow_addons in /usr/local/lib/python3.7/dist-packages (0.12.1)\n",
      "Requirement already satisfied: typeguard>=2.7 in /usr/local/lib/python3.7/dist-packages (from tensorflow_addons) (2.7.1)\n"
     ]
    }
   ],
   "source": [
    "# wanb login\n",
    "%pip install wandb -q\n",
    "%pip install tensorflow_addons\n",
    "import wandb\n"
   ]
  },
  {
   "cell_type": "code",
   "execution_count": 4,
   "metadata": {
    "id": "0ZDq3-7Jhayh"
   },
   "outputs": [],
   "source": [
    "import tensorflow as tf\n",
    "from censai.definitions import RayTracer\n",
    "from censai.data_generator import NISGenerator\n",
    "from datetime import datetime\n",
    "import os\n",
    "import matplotlib.pyplot as plt\n",
    "from mpl_toolkits.axes_grid1 import make_axes_locatable\n",
    "import numpy as np\n",
    "%matplotlib inline\n",
    "# os.mkdir(\"logs\") # run only once"
   ]
  },
  {
   "cell_type": "code",
   "execution_count": 5,
   "metadata": {
    "id": "wK5-gKRJl1He"
   },
   "outputs": [],
   "source": [
    "def main(args):\n",
    "    if wndb:\n",
    "        config = wandb.config\n",
    "        config.learning_rate = args.lr\n",
    "        config.batch_size = args.batch_size\n",
    "        config.epochs = args.epochs\n",
    "        config.architecture=\"RayTracer UNET\"\n",
    "        config.update(args)\n",
    "    gen = NISGenerator(args.total_items, args.batch_size, pixels=args.pixels)\n",
    "    gen_test = NISGenerator(args.validation, args.validation, train=False, pixels=args.pixels)\n",
    "    ray_tracer = RayTracer(args.initializer)\n",
    "    optim = args.optimizer\n",
    "\n",
    "    # setup tensorboard writer (nullwriter in case we do not want to sync)\n",
    "    if args.logdir.lower() != \"none\":\n",
    "        logdir = os.path.join(args.logdir, args.logname)\n",
    "        traindir = os.path.join(logdir, \"train\")\n",
    "        testdir = os.path.join(logdir, \"test\")\n",
    "        if not os.path.isdir(logdir):\n",
    "            os.mkdir(logdir)\n",
    "        if not os.path.isdir(traindir):\n",
    "            os.mkdir(traindir)\n",
    "        if not os.path.isdir(testdir):\n",
    "            os.mkdir(testdir)\n",
    "        train_writer = tf.summary.create_file_writer(traindir)\n",
    "        test_writer = tf.summary.create_file_writer(testdir)\n",
    "    else:\n",
    "        test_writer = nullwriter()\n",
    "        train_writer = nullwriter()\n",
    "\n",
    "    epoch_loss = tf.metrics.Mean()\n",
    "    best_loss = np.inf\n",
    "    patience = args.patience\n",
    "    step = 1\n",
    "    if args.kappalog:\n",
    "      link = lambda x: tf.math.log(x) / tf.math.log(10.)\n",
    "      invlink = lambda x: 10.**(x)\n",
    "    else:\n",
    "      link = lambda x: x\n",
    "      invlink = lambda x: x\n",
    "    for epoch in range(1, args.epochs + 1):\n",
    "        epoch_loss.reset_states()\n",
    "        with train_writer.as_default():\n",
    "            for batch, (kappa, alpha) in enumerate(gen):\n",
    "        #========== Forward and backprop ==========\n",
    "                with tf.GradientTape() as tape:\n",
    "                    tape.watch(ray_tracer.trainable_variables)\n",
    "                    cost = ray_tracer.cost(link(kappa), alpha) # call + MSE loss function\n",
    "                    cost += tf.reduce_sum(ray_tracer.losses) # add regularizer loss\n",
    "                gradient = tape.gradient(cost, ray_tracer.trainable_variables)\n",
    "                if args.clipping:\n",
    "                    clipped_gradient = [tf.clip_by_value(grad, -10, 10) for grad in gradient]\n",
    "                else:\n",
    "                    clipped_gradient = gradient\n",
    "                optim.apply_gradients(zip(clipped_gradient, ray_tracer.trainable_variables)) # backprop\n",
    "\n",
    "        #========== Summary and logs ==========\n",
    "                epoch_loss.update_state([cost])\n",
    "                tf.summary.scalar(\"MSE\", cost, step=step)\n",
    "                step += 1\n",
    "            # tf.summary.scalar(\"Learning Rate\", optim.lr(step), step=step)\n",
    "        with test_writer.as_default():\n",
    "            for (kappa, alpha) in gen_test:\n",
    "                test_cost = ray_tracer.cost(kappa, alpha)\n",
    "            tf.summary.scalar(\"MSE\", test_cost, step=step)\n",
    "        print(f\"epoch {epoch} | train loss {epoch_loss.result().numpy():.3e} | val loss {test_cost.numpy():.3e}\") #| learning rate {optim.lr(step).numpy():.2e}\")\n",
    "        if test_cost < best_loss - args.tolerance:\n",
    "          best_loss = test_cost\n",
    "          patience = args.patience\n",
    "        else:\n",
    "          patience -= 1\n",
    "        if patience == 0:\n",
    "          print(\"Reached patience\")\n",
    "          break\n",
    "\n",
    "    return gen, gen_test, ray_tracer, epoch_loss.result()"
   ]
  },
  {
   "cell_type": "code",
   "execution_count": 8,
   "metadata": {
    "id": "eCZCxz4BIZUc"
   },
   "outputs": [],
   "source": [
    "# quick hack to make a config like args of ArgumentParser\n",
    "class AttrDict(dict):\n",
    "    def __init__(self, *args, **kwargs):\n",
    "        super(AttrDict, self).__init__(*args, **kwargs)\n",
    "        self.__dict__ = self\n",
    "\n",
    "lr = 1e-3\n",
    "decay_steps=100\n",
    "decay_rate=0.95\n",
    "lr_schedule = tf.keras.optimizers.schedules.ExponentialDecay(\n",
    "    lr,\n",
    "    decay_steps=decay_steps,\n",
    "    decay_rate=decay_rate,\n",
    "    staircase=True)\n",
    "init_range = 0.1\n",
    "# initializer = tf.keras.initializers.RandomUniform(minval=-init_range, maxval=init_range)\n",
    "# initializer = tf.keras.initializers.RandomNormal(mean=0.0, stddev=init_range)\n",
    "initializer = tf.keras.initializers.GlorotNormal()\n",
    "# setup hyperparameter and other configs\n",
    "date = datetime.now().strftime(\"%y-%m-%d_%H-%M-%S\")\n",
    "Config = AttrDict()\n",
    "Config.update({\n",
    "    #hparams\n",
    "    \"epochs\": 10,\n",
    "    \"lr\": lr, # initial learning rate\n",
    "    \"decay_steps\": decay_steps,\n",
    "    \"decay_rate\": decay_rate,\n",
    "    \"batch_size\": 10,\n",
    "    \"kappalog\": False,\n",
    "    \"clipping\": False,\n",
    "    \"pixels\": 256,\n",
    "    # \"initializer_range\":init_range,\n",
    "    \"initializer_type\": \"glorot_normal\",\n",
    "    \"optimizer_name\": \"Adam\",\n",
    "    #configs\n",
    "    \"total_items\": 100, # items per epochs\n",
    "    \"logdir\": \"logs\",\n",
    "    \"logname\": date,\n",
    "    \"validation\": 100,\n",
    "    \"patience\": np.inf,\n",
    "    \"tolerance\": 0,\n",
    "    # \"schedule\": lr_schedule,\n",
    "    \"initializer\": initializer,\n",
    "    \"optimizer\": tf.keras.optimizers.Adam(learning_rate=lr_schedule),\n",
    "    \"note\": \"Data generator updated parameter space. x_c does not vary anymore, fixed t0 0.05\"\n",
    "\n",
    "})\n"
   ]
  },
  {
   "cell_type": "code",
   "execution_count": 9,
   "metadata": {
    "colab": {
     "base_uri": "https://localhost:8080/",
     "height": 940,
     "referenced_widgets": [
      "79311950feca40e092c8a39876152061",
      "cb5b34bc750e48e7826901ae4c53c64d",
      "9560b2f7d10d4151bdea19c7fd492171",
      "94b907d7a11248ffb58fc604e7d5b0ea",
      "df8f36f29f054cc7973620b1483b5314",
      "39faa577c70d4183b8480b9f97212a14",
      "3361e28f312e482ea5b687be01e11353",
      "e1e67abec2cc4495863866d1d36eef75"
     ]
    },
    "id": "3svWap9PJ9Kl",
    "outputId": "1a7645dd-d9bc-40fb-86d7-93e168ca7d7e"
   },
   "outputs": [
    {
     "data": {
      "text/html": [
       "Finishing last run (ID:38o4e63r) before initializing another..."
      ],
      "text/plain": [
       "<IPython.core.display.HTML object>"
      ]
     },
     "metadata": {
      "tags": []
     },
     "output_type": "display_data"
    },
    {
     "data": {
      "text/html": [
       "<br/>Waiting for W&B process to finish, PID 344<br/>Program ended successfully."
      ],
      "text/plain": [
       "<IPython.core.display.HTML object>"
      ]
     },
     "metadata": {
      "tags": []
     },
     "output_type": "display_data"
    },
    {
     "data": {
      "application/vnd.jupyter.widget-view+json": {
       "model_id": "79311950feca40e092c8a39876152061",
       "version_major": 2,
       "version_minor": 0
      },
      "text/plain": [
       "VBox(children=(Label(value=' 0.03MB of 0.03MB uploaded (0.00MB deduped)\\r'), FloatProgress(value=1.0, max=1.0)…"
      ]
     },
     "metadata": {
      "tags": []
     },
     "output_type": "display_data"
    },
    {
     "data": {
      "text/html": [
       "Find user logs for this run at: <code>/content/Censai/wandb/run-20210319_200453-38o4e63r/logs/debug.log</code>"
      ],
      "text/plain": [
       "<IPython.core.display.HTML object>"
      ]
     },
     "metadata": {
      "tags": []
     },
     "output_type": "display_data"
    },
    {
     "data": {
      "text/html": [
       "Find internal logs for this run at: <code>/content/Censai/wandb/run-20210319_200453-38o4e63r/logs/debug-internal.log</code>"
      ],
      "text/plain": [
       "<IPython.core.display.HTML object>"
      ]
     },
     "metadata": {
      "tags": []
     },
     "output_type": "display_data"
    },
    {
     "data": {
      "text/html": [
       "<h3>Run summary:</h3><br/><style>\n",
       "    table.wandb td:nth-child(1) { padding: 0 10px; text-align: right }\n",
       "    </style><table class=\"wandb\">\n",
       "<tr><td>train/global_step</td><td>450</td></tr><tr><td>_timestamp</td><td>1616184393.94721</td></tr><tr><td>train/MSE</td><td>1.58946</td></tr><tr><td>global_step</td><td>451</td></tr><tr><td>_step</td><td>459</td></tr><tr><td>test/global_step</td><td>451</td></tr><tr><td>test/MSE</td><td>1.62661</td></tr></table>"
      ],
      "text/plain": [
       "<IPython.core.display.HTML object>"
      ]
     },
     "metadata": {
      "tags": []
     },
     "output_type": "display_data"
    },
    {
     "data": {
      "text/html": [
       "<h3>Run history:</h3><br/><style>\n",
       "    table.wandb td:nth-child(1) { padding: 0 10px; text-align: right }\n",
       "    </style><table class=\"wandb\">\n",
       "<tr><td>train/global_step</td><td>▁▁▁▂▂▂▂▂▂▃▃▃▃▃▃▄▄▄▄▄▅▅▅▅▅▅▆▆▆▆▆▇▇▇▇▇▇███</td></tr><tr><td>_timestamp</td><td>▁▁▁▁▁▁▁▁▁▁▁▁▁▁▁▁▁▁▁▁▁▁▁▁▁▁▁▁▁▁▁▁▁▁▁█████</td></tr><tr><td>train/MSE</td><td>▇▄▃▄▁▄▅▅▄▂▃▄▅▅▄▄▂▅▃▆▄▂▆▅▂▂█▅▃▂▂▆▅▂▄▄▃▂▃▃</td></tr><tr><td>global_step</td><td>▁▁▁▂▂▂▂▂▃▃▃▃▃▃▃▄▄▄▄▄▅▅▅▅▅▅▆▆▆▆▆▇▇▇▇▇▇███</td></tr><tr><td>_step</td><td>▁▁▁▁▂▂▂▂▂▃▃▃▃▃▃▄▄▄▄▄▅▅▅▅▅▅▆▆▆▆▆▇▇▇▇▇▇███</td></tr><tr><td>test/global_step</td><td>▁▁▁▁▂▂▂▂▂▃▃▃▃▃▃▄▄▄▄▄▄▅▅▅▅▅▆▆▆▆▆▆▇▇▇▇▇███</td></tr><tr><td>test/MSE</td><td>█▄▃▂▂▂▂▂▂▂▂▂▁▁▁▁▁▁▁▁▁▁▁▁▁▁▁▁▁▁▁▁▁▁▁▁▁▁▁▁</td></tr></table><br/>"
      ],
      "text/plain": [
       "<IPython.core.display.HTML object>"
      ]
     },
     "metadata": {
      "tags": []
     },
     "output_type": "display_data"
    },
    {
     "data": {
      "text/html": [
       "Synced 5 W&B file(s), 0 media file(s), 0 artifact file(s) and 2 other file(s)"
      ],
      "text/plain": [
       "<IPython.core.display.HTML object>"
      ]
     },
     "metadata": {
      "tags": []
     },
     "output_type": "display_data"
    },
    {
     "data": {
      "text/html": [
       "\n",
       "                    <br/>Synced <strong style=\"color:#cdcd00\">crimson-brook-71</strong>: <a href=\"https://wandb.ai/adam-alexandre01123/censai/runs/38o4e63r\" target=\"_blank\">https://wandb.ai/adam-alexandre01123/censai/runs/38o4e63r</a><br/>\n",
       "                "
      ],
      "text/plain": [
       "<IPython.core.display.HTML object>"
      ]
     },
     "metadata": {
      "tags": []
     },
     "output_type": "display_data"
    },
    {
     "data": {
      "text/html": [
       "...Successfully finished last run (ID:38o4e63r). Initializing new run:<br/><br/>"
      ],
      "text/plain": [
       "<IPython.core.display.HTML object>"
      ]
     },
     "metadata": {
      "tags": []
     },
     "output_type": "display_data"
    },
    {
     "data": {
      "text/html": [
       "\n",
       "                Tracking run with wandb version 0.10.22<br/>\n",
       "                Syncing run <strong style=\"color:#cdcd00\">fallen-grass-72</strong> to <a href=\"https://wandb.ai\" target=\"_blank\">Weights & Biases</a> <a href=\"https://docs.wandb.com/integrations/jupyter.html\" target=\"_blank\">(Documentation)</a>.<br/>\n",
       "                Project page: <a href=\"https://wandb.ai/adam-alexandre01123/censai\" target=\"_blank\">https://wandb.ai/adam-alexandre01123/censai</a><br/>\n",
       "                Run page: <a href=\"https://wandb.ai/adam-alexandre01123/censai/runs/2b8ubi4b\" target=\"_blank\">https://wandb.ai/adam-alexandre01123/censai/runs/2b8ubi4b</a><br/>\n",
       "                Run data is saved locally in <code>/content/Censai/wandb/run-20210319_200639-2b8ubi4b</code><br/><br/>\n",
       "            "
      ],
      "text/plain": [
       "<IPython.core.display.HTML object>"
      ]
     },
     "metadata": {
      "tags": []
     },
     "output_type": "display_data"
    },
    {
     "name": "stderr",
     "output_type": "stream",
     "text": [
      "\u001b[34m\u001b[1mwandb\u001b[0m: \u001b[33mWARNING\u001b[0m When using several event log directories, please call wandb.tensorboard.patch(root_logdir=\"...\") before wandb.init\n",
      "\u001b[34m\u001b[1mwandb\u001b[0m: \u001b[33mWARNING\u001b[0m When using several event log directories, please call wandb.tensorboard.patch(root_logdir=\"...\") before wandb.init\n"
     ]
    },
    {
     "name": "stdout",
     "output_type": "stream",
     "text": [
      "epoch 1 | train loss 1.702e+00 | val loss 1.632e+00\n",
      "epoch 2 | train loss 1.637e+00 | val loss 1.635e+00\n",
      "epoch 3 | train loss 1.608e+00 | val loss 1.628e+00\n",
      "epoch 4 | train loss 1.799e+00 | val loss 1.630e+00\n",
      "epoch 5 | train loss 1.613e+00 | val loss 1.626e+00\n",
      "epoch 6 | train loss 1.594e+00 | val loss 1.628e+00\n",
      "epoch 7 | train loss 1.779e+00 | val loss 1.629e+00\n",
      "epoch 8 | train loss 1.679e+00 | val loss 1.628e+00\n",
      "epoch 9 | train loss 1.668e+00 | val loss 1.627e+00\n",
      "epoch 10 | train loss 1.637e+00 | val loss 1.627e+00\n"
     ]
    }
   ],
   "source": [
    "wndb = True\n",
    "wandb.init(project=\"censai\", entity=\"adam-alexandre01123\", sync_tensorboard=True)\n",
    "gen, gen_test, ray_tracer, loss = main(Config)"
   ]
  },
  {
   "cell_type": "code",
   "execution_count": 10,
   "metadata": {
    "id": "xj94RDwqKi_d"
   },
   "outputs": [],
   "source": [
    "kap, alp = gen_test[0]"
   ]
  },
  {
   "cell_type": "code",
   "execution_count": 11,
   "metadata": {
    "id": "KCknOcHSl_RX"
   },
   "outputs": [],
   "source": [
    "if Config.kappalog:\n",
    "  link = lambda x: tf.math.log(x) / tf.math.log(10.)\n",
    "  invlink = lambda x: 10.**(x)\n",
    "else:\n",
    "  link = lambda x: x\n",
    "  invlink = lambda x: x\n",
    "\n",
    "alpha_pred = ray_tracer(link(kap))"
   ]
  },
  {
   "cell_type": "code",
   "execution_count": 14,
   "metadata": {
    "colab": {
     "base_uri": "https://localhost:8080/",
     "height": 281
    },
    "id": "KdrDy9NufbKV",
    "outputId": "d15d587b-1714-4142-bed3-bb217b62f155"
   },
   "outputs": [
    {
     "data": {
      "image/png": "[encoded data removed]",
      "text/plain": [
       "<Figure size 1152x288 with 6 Axes>"
      ]
     },
     "metadata": {
      "needs_background": "light",
      "tags": []
     },
     "output_type": "display_data"
    }
   ],
   "source": [
    "ind = 0\n",
    "dim = 0\n",
    "\n",
    "\n",
    "fig, (ax1, ax2, ax3) = plt.subplots(1, 3, figsize=(16, 4))\n",
    "im = ax1.imshow(alp.numpy()[ind, ..., dim], cmap=\"hot\", origin=\"lower\")\n",
    "divider = make_axes_locatable(ax1)\n",
    "cax    = divider.append_axes(\"right\", size=\"5%\", pad=0.05) \n",
    "plt.colorbar(im,cax=cax)   \n",
    "ax1.set_title(\"Ground Truth\")\n",
    "\n",
    "im = ax2.imshow(alpha_pred.numpy()[ind, ..., dim], cmap=\"hot\", origin=\"lower\")\n",
    "divider = make_axes_locatable(ax2)\n",
    "cax    = divider.append_axes(\"right\", size=\"5%\", pad=0.05) \n",
    "plt.colorbar(im,cax=cax)   \n",
    "ax2.set_title(\"Prediction\")\n",
    "\n",
    "\n",
    "residual = np.abs(alpha_pred.numpy()[ind, ..., dim] - alp.numpy()[ind, ..., dim])\n",
    "im = ax3.imshow(residual, cmap=\"hot\", origin=\"lower\")\n",
    "divider = make_axes_locatable(ax3)\n",
    "cax    = divider.append_axes(\"right\", size=\"5%\", pad=0.05) \n",
    "plt.colorbar(im,cax=cax)\n",
    "ax3.set_title(\"Residual\")\n",
    "\n",
    "pass"
   ]
  },
  {
   "cell_type": "code",
   "execution_count": 13,
   "metadata": {
    "colab": {
     "base_uri": "https://localhost:8080/",
     "height": 265
    },
    "id": "lnByrpYIfszD",
    "outputId": "94bdf582-30fe-4209-828d-c030e64b1384"
   },
   "outputs": [
    {
     "data": {
      "image/png": "[encoded data removed]",
      "text/plain": [
       "<Figure size 432x288 with 2 Axes>"
      ]
     },
     "metadata": {
      "needs_background": "light",
      "tags": []
     },
     "output_type": "display_data"
    }
   ],
   "source": [
    "plt.imshow(kap.numpy()[ind, ..., 0], cmap=\"hot\", origin=\"lower\")\n",
    "plt.colorbar()\n",
    "pass"
   ]
  },
  {
   "cell_type": "code",
   "execution_count": null,
   "metadata": {
    "id": "8kjsQ8TRCJER"
   },
   "outputs": [],
   "source": []
  }
 ],
 "metadata": {
  "accelerator": "GPU",
  "colab": {
   "authorship_tag": "ABX9TyOybH5g16zjEDdIuZO3sIwa",
   "collapsed_sections": [],
   "include_colab_link": true,
   "name": "train_raytracer.ipynb",
   "provenance": []
  },
  "kernelspec": {
   "display_name": "Python 3",
   "language": "python",
   "name": "python3"
  },
  "language_info": {
   "codemirror_mode": {
    "name": "ipython",
    "version": 3
   },
   "file_extension": ".py",
   "mimetype": "text/x-python",
   "name": "python",
   "nbconvert_exporter": "python",
   "pygments_lexer": "ipython3",
   "version": "3.8.0"
  },
  "widgets": {
   "application/vnd.jupyter.widget-state+json": {
    "3361e28f312e482ea5b687be01e11353": {
     "model_module": "@jupyter-widgets/controls",
     "model_name": "ProgressStyleModel",
     "state": {
      "_model_module": "@jupyter-widgets/controls",
      "_model_module_version": "1.5.0",
      "_model_name": "ProgressStyleModel",
      "_view_count": null,
      "_view_module": "@jupyter-widgets/base",
      "_view_module_version": "1.2.0",
      "_view_name": "StyleView",
      "bar_color": null,
      "description_width": ""
     }
    },
    "39faa577c70d4183b8480b9f97212a14": {
     "model_module": "@jupyter-widgets/base",
     "model_name": "LayoutModel",
     "state": {
      "_model_module": "@jupyter-widgets/base",
      "_model_module_version": "1.2.0",
      "_model_name": "LayoutModel",
      "_view_count": null,
      "_view_module": "@jupyter-widgets/base",
      "_view_module_version": "1.2.0",
      "_view_name": "LayoutView",
      "align_content": null,
      "align_items": null,
      "align_self": null,
      "border": null,
      "bottom": null,
      "display": null,
      "flex": null,
      "flex_flow": null,
      "grid_area": null,
      "grid_auto_columns": null,
      "grid_auto_flow": null,
      "grid_auto_rows": null,
      "grid_column": null,
      "grid_gap": null,
      "grid_row": null,
      "grid_template_areas": null,
      "grid_template_columns": null,
      "grid_template_rows": null,
      "height": null,
      "justify_content": null,
      "justify_items": null,
      "left": null,
      "margin": null,
      "max_height": null,
      "max_width": null,
      "min_height": null,
      "min_width": null,
      "object_fit": null,
      "object_position": null,
      "order": null,
      "overflow": null,
      "overflow_x": null,
      "overflow_y": null,
      "padding": null,
      "right": null,
      "top": null,
      "visibility": null,
      "width": null
     }
    },
    "79311950feca40e092c8a39876152061": {
     "model_module": "@jupyter-widgets/controls",
     "model_name": "VBoxModel",
     "state": {
      "_dom_classes": [],
      "_model_module": "@jupyter-widgets/controls",
      "_model_module_version": "1.5.0",
      "_model_name": "VBoxModel",
      "_view_count": null,
      "_view_module": "@jupyter-widgets/controls",
      "_view_module_version": "1.5.0",
      "_view_name": "VBoxView",
      "box_style": "",
      "children": [
       "IPY_MODEL_9560b2f7d10d4151bdea19c7fd492171",
       "IPY_MODEL_94b907d7a11248ffb58fc604e7d5b0ea"
      ],
      "layout": "IPY_MODEL_cb5b34bc750e48e7826901ae4c53c64d"
     }
    },
    "94b907d7a11248ffb58fc604e7d5b0ea": {
     "model_module": "@jupyter-widgets/controls",
     "model_name": "FloatProgressModel",
     "state": {
      "_dom_classes": [],
      "_model_module": "@jupyter-widgets/controls",
      "_model_module_version": "1.5.0",
      "_model_name": "FloatProgressModel",
      "_view_count": null,
      "_view_module": "@jupyter-widgets/controls",
      "_view_module_version": "1.5.0",
      "_view_name": "ProgressView",
      "bar_style": "",
      "description": "",
      "description_tooltip": null,
      "layout": "IPY_MODEL_e1e67abec2cc4495863866d1d36eef75",
      "max": 1,
      "min": 0,
      "orientation": "horizontal",
      "style": "IPY_MODEL_3361e28f312e482ea5b687be01e11353",
      "value": 1
     }
    },
    "9560b2f7d10d4151bdea19c7fd492171": {
     "model_module": "@jupyter-widgets/controls",
     "model_name": "LabelModel",
     "state": {
      "_dom_classes": [],
      "_model_module": "@jupyter-widgets/controls",
      "_model_module_version": "1.5.0",
      "_model_name": "LabelModel",
      "_view_count": null,
      "_view_module": "@jupyter-widgets/controls",
      "_view_module_version": "1.5.0",
      "_view_name": "LabelView",
      "description": "",
      "description_tooltip": null,
      "layout": "IPY_MODEL_39faa577c70d4183b8480b9f97212a14",
      "placeholder": "​",
      "style": "IPY_MODEL_df8f36f29f054cc7973620b1483b5314",
      "value": " 0.04MB of 0.04MB uploaded (0.00MB deduped)\r"
     }
    },
    "cb5b34bc750e48e7826901ae4c53c64d": {
     "model_module": "@jupyter-widgets/base",
     "model_name": "LayoutModel",
     "state": {
      "_model_module": "@jupyter-widgets/base",
      "_model_module_version": "1.2.0",
      "_model_name": "LayoutModel",
      "_view_count": null,
      "_view_module": "@jupyter-widgets/base",
      "_view_module_version": "1.2.0",
      "_view_name": "LayoutView",
      "align_content": null,
      "align_items": null,
      "align_self": null,
      "border": null,
      "bottom": null,
      "display": null,
      "flex": null,
      "flex_flow": null,
      "grid_area": null,
      "grid_auto_columns": null,
      "grid_auto_flow": null,
      "grid_auto_rows": null,
      "grid_column": null,
      "grid_gap": null,
      "grid_row": null,
      "grid_template_areas": null,
      "grid_template_columns": null,
      "grid_template_rows": null,
      "height": null,
      "justify_content": null,
      "justify_items": null,
      "left": null,
      "margin": null,
      "max_height": null,
      "max_width": null,
      "min_height": null,
      "min_width": null,
      "object_fit": null,
      "object_position": null,
      "order": null,
      "overflow": null,
      "overflow_x": null,
      "overflow_y": null,
      "padding": null,
      "right": null,
      "top": null,
      "visibility": null,
      "width": null
     }
    },
    "df8f36f29f054cc7973620b1483b5314": {
     "model_module": "@jupyter-widgets/controls",
     "model_name": "DescriptionStyleModel",
     "state": {
      "_model_module": "@jupyter-widgets/controls",
      "_model_module_version": "1.5.0",
      "_model_name": "DescriptionStyleModel",
      "_view_count": null,
      "_view_module": "@jupyter-widgets/base",
      "_view_module_version": "1.2.0",
      "_view_name": "StyleView",
      "description_width": ""
     }
    },
    "e1e67abec2cc4495863866d1d36eef75": {
     "model_module": "@jupyter-widgets/base",
     "model_name": "LayoutModel",
     "state": {
      "_model_module": "@jupyter-widgets/base",
      "_model_module_version": "1.2.0",
      "_model_name": "LayoutModel",
      "_view_count": null,
      "_view_module": "@jupyter-widgets/base",
      "_view_module_version": "1.2.0",
      "_view_name": "LayoutView",
      "align_content": null,
      "align_items": null,
      "align_self": null,
      "border": null,
      "bottom": null,
      "display": null,
      "flex": null,
      "flex_flow": null,
      "grid_area": null,
      "grid_auto_columns": null,
      "grid_auto_flow": null,
      "grid_auto_rows": null,
      "grid_column": null,
      "grid_gap": null,
      "grid_row": null,
      "grid_template_areas": null,
      "grid_template_columns": null,
      "grid_template_rows": null,
      "height": null,
      "justify_content": null,
      "justify_items": null,
      "left": null,
      "margin": null,
      "max_height": null,
      "max_width": null,
      "min_height": null,
      "min_width": null,
      "object_fit": null,
      "object_position": null,
      "order": null,
      "overflow": null,
      "overflow_x": null,
      "overflow_y": null,
      "padding": null,
      "right": null,
      "top": null,
      "visibility": null,
      "width": null
     }
    }
   }
  }
 },
 "nbformat": 4,
 "nbformat_minor": 4
}
