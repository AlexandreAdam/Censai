{
 "cells": [
  {
   "cell_type": "code",
   "execution_count": 1,
   "metadata": {},
   "outputs": [],
   "source": [
    "import tensorflow as tf\n",
    "import numpy as np\n",
    "# import Censai as Celi\n",
    "from astropy.io import fits\n",
    "%matplotlib inline\n",
    "import matplotlib.pyplot as plt"
   ]
  },
  {
   "cell_type": "code",
   "execution_count": 36,
   "metadata": {},
   "outputs": [],
   "source": [
    "import tensorflow as tf\n",
    "import numpy as np\n",
    "from scipy import interpolate\n",
    "\n",
    "\n",
    "\n",
    "def gen_source(x_src = 0, y_src = 0, sigma_src = 1, numpix_side = 192):\n",
    "    \n",
    "    x = np.linspace(-1, 1, numkappa_side) * kap_side_length/2\n",
    "    y = np.linspace(-1, 1, numkappa_side) * kap_side_length/2\n",
    "    Xsrc, Ysrc = np.meshgrid(x, y)\n",
    "    \n",
    "    Im = np.sqrt(((Xsrc-x_src)**2+(Ysrc-y_src)**2) / (2.*sigma_src**2) )\n",
    "    \n",
    "    return Im\n",
    "\n",
    "\n",
    "\n",
    "def Kappa_fun(xlens, ylens, elp, phi, sigma_v, numkappa_side = 193, kap_side_length = 2, rc=0, Ds = 1753486987.8422, Dds = 1125770220.58881, c = 299800000):\n",
    "    \n",
    "    x = np.linspace(-1, 1, numkappa_side) * kap_side_length/2\n",
    "    y = np.linspace(-1, 1, numkappa_side) * kap_side_length/2\n",
    "    xv, yv = np.meshgrid(x, y)\n",
    "    \n",
    "    A = (y[1]-y[0])/2. *(2*np.pi/ (360*3600) )\n",
    "    \n",
    "    rcord, thetacord = np.sqrt(xv**2 + yv**2) , np.arctan2(xv, yv)\n",
    "    thetacord = thetacord - phi\n",
    "    Xkap, Ykap = rcord*np.cos(thetacord), rcord*np.sin(thetacord)\n",
    "    \n",
    "    rlens, thetalens = np.sqrt(xlens**2 + ylens**2) , np.arctan2(xlens, ylens)\n",
    "    thetalens = thetalens - phi\n",
    "    xlens, ylens = rlens*np.cos(thetalens), rlens*np.sin(thetalens)\n",
    "    \n",
    "    r = np.sqrt((Xkap-xlens)**2 + ((Ykap-ylens) * (1-elp) )**2) *(2*np.pi/ (360*3600) )\n",
    "    \n",
    "    Rein = (4*np.pi*sigma_v**2/c**2) * Dds /Ds \n",
    "    \n",
    "    kappa = np.divide( np.sqrt(1-elp)* Rein ,  (2* np.sqrt( r**2 + rc**2)))\n",
    "    \n",
    "    mass_inside_00_pix = 2.*A*(np.log(2.**(1./2.) + 1.) - np.log(2.**(1./2.)*A - A) + np.log(3.*A + 2.*2.**(1./2.)*A))\n",
    "    \n",
    "    print A\n",
    "    print mass_inside_00_pix\n",
    "    \n",
    "    density_00_pix = np.sqrt(1.-elp) * Rein/(2.) * mass_inside_00_pix/((2.*A)**2.)\n",
    "    \n",
    "    print density_00_pix\n",
    "    \n",
    "    ind = np.argmin(r)\n",
    "    \n",
    "    kappa.flat[ind] = density_00_pix\n",
    "    \n",
    "    return kappa\n",
    "\n",
    "    \n",
    "class Likelihood(object):\n",
    "    '''\n",
    "    This class will contain the\n",
    "    likelihood that will be fed to the RIM\n",
    "\n",
    "    '''\n",
    "    #img_pl,lens_pl,noise,noise_cov\n",
    "    def __init__(self, im_side= 7.68, src_side=1.5, numpix_side = 192):\n",
    "        '''\n",
    "        Initialize the object.\n",
    "        '''\n",
    "        \n",
    "        self.im_side = im_side \n",
    "        self.numpix_side = numpix_side\n",
    "        self.src_side     = src_side\n",
    "\n",
    "\n",
    "    def get_deflection_angles(self, Xim, Yim, Kappa, kap_cent, kap_side):\n",
    "        #Calculate the Xsrc, Ysrc from the Xim, Yim for a given kappa map\n",
    "        \n",
    "        kap_numpix = (Kappa.shape.as_list())[1]\n",
    "        dx_kap = kap_side/(kap_numpix-1)\n",
    "        \n",
    "        x = tf.linspace(-1., 1., kap_numpix*2)*kap_side\n",
    "        y = tf.linspace(-1., 1., kap_numpix*2)*kap_side\n",
    "        X_filt, Y_filt = tf.meshgrid(x, y)\n",
    "        \n",
    "#         tf.add_to_collection('xfilt', X_filt)\n",
    "#         tf.add_to_collection('yfilt', Y_filt)\n",
    "        \n",
    "        kernel_denom = tf.square(X_filt) + tf.square(Y_filt)\n",
    "        Xconv_kernel = tf.divide(-X_filt , kernel_denom) \n",
    "        Yconv_kernel = tf.divide(-Y_filt , kernel_denom) \n",
    "        \n",
    "#         tf.add_to_collection('xker', Xconv_kernel)\n",
    "#         tf.add_to_collection('yker', Yconv_kernel)\n",
    "        \n",
    "        Xconv_kernel = tf.reshape(Xconv_kernel, [kap_numpix*2, kap_numpix*2, 1,1])\n",
    "        Yconv_kernel = tf.reshape(Yconv_kernel, [kap_numpix*2, kap_numpix*2, 1,1])\n",
    "        \n",
    "#         tf.add_to_collection('xker2', Xconv_kernel)\n",
    "#         tf.add_to_collection('yker2', Yconv_kernel)\n",
    "        \n",
    "        alpha_x = tf.nn.conv2d(Kappa, Xconv_kernel, [1, 1, 1, 1], \"SAME\") * (dx_kap**2/np.pi);\n",
    "        alpha_y = tf.nn.conv2d(Kappa, Yconv_kernel, [1, 1, 1, 1], \"SAME\") * (dx_kap**2/np.pi);\n",
    "        \n",
    "        tf.add_to_collection('alpha_x', alpha_x)\n",
    "        tf.add_to_collection('alpha_y', alpha_y)\n",
    "        \n",
    "        #X_kap = tf.linspace(-0.5, 0.5, kap_numpix)*kap_side/1.\n",
    "        #Y_kap = tf.linspace(-0.5, 0.5, kap_numpix)*kap_side/1.\n",
    "        #Xkap, Ykap = tf.meshgrid(X_kap, Y_kap)\n",
    "        \n",
    "        Xim = tf.reshape(Xim, [-1, self.numpix_side, self.numpix_side, 1])\n",
    "        Yim = tf.reshape(Yim, [-1, self.numpix_side, self.numpix_side, 1])\n",
    "        \n",
    "        \n",
    "        x_centshif = -(kap_cent[0]*(1./dx_kap))*tf.ones([1, self.numpix_side, self.numpix_side, 1], dtype=tf.float32) \n",
    "        x_centshif = tf.reshape(x_centshif, [-1, self.numpix_side, self.numpix_side, 1])\n",
    "        x_resize = tf.scalar_mul( (1./dx_kap), tf.math.add(Xim, 0.5*kap_side*tf.ones([1, self.numpix_side, self.numpix_side, 1], dtype=tf.float32)) )\n",
    "        x_resize = tf.reshape(x_resize, [-1, self.numpix_side, self.numpix_side, 1])\n",
    "        \n",
    "        Xim_pix = tf.math.add( x_centshif , x_resize )  \n",
    "        \n",
    "        \n",
    "        \n",
    "        y_centshif = -(kap_cent[1]*(1./dx_kap))*tf.ones([1, self.numpix_side, self.numpix_side, 1], dtype=tf.float32) \n",
    "        y_centshif = tf.reshape(y_centshif, [-1, self.numpix_side, self.numpix_side, 1])\n",
    "        y_resize = tf.scalar_mul( (1./dx_kap), tf.math.add(Yim, 0.5*kap_side*tf.ones([1, self.numpix_side, self.numpix_side, 1], dtype=tf.float32)) )\n",
    "        y_resize = tf.reshape(y_resize, [-1, self.numpix_side, self.numpix_side, 1])\n",
    "        \n",
    "        Yim_pix = tf.math.add( y_centshif , y_resize )  \n",
    "        \n",
    "        \n",
    "        \n",
    "        Xim_pix = tf.reshape(Xim_pix ,  [1, self.numpix_side, self.numpix_side, 1])\n",
    "        Yim_pix = tf.reshape(Yim_pix ,  [1, self.numpix_side, self.numpix_side, 1])\n",
    "        \n",
    "        wrap = tf.reshape( tf.stack([Xim_pix, Yim_pix], axis = 3), [1, self.numpix_side, self.numpix_side, 2])\n",
    "        \n",
    "        \n",
    "        alphax_interp = tf.contrib.resampler.resampler(alpha_x, wrap)\n",
    "        alphay_interp = tf.contrib.resampler.resampler(alpha_y, wrap)\n",
    "        \n",
    "        Xsrc = tf.math.add(tf.reshape(Xim, [1, self.numpix_side, self.numpix_side, 1]),  -alphax_interp )\n",
    "        Ysrc = tf.math.add(tf.reshape(Yim, [1, self.numpix_side, self.numpix_side, 1]),  -alphay_interp )\n",
    "        \n",
    "        tf.add_to_collection('Xsrc', Xsrc)\n",
    "        tf.add_to_collection('Ysrc', Ysrc)\n",
    "        \n",
    "        return Xsrc, Ysrc\n",
    "    \n",
    "    def get_lensed_image(self, Kappa, kap_cent, kap_side, Src):\n",
    "        \n",
    "        x = tf.linspace(-1., 1., self.numpix_side)*self.im_side/2.\n",
    "        y = tf.linspace(-1., 1., self.numpix_side)*self.im_side/2.\n",
    "        Xim, Yim = tf.meshgrid(x, y)\n",
    "        \n",
    "        \n",
    "        Xsrc, Ysrc = self.get_deflection_angles(Xim, Yim, Kappa, kap_cent, kap_side)\n",
    "        \n",
    "        Xsrc = tf.reshape(Xsrc, [-1, self.numpix_side, self.numpix_side, 1])\n",
    "        Ysrc = tf.reshape(Ysrc, [-1, self.numpix_side, self.numpix_side, 1])\n",
    "        \n",
    "        #self.src_side = self.src_res *(self.numpix_side-1)\n",
    "        \n",
    "        #dx = self.src_side/(self.numpix_side-1)\n",
    "        \n",
    "        \n",
    "        #Xsrc_pix = tf.scalar_mul( (1./dx), tf.math.add(Xsrc, self.src_side/2.*tf.ones([1, self.numpix_side, self.numpix_side, 1], dtype=tf.float32)) )\n",
    "        #Ysrc_pix = tf.scalar_mul( (1./dx), tf.math.add(Ysrc, self.src_side/2.*tf.ones([1, self.numpix_side, self.numpix_side, 1], dtype=tf.float32)) )\n",
    "        \n",
    "        Xsrc_pix, Ysrc_pix = self.coord_to_pix(Xsrc,Ysrc,0.,0., self.src_side ,self.numpix_side)\n",
    "        \n",
    "        \n",
    "        tf.add_to_collection('Xsrc_pix', Xsrc_pix)\n",
    "        tf.add_to_collection('Ysrc_pix', Ysrc_pix)\n",
    "        \n",
    "        wrap = tf.reshape( tf.stack([Xsrc_pix, Ysrc_pix], axis = 3), [1, self.numpix_side, self.numpix_side, 2])\n",
    "        \n",
    "        \n",
    "        IM = tf.contrib.resampler.resampler(Src, wrap)\n",
    "        \n",
    "        return IM\n",
    "    \n",
    "\n",
    "\n",
    "    def coord_to_pix(self,X,Y,Xc,Yc,l,N):\n",
    "    \n",
    "        xmin = Xc-0.5*l\n",
    "        ymin = Yc-0.5*l\n",
    "        dx = l/(N-1.)\n",
    "\n",
    "        j = tf.scalar_mul(1./dx, tf.math.add(X, -1.* xmin))\n",
    "        i = tf.scalar_mul(1./dx, tf.math.add(Y, -1.* ymin))\n",
    "        \n",
    "        return i, j\n",
    "        \n",
    "        "
   ]
  },
  {
   "cell_type": "code",
   "execution_count": 37,
   "metadata": {},
   "outputs": [],
   "source": [
    "numpix_side = 192\n",
    "numpix_src  = 192\n",
    "\n",
    "Raytracer = Likelihood()"
   ]
  },
  {
   "cell_type": "code",
   "execution_count": 4,
   "metadata": {},
   "outputs": [],
   "source": [
    "sess = tf.InteractiveSession()\n",
    "\n"
   ]
  },
  {
   "cell_type": "code",
   "execution_count": 5,
   "metadata": {},
   "outputs": [],
   "source": [
    "# Src = tf.placeholder(dtype=tf.float32,shape=[None,numpix_src,numpix_src,1])\n",
    "# Kappa = tf.placeholder(dtype=tf.float32,shape=[None,numpix_src,numpix_src,1])"
   ]
  },
  {
   "cell_type": "code",
   "execution_count": 38,
   "metadata": {},
   "outputs": [],
   "source": [
    "#Kappatest = tf.ones([1, 192, 192,1], dtype=tf.float32 )\n",
    "#Srctest = tf.ones([1, 192, 192,1], dtype=tf.float32 )\n",
    "\n",
    "hdul = fits.open('src_2.fits')\n",
    "hdu2 = fits.open('kappa2.fits')\n",
    "source = hdul[0].data\n",
    "kappa = hdu2[0].data\n",
    "hdul.close()\n",
    "hdu2.close()\n",
    "\n",
    "\n",
    "\n",
    "Kappatest = tf.placeholder( tf.float32, [None, 100, 100,1] )\n",
    "Srctest = tf.placeholder( tf.float32, [None, 192, 192,1] )\n",
    "\n",
    "\n",
    "IM = Raytracer.get_lensed_image(Kappatest,[0.25,0.1], 1.5, Srctest)\n",
    "source = (source.T).reshape(1, 192,192,1)\n",
    "kappa = kappa.reshape(1, 100,100,1)\n",
    "\n",
    "imout= sess.run(IM, feed_dict={Srctest: source, Kappatest: kappa})"
   ]
  },
  {
   "cell_type": "code",
   "execution_count": 32,
   "metadata": {},
   "outputs": [
    {
     "ename": "InvalidArgumentError",
     "evalue": "You must feed a value for placeholder tensor 'Placeholder_2' with dtype float and shape [?,100,100,1]\n\t [[Node: Placeholder_2 = Placeholder[dtype=DT_FLOAT, shape=[?,100,100,1], _device=\"/job:localhost/replica:0/task:0/device:CPU:0\"]()]]\n\nCaused by op u'Placeholder_2', defined at:\n  File \"/Users/llevasseur/miniconda2/lib/python2.7/runpy.py\", line 174, in _run_module_as_main\n    \"__main__\", fname, loader, pkg_name)\n  File \"/Users/llevasseur/miniconda2/lib/python2.7/runpy.py\", line 72, in _run_code\n    exec code in run_globals\n  File \"/Users/llevasseur/miniconda2/lib/python2.7/site-packages/ipykernel_launcher.py\", line 16, in <module>\n    app.launch_new_instance()\n  File \"/Users/llevasseur/miniconda2/lib/python2.7/site-packages/traitlets/config/application.py\", line 658, in launch_instance\n    app.start()\n  File \"/Users/llevasseur/miniconda2/lib/python2.7/site-packages/ipykernel/kernelapp.py\", line 497, in start\n    self.io_loop.start()\n  File \"/Users/llevasseur/miniconda2/lib/python2.7/site-packages/tornado/ioloop.py\", line 1073, in start\n    handler_func(fd_obj, events)\n  File \"/Users/llevasseur/miniconda2/lib/python2.7/site-packages/tornado/stack_context.py\", line 300, in null_wrapper\n    return fn(*args, **kwargs)\n  File \"/Users/llevasseur/miniconda2/lib/python2.7/site-packages/zmq/eventloop/zmqstream.py\", line 450, in _handle_events\n    self._handle_recv()\n  File \"/Users/llevasseur/miniconda2/lib/python2.7/site-packages/zmq/eventloop/zmqstream.py\", line 480, in _handle_recv\n    self._run_callback(callback, msg)\n  File \"/Users/llevasseur/miniconda2/lib/python2.7/site-packages/zmq/eventloop/zmqstream.py\", line 432, in _run_callback\n    callback(*args, **kwargs)\n  File \"/Users/llevasseur/miniconda2/lib/python2.7/site-packages/tornado/stack_context.py\", line 300, in null_wrapper\n    return fn(*args, **kwargs)\n  File \"/Users/llevasseur/miniconda2/lib/python2.7/site-packages/ipykernel/kernelbase.py\", line 283, in dispatcher\n    return self.dispatch_shell(stream, msg)\n  File \"/Users/llevasseur/miniconda2/lib/python2.7/site-packages/ipykernel/kernelbase.py\", line 233, in dispatch_shell\n    handler(stream, idents, msg)\n  File \"/Users/llevasseur/miniconda2/lib/python2.7/site-packages/ipykernel/kernelbase.py\", line 399, in execute_request\n    user_expressions, allow_stdin)\n  File \"/Users/llevasseur/miniconda2/lib/python2.7/site-packages/ipykernel/ipkernel.py\", line 208, in do_execute\n    res = shell.run_cell(code, store_history=store_history, silent=silent)\n  File \"/Users/llevasseur/miniconda2/lib/python2.7/site-packages/ipykernel/zmqshell.py\", line 537, in run_cell\n    return super(ZMQInteractiveShell, self).run_cell(*args, **kwargs)\n  File \"/Users/llevasseur/miniconda2/lib/python2.7/site-packages/IPython/core/interactiveshell.py\", line 2714, in run_cell\n    interactivity=interactivity, compiler=compiler, result=result)\n  File \"/Users/llevasseur/miniconda2/lib/python2.7/site-packages/IPython/core/interactiveshell.py\", line 2818, in run_ast_nodes\n    if self.run_code(code, result):\n  File \"/Users/llevasseur/miniconda2/lib/python2.7/site-packages/IPython/core/interactiveshell.py\", line 2878, in run_code\n    exec(code_obj, self.user_global_ns, self.user_ns)\n  File \"<ipython-input-17-bf6d3e3d7ff7>\", line 13, in <module>\n    Kappatest = tf.placeholder( tf.float32, [None, 100, 100,1] )\n  File \"/Users/llevasseur/miniconda2/lib/python2.7/site-packages/tensorflow/python/ops/array_ops.py\", line 1735, in placeholder\n    return gen_array_ops.placeholder(dtype=dtype, shape=shape, name=name)\n  File \"/Users/llevasseur/miniconda2/lib/python2.7/site-packages/tensorflow/python/ops/gen_array_ops.py\", line 4925, in placeholder\n    \"Placeholder\", dtype=dtype, shape=shape, name=name)\n  File \"/Users/llevasseur/miniconda2/lib/python2.7/site-packages/tensorflow/python/framework/op_def_library.py\", line 787, in _apply_op_helper\n    op_def=op_def)\n  File \"/Users/llevasseur/miniconda2/lib/python2.7/site-packages/tensorflow/python/util/deprecation.py\", line 454, in new_func\n    return func(*args, **kwargs)\n  File \"/Users/llevasseur/miniconda2/lib/python2.7/site-packages/tensorflow/python/framework/ops.py\", line 3155, in create_op\n    op_def=op_def)\n  File \"/Users/llevasseur/miniconda2/lib/python2.7/site-packages/tensorflow/python/framework/ops.py\", line 1717, in __init__\n    self._traceback = tf_stack.extract_stack()\n\nInvalidArgumentError (see above for traceback): You must feed a value for placeholder tensor 'Placeholder_2' with dtype float and shape [?,100,100,1]\n\t [[Node: Placeholder_2 = Placeholder[dtype=DT_FLOAT, shape=[?,100,100,1], _device=\"/job:localhost/replica:0/task:0/device:CPU:0\"]()]]\n",
     "output_type": "error",
     "traceback": [
      "\u001b[0;31m---------------------------------------------------------------------------\u001b[0m",
      "\u001b[0;31mInvalidArgumentError\u001b[0m                      Traceback (most recent call last)",
      "\u001b[0;32m<ipython-input-32-e18d138f5968>\u001b[0m in \u001b[0;36m<module>\u001b[0;34m()\u001b[0m\n\u001b[1;32m      1\u001b[0m \u001b[0mxker\u001b[0m \u001b[0;34m=\u001b[0m \u001b[0mtf\u001b[0m\u001b[0;34m.\u001b[0m\u001b[0mget_collection\u001b[0m\u001b[0;34m(\u001b[0m\u001b[0;34m'Xsrc_pix'\u001b[0m\u001b[0;34m)\u001b[0m\u001b[0;34m\u001b[0m\u001b[0m\n\u001b[1;32m      2\u001b[0m \u001b[0myker\u001b[0m \u001b[0;34m=\u001b[0m \u001b[0mtf\u001b[0m\u001b[0;34m.\u001b[0m\u001b[0mget_collection\u001b[0m\u001b[0;34m(\u001b[0m\u001b[0;34m'Ysrc_pix'\u001b[0m\u001b[0;34m)\u001b[0m\u001b[0;34m\u001b[0m\u001b[0m\n\u001b[0;32m----> 3\u001b[0;31m \u001b[0mfx\u001b[0m\u001b[0;34m,\u001b[0m\u001b[0mfy\u001b[0m\u001b[0;34m=\u001b[0m \u001b[0msess\u001b[0m\u001b[0;34m.\u001b[0m\u001b[0mrun\u001b[0m\u001b[0;34m(\u001b[0m\u001b[0;34m[\u001b[0m\u001b[0mxker\u001b[0m\u001b[0;34m,\u001b[0m\u001b[0myker\u001b[0m\u001b[0;34m]\u001b[0m\u001b[0;34m,\u001b[0m \u001b[0mfeed_dict\u001b[0m\u001b[0;34m=\u001b[0m\u001b[0;34m{\u001b[0m\u001b[0mSrctest\u001b[0m\u001b[0;34m:\u001b[0m \u001b[0msource\u001b[0m\u001b[0;34m,\u001b[0m \u001b[0mKappatest\u001b[0m\u001b[0;34m:\u001b[0m \u001b[0mkappa\u001b[0m\u001b[0;34m}\u001b[0m\u001b[0;34m)\u001b[0m\u001b[0;34m\u001b[0m\u001b[0m\n\u001b[0m",
      "\u001b[0;32m/Users/llevasseur/miniconda2/lib/python2.7/site-packages/tensorflow/python/client/session.pyc\u001b[0m in \u001b[0;36mrun\u001b[0;34m(self, fetches, feed_dict, options, run_metadata)\u001b[0m\n\u001b[1;32m    875\u001b[0m     \u001b[0;32mtry\u001b[0m\u001b[0;34m:\u001b[0m\u001b[0;34m\u001b[0m\u001b[0m\n\u001b[1;32m    876\u001b[0m       result = self._run(None, fetches, feed_dict, options_ptr,\n\u001b[0;32m--> 877\u001b[0;31m                          run_metadata_ptr)\n\u001b[0m\u001b[1;32m    878\u001b[0m       \u001b[0;32mif\u001b[0m \u001b[0mrun_metadata\u001b[0m\u001b[0;34m:\u001b[0m\u001b[0;34m\u001b[0m\u001b[0m\n\u001b[1;32m    879\u001b[0m         \u001b[0mproto_data\u001b[0m \u001b[0;34m=\u001b[0m \u001b[0mtf_session\u001b[0m\u001b[0;34m.\u001b[0m\u001b[0mTF_GetBuffer\u001b[0m\u001b[0;34m(\u001b[0m\u001b[0mrun_metadata_ptr\u001b[0m\u001b[0;34m)\u001b[0m\u001b[0;34m\u001b[0m\u001b[0m\n",
      "\u001b[0;32m/Users/llevasseur/miniconda2/lib/python2.7/site-packages/tensorflow/python/client/session.pyc\u001b[0m in \u001b[0;36m_run\u001b[0;34m(self, handle, fetches, feed_dict, options, run_metadata)\u001b[0m\n\u001b[1;32m   1098\u001b[0m     \u001b[0;32mif\u001b[0m \u001b[0mfinal_fetches\u001b[0m \u001b[0;32mor\u001b[0m \u001b[0mfinal_targets\u001b[0m \u001b[0;32mor\u001b[0m \u001b[0;34m(\u001b[0m\u001b[0mhandle\u001b[0m \u001b[0;32mand\u001b[0m \u001b[0mfeed_dict_tensor\u001b[0m\u001b[0;34m)\u001b[0m\u001b[0;34m:\u001b[0m\u001b[0;34m\u001b[0m\u001b[0m\n\u001b[1;32m   1099\u001b[0m       results = self._do_run(handle, final_targets, final_fetches,\n\u001b[0;32m-> 1100\u001b[0;31m                              feed_dict_tensor, options, run_metadata)\n\u001b[0m\u001b[1;32m   1101\u001b[0m     \u001b[0;32melse\u001b[0m\u001b[0;34m:\u001b[0m\u001b[0;34m\u001b[0m\u001b[0m\n\u001b[1;32m   1102\u001b[0m       \u001b[0mresults\u001b[0m \u001b[0;34m=\u001b[0m \u001b[0;34m[\u001b[0m\u001b[0;34m]\u001b[0m\u001b[0;34m\u001b[0m\u001b[0m\n",
      "\u001b[0;32m/Users/llevasseur/miniconda2/lib/python2.7/site-packages/tensorflow/python/client/session.pyc\u001b[0m in \u001b[0;36m_do_run\u001b[0;34m(self, handle, target_list, fetch_list, feed_dict, options, run_metadata)\u001b[0m\n\u001b[1;32m   1270\u001b[0m     \u001b[0;32mif\u001b[0m \u001b[0mhandle\u001b[0m \u001b[0;32mis\u001b[0m \u001b[0mNone\u001b[0m\u001b[0;34m:\u001b[0m\u001b[0;34m\u001b[0m\u001b[0m\n\u001b[1;32m   1271\u001b[0m       return self._do_call(_run_fn, feeds, fetches, targets, options,\n\u001b[0;32m-> 1272\u001b[0;31m                            run_metadata)\n\u001b[0m\u001b[1;32m   1273\u001b[0m     \u001b[0;32melse\u001b[0m\u001b[0;34m:\u001b[0m\u001b[0;34m\u001b[0m\u001b[0m\n\u001b[1;32m   1274\u001b[0m       \u001b[0;32mreturn\u001b[0m \u001b[0mself\u001b[0m\u001b[0;34m.\u001b[0m\u001b[0m_do_call\u001b[0m\u001b[0;34m(\u001b[0m\u001b[0m_prun_fn\u001b[0m\u001b[0;34m,\u001b[0m \u001b[0mhandle\u001b[0m\u001b[0;34m,\u001b[0m \u001b[0mfeeds\u001b[0m\u001b[0;34m,\u001b[0m \u001b[0mfetches\u001b[0m\u001b[0;34m)\u001b[0m\u001b[0;34m\u001b[0m\u001b[0m\n",
      "\u001b[0;32m/Users/llevasseur/miniconda2/lib/python2.7/site-packages/tensorflow/python/client/session.pyc\u001b[0m in \u001b[0;36m_do_call\u001b[0;34m(self, fn, *args)\u001b[0m\n\u001b[1;32m   1289\u001b[0m         \u001b[0;32mexcept\u001b[0m \u001b[0mKeyError\u001b[0m\u001b[0;34m:\u001b[0m\u001b[0;34m\u001b[0m\u001b[0m\n\u001b[1;32m   1290\u001b[0m           \u001b[0;32mpass\u001b[0m\u001b[0;34m\u001b[0m\u001b[0m\n\u001b[0;32m-> 1291\u001b[0;31m       \u001b[0;32mraise\u001b[0m \u001b[0mtype\u001b[0m\u001b[0;34m(\u001b[0m\u001b[0me\u001b[0m\u001b[0;34m)\u001b[0m\u001b[0;34m(\u001b[0m\u001b[0mnode_def\u001b[0m\u001b[0;34m,\u001b[0m \u001b[0mop\u001b[0m\u001b[0;34m,\u001b[0m \u001b[0mmessage\u001b[0m\u001b[0;34m)\u001b[0m\u001b[0;34m\u001b[0m\u001b[0m\n\u001b[0m\u001b[1;32m   1292\u001b[0m \u001b[0;34m\u001b[0m\u001b[0m\n\u001b[1;32m   1293\u001b[0m   \u001b[0;32mdef\u001b[0m \u001b[0m_extend_graph\u001b[0m\u001b[0;34m(\u001b[0m\u001b[0mself\u001b[0m\u001b[0;34m)\u001b[0m\u001b[0;34m:\u001b[0m\u001b[0;34m\u001b[0m\u001b[0m\n",
      "\u001b[0;31mInvalidArgumentError\u001b[0m: You must feed a value for placeholder tensor 'Placeholder_2' with dtype float and shape [?,100,100,1]\n\t [[Node: Placeholder_2 = Placeholder[dtype=DT_FLOAT, shape=[?,100,100,1], _device=\"/job:localhost/replica:0/task:0/device:CPU:0\"]()]]\n\nCaused by op u'Placeholder_2', defined at:\n  File \"/Users/llevasseur/miniconda2/lib/python2.7/runpy.py\", line 174, in _run_module_as_main\n    \"__main__\", fname, loader, pkg_name)\n  File \"/Users/llevasseur/miniconda2/lib/python2.7/runpy.py\", line 72, in _run_code\n    exec code in run_globals\n  File \"/Users/llevasseur/miniconda2/lib/python2.7/site-packages/ipykernel_launcher.py\", line 16, in <module>\n    app.launch_new_instance()\n  File \"/Users/llevasseur/miniconda2/lib/python2.7/site-packages/traitlets/config/application.py\", line 658, in launch_instance\n    app.start()\n  File \"/Users/llevasseur/miniconda2/lib/python2.7/site-packages/ipykernel/kernelapp.py\", line 497, in start\n    self.io_loop.start()\n  File \"/Users/llevasseur/miniconda2/lib/python2.7/site-packages/tornado/ioloop.py\", line 1073, in start\n    handler_func(fd_obj, events)\n  File \"/Users/llevasseur/miniconda2/lib/python2.7/site-packages/tornado/stack_context.py\", line 300, in null_wrapper\n    return fn(*args, **kwargs)\n  File \"/Users/llevasseur/miniconda2/lib/python2.7/site-packages/zmq/eventloop/zmqstream.py\", line 450, in _handle_events\n    self._handle_recv()\n  File \"/Users/llevasseur/miniconda2/lib/python2.7/site-packages/zmq/eventloop/zmqstream.py\", line 480, in _handle_recv\n    self._run_callback(callback, msg)\n  File \"/Users/llevasseur/miniconda2/lib/python2.7/site-packages/zmq/eventloop/zmqstream.py\", line 432, in _run_callback\n    callback(*args, **kwargs)\n  File \"/Users/llevasseur/miniconda2/lib/python2.7/site-packages/tornado/stack_context.py\", line 300, in null_wrapper\n    return fn(*args, **kwargs)\n  File \"/Users/llevasseur/miniconda2/lib/python2.7/site-packages/ipykernel/kernelbase.py\", line 283, in dispatcher\n    return self.dispatch_shell(stream, msg)\n  File \"/Users/llevasseur/miniconda2/lib/python2.7/site-packages/ipykernel/kernelbase.py\", line 233, in dispatch_shell\n    handler(stream, idents, msg)\n  File \"/Users/llevasseur/miniconda2/lib/python2.7/site-packages/ipykernel/kernelbase.py\", line 399, in execute_request\n    user_expressions, allow_stdin)\n  File \"/Users/llevasseur/miniconda2/lib/python2.7/site-packages/ipykernel/ipkernel.py\", line 208, in do_execute\n    res = shell.run_cell(code, store_history=store_history, silent=silent)\n  File \"/Users/llevasseur/miniconda2/lib/python2.7/site-packages/ipykernel/zmqshell.py\", line 537, in run_cell\n    return super(ZMQInteractiveShell, self).run_cell(*args, **kwargs)\n  File \"/Users/llevasseur/miniconda2/lib/python2.7/site-packages/IPython/core/interactiveshell.py\", line 2714, in run_cell\n    interactivity=interactivity, compiler=compiler, result=result)\n  File \"/Users/llevasseur/miniconda2/lib/python2.7/site-packages/IPython/core/interactiveshell.py\", line 2818, in run_ast_nodes\n    if self.run_code(code, result):\n  File \"/Users/llevasseur/miniconda2/lib/python2.7/site-packages/IPython/core/interactiveshell.py\", line 2878, in run_code\n    exec(code_obj, self.user_global_ns, self.user_ns)\n  File \"<ipython-input-17-bf6d3e3d7ff7>\", line 13, in <module>\n    Kappatest = tf.placeholder( tf.float32, [None, 100, 100,1] )\n  File \"/Users/llevasseur/miniconda2/lib/python2.7/site-packages/tensorflow/python/ops/array_ops.py\", line 1735, in placeholder\n    return gen_array_ops.placeholder(dtype=dtype, shape=shape, name=name)\n  File \"/Users/llevasseur/miniconda2/lib/python2.7/site-packages/tensorflow/python/ops/gen_array_ops.py\", line 4925, in placeholder\n    \"Placeholder\", dtype=dtype, shape=shape, name=name)\n  File \"/Users/llevasseur/miniconda2/lib/python2.7/site-packages/tensorflow/python/framework/op_def_library.py\", line 787, in _apply_op_helper\n    op_def=op_def)\n  File \"/Users/llevasseur/miniconda2/lib/python2.7/site-packages/tensorflow/python/util/deprecation.py\", line 454, in new_func\n    return func(*args, **kwargs)\n  File \"/Users/llevasseur/miniconda2/lib/python2.7/site-packages/tensorflow/python/framework/ops.py\", line 3155, in create_op\n    op_def=op_def)\n  File \"/Users/llevasseur/miniconda2/lib/python2.7/site-packages/tensorflow/python/framework/ops.py\", line 1717, in __init__\n    self._traceback = tf_stack.extract_stack()\n\nInvalidArgumentError (see above for traceback): You must feed a value for placeholder tensor 'Placeholder_2' with dtype float and shape [?,100,100,1]\n\t [[Node: Placeholder_2 = Placeholder[dtype=DT_FLOAT, shape=[?,100,100,1], _device=\"/job:localhost/replica:0/task:0/device:CPU:0\"]()]]\n"
     ]
    }
   ],
   "source": [
    "xker = tf.get_collection('Xsrc_pix')\n",
    "yker = tf.get_collection('Ysrc_pix')\n",
    "fx,fy= sess.run([xker,yker], feed_dict={Srctest: source, Kappatest: kappa})"
   ]
  },
  {
   "cell_type": "code",
   "execution_count": 20,
   "metadata": {},
   "outputs": [
    {
     "data": {
      "text/plain": [
       "(1, 192, 192, 1)"
      ]
     },
     "execution_count": 20,
     "metadata": {},
     "output_type": "execute_result"
    }
   ],
   "source": [
    "fy[0].shape"
   ]
  },
  {
   "cell_type": "code",
   "execution_count": null,
   "metadata": {},
   "outputs": [],
   "source": [
    "%matplotlib inline\n",
    "import matplotlib.pyplot as plt\n",
    "plt.plot(X_src[0,:,:,0].reshape(-1,1), Y_src[0,:,:,0].reshape(-1,1),' .')\n",
    "plt.axis('equal')\n",
    "plt.axis([-0.2, 0.2, -0.2, 0.2])"
   ]
  },
  {
   "cell_type": "code",
   "execution_count": 24,
   "metadata": {},
   "outputs": [
    {
     "data": {
      "text/plain": [
       "<matplotlib.colorbar.Colorbar at 0x1a268d6650>"
      ]
     },
     "execution_count": 24,
     "metadata": {},
     "output_type": "execute_result"
    },
    {
     "data": {
      "image/png": "[encoded data removed]",
      "text/plain": [
       "<Figure size 432x288 with 2 Axes>"
      ]
     },
     "metadata": {
      "needs_background": "light"
     },
     "output_type": "display_data"
    }
   ],
   "source": [
    "plt.imshow( fx[0][0,:,:,0])\n",
    "plt.colorbar()"
   ]
  },
  {
   "cell_type": "code",
   "execution_count": 28,
   "metadata": {},
   "outputs": [
    {
     "data": {
      "text/plain": [
       "191.0"
      ]
     },
     "execution_count": 28,
     "metadata": {},
     "output_type": "execute_result"
    }
   ],
   "source": [
    "np.max(fy[0])"
   ]
  },
  {
   "cell_type": "code",
   "execution_count": 39,
   "metadata": {},
   "outputs": [
    {
     "data": {
      "text/plain": [
       "<matplotlib.colorbar.Colorbar at 0x1a27d9ee10>"
      ]
     },
     "execution_count": 39,
     "metadata": {},
     "output_type": "execute_result"
    },
    {
     "data": {
      "image/png": "[encoded data removed]",
      "text/plain": [
       "<Figure size 432x288 with 2 Axes>"
      ]
     },
     "metadata": {
      "needs_background": "light"
     },
     "output_type": "display_data"
    }
   ],
   "source": [
    "plt.imshow(imout[0,:,:,0])\n",
    "plt.colorbar()"
   ]
  },
  {
   "cell_type": "code",
   "execution_count": 40,
   "metadata": {},
   "outputs": [
    {
     "data": {
      "text/plain": [
       "<matplotlib.colorbar.Colorbar at 0x1a27ff9950>"
      ]
     },
     "execution_count": 40,
     "metadata": {},
     "output_type": "execute_result"
    },
    {
     "data": {
      "image/png": "[encoded data removed]",
      "text/plain": [
       "<Figure size 432x288 with 2 Axes>"
      ]
     },
     "metadata": {
      "needs_background": "light"
     },
     "output_type": "display_data"
    }
   ],
   "source": [
    "plt.imshow(source[0,:,:,0])\n",
    "plt.colorbar()"
   ]
  },
  {
   "cell_type": "code",
   "execution_count": 94,
   "metadata": {},
   "outputs": [],
   "source": [
    "np.save('convkernelX.npy', convkerx[:,:,0,0])\n",
    "np.save('kappa.npy', kap[0,:,:,0])"
   ]
  },
  {
   "cell_type": "code",
   "execution_count": 14,
   "metadata": {},
   "outputs": [],
   "source": [
    "np.save('imout.npy', imout[0,:,:,0])"
   ]
  },
  {
   "cell_type": "code",
   "execution_count": null,
   "metadata": {},
   "outputs": [],
   "source": [
    "from astropy.io import fits"
   ]
  },
  {
   "cell_type": "code",
   "execution_count": null,
   "metadata": {},
   "outputs": [],
   "source": [
    "hdul = fits.open('source.fits')\n",
    "hdu2 = fits.open('kappa.fits')\n",
    "source = hdul[0].data\n",
    "kappa = hdu2[0].data\n",
    "hdul.close()\n",
    "hdu2.close()"
   ]
  },
  {
   "cell_type": "code",
   "execution_count": null,
   "metadata": {},
   "outputs": [],
   "source": [
    "data = hdul[0].data"
   ]
  },
  {
   "cell_type": "code",
   "execution_count": null,
   "metadata": {},
   "outputs": [],
   "source": [
    "plt.imshow(np.log10(kappa[0,:,:,0]))"
   ]
  },
  {
   "cell_type": "code",
   "execution_count": null,
   "metadata": {},
   "outputs": [],
   "source": [
    " hdul.close()"
   ]
  },
  {
   "cell_type": "code",
   "execution_count": null,
   "metadata": {},
   "outputs": [],
   "source": [
    "data.shape"
   ]
  },
  {
   "cell_type": "code",
   "execution_count": 58,
   "metadata": {},
   "outputs": [
    {
     "name": "stdout",
     "output_type": "stream",
     "text": [
      "('a v1', <tf.Tensor 'Shape_3:0' shape=(3,) dtype=int32>)\n",
      "('a v2', [2, 3, 4])\n"
     ]
    }
   ],
   "source": [
    "a = tf.Variable(tf.zeros(shape=(2, 3, 4)))\n",
    "print(\"a v1\", tf.shape(a))\n",
    "print(\"a v2\", a.shape.as_list())"
   ]
  },
  {
   "cell_type": "code",
   "execution_count": 60,
   "metadata": {},
   "outputs": [
    {
     "data": {
      "text/plain": [
       "4"
      ]
     },
     "execution_count": 60,
     "metadata": {},
     "output_type": "execute_result"
    }
   ],
   "source": [
    "(a.shape.as_list())[2]"
   ]
  },
  {
   "cell_type": "code",
   "execution_count": 56,
   "metadata": {},
   "outputs": [
    {
     "name": "stdout",
     "output_type": "stream",
     "text": [
      "('a v3', array([2, 3, 4], dtype=int32))\n"
     ]
    }
   ],
   "source": [
    "print(\"a v3\", sess.run(tf.shape(a)))"
   ]
  },
  {
   "cell_type": "code",
   "execution_count": 88,
   "metadata": {},
   "outputs": [
    {
     "name": "stdout",
     "output_type": "stream",
     "text": [
      "[[[[ 1]\n",
      "   [ 2]\n",
      "   [ 3]\n",
      "   [ 4]]\n",
      "\n",
      "  [[ 5]\n",
      "   [ 6]\n",
      "   [ 7]\n",
      "   [ 8]]\n",
      "\n",
      "  [[ 9]\n",
      "   [10]\n",
      "   [11]\n",
      "   [12]]\n",
      "\n",
      "  [[13]\n",
      "   [14]\n",
      "   [15]\n",
      "   [16]]]\n",
      "\n",
      "\n",
      " [[[ 1]\n",
      "   [ 2]\n",
      "   [ 3]\n",
      "   [ 4]]\n",
      "\n",
      "  [[ 5]\n",
      "   [ 6]\n",
      "   [ 7]\n",
      "   [ 8]]\n",
      "\n",
      "  [[ 9]\n",
      "   [10]\n",
      "   [11]\n",
      "   [12]]\n",
      "\n",
      "  [[13]\n",
      "   [14]\n",
      "   [15]\n",
      "   [16]]]\n",
      "\n",
      "\n",
      " [[[ 1]\n",
      "   [ 2]\n",
      "   [ 3]\n",
      "   [ 4]]\n",
      "\n",
      "  [[ 5]\n",
      "   [ 6]\n",
      "   [ 7]\n",
      "   [ 8]]\n",
      "\n",
      "  [[ 9]\n",
      "   [10]\n",
      "   [11]\n",
      "   [12]]\n",
      "\n",
      "  [[13]\n",
      "   [14]\n",
      "   [15]\n",
      "   [16]]]\n",
      "\n",
      "\n",
      " [[[ 1]\n",
      "   [ 2]\n",
      "   [ 3]\n",
      "   [ 4]]\n",
      "\n",
      "  [[ 5]\n",
      "   [ 6]\n",
      "   [ 7]\n",
      "   [ 8]]\n",
      "\n",
      "  [[ 9]\n",
      "   [10]\n",
      "   [11]\n",
      "   [12]]\n",
      "\n",
      "  [[13]\n",
      "   [14]\n",
      "   [15]\n",
      "   [16]]]\n",
      "\n",
      "\n",
      " [[[ 1]\n",
      "   [ 2]\n",
      "   [ 3]\n",
      "   [ 4]]\n",
      "\n",
      "  [[ 5]\n",
      "   [ 6]\n",
      "   [ 7]\n",
      "   [ 8]]\n",
      "\n",
      "  [[ 9]\n",
      "   [10]\n",
      "   [11]\n",
      "   [12]]\n",
      "\n",
      "  [[13]\n",
      "   [14]\n",
      "   [15]\n",
      "   [16]]]\n",
      "\n",
      "\n",
      " [[[ 1]\n",
      "   [ 2]\n",
      "   [ 3]\n",
      "   [ 4]]\n",
      "\n",
      "  [[ 5]\n",
      "   [ 6]\n",
      "   [ 7]\n",
      "   [ 8]]\n",
      "\n",
      "  [[ 9]\n",
      "   [10]\n",
      "   [11]\n",
      "   [12]]\n",
      "\n",
      "  [[13]\n",
      "   [14]\n",
      "   [15]\n",
      "   [16]]]\n",
      "\n",
      "\n",
      " [[[ 1]\n",
      "   [ 2]\n",
      "   [ 3]\n",
      "   [ 4]]\n",
      "\n",
      "  [[ 5]\n",
      "   [ 6]\n",
      "   [ 7]\n",
      "   [ 8]]\n",
      "\n",
      "  [[ 9]\n",
      "   [10]\n",
      "   [11]\n",
      "   [12]]\n",
      "\n",
      "  [[13]\n",
      "   [14]\n",
      "   [15]\n",
      "   [16]]]\n",
      "\n",
      "\n",
      " [[[ 1]\n",
      "   [ 2]\n",
      "   [ 3]\n",
      "   [ 4]]\n",
      "\n",
      "  [[ 5]\n",
      "   [ 6]\n",
      "   [ 7]\n",
      "   [ 8]]\n",
      "\n",
      "  [[ 9]\n",
      "   [10]\n",
      "   [11]\n",
      "   [12]]\n",
      "\n",
      "  [[13]\n",
      "   [14]\n",
      "   [15]\n",
      "   [16]]]\n",
      "\n",
      "\n",
      " [[[ 1]\n",
      "   [ 2]\n",
      "   [ 3]\n",
      "   [ 4]]\n",
      "\n",
      "  [[ 5]\n",
      "   [ 6]\n",
      "   [ 7]\n",
      "   [ 8]]\n",
      "\n",
      "  [[ 9]\n",
      "   [10]\n",
      "   [11]\n",
      "   [12]]\n",
      "\n",
      "  [[13]\n",
      "   [14]\n",
      "   [15]\n",
      "   [16]]]\n",
      "\n",
      "\n",
      " [[[ 1]\n",
      "   [ 2]\n",
      "   [ 3]\n",
      "   [ 4]]\n",
      "\n",
      "  [[ 5]\n",
      "   [ 6]\n",
      "   [ 7]\n",
      "   [ 8]]\n",
      "\n",
      "  [[ 9]\n",
      "   [10]\n",
      "   [11]\n",
      "   [12]]\n",
      "\n",
      "  [[13]\n",
      "   [14]\n",
      "   [15]\n",
      "   [16]]]\n",
      "\n",
      "\n",
      " [[[ 1]\n",
      "   [ 2]\n",
      "   [ 3]\n",
      "   [ 4]]\n",
      "\n",
      "  [[ 5]\n",
      "   [ 6]\n",
      "   [ 7]\n",
      "   [ 8]]\n",
      "\n",
      "  [[ 9]\n",
      "   [10]\n",
      "   [11]\n",
      "   [12]]\n",
      "\n",
      "  [[13]\n",
      "   [14]\n",
      "   [15]\n",
      "   [16]]]]\n"
     ]
    }
   ],
   "source": [
    "IM = tf.constant([1, 2, 3, 4, 5, 6, 7,8,9,10,11,12,13,14,15,16], shape = [1, 4, 4,1] )\n",
    "mult = tf.constant([5,1,1,1] )\n",
    "x = tf.placeholder(tf.float32, shape=[None, 4,4,1])\n",
    "\n",
    "\n",
    "b1 = tf.shape(x)[0:1]\n",
    "b2 = (x.shape.as_list())[1]\n",
    "\n",
    "a = tf.constant([(x.shape.as_list())[1], 1, 1, 1])\n",
    "\n",
    "tiled = tf.manip.tile(IM, a)\n",
    "\n",
    "A = tf.constant(1)\n",
    "Amult = tf.stack([tf.shape(x)[0], A,A,A])\n",
    "y = tf.tile(IM, Amult)\n",
    "\n",
    "sess = tf.Session()\n",
    "y = sess.run(y, feed_dict={x: np.zeros([11, 4,4,1])})\n",
    "print y\n",
    "#til =  sess.run(tiled)\n",
    "\n",
    "\n"
   ]
  },
  {
   "cell_type": "code",
   "execution_count": 92,
   "metadata": {},
   "outputs": [
    {
     "name": "stdout",
     "output_type": "stream",
     "text": [
      "[[ 1  2  3  4]\n",
      " [ 5  6  7  8]\n",
      " [ 9 10 11 12]\n",
      " [13 14 15 16]]\n"
     ]
    }
   ],
   "source": [
    "print y[1,:,:,0]"
   ]
  },
  {
   "cell_type": "code",
   "execution_count": null,
   "metadata": {},
   "outputs": [],
   "source": []
  }
 ],
 "metadata": {
  "kernelspec": {
   "display_name": "Python 3",
   "language": "python",
   "name": "python3"
  },
  "language_info": {
   "codemirror_mode": {
    "name": "ipython",
    "version": 3
   },
   "file_extension": ".py",
   "mimetype": "text/x-python",
   "name": "python",
   "nbconvert_exporter": "python",
   "pygments_lexer": "ipython3",
   "version": "3.8.5"
  }
 },
 "nbformat": 4,
 "nbformat_minor": 4
}
