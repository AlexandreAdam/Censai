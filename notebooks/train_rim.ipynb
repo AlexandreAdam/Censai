{
  "nbformat": 4,
  "nbformat_minor": 0,
  "metadata": {
    "accelerator": "GPU",
    "colab": {
      "name": "train_rim.ipynb",
      "provenance": [],
      "collapsed_sections": [],
      "authorship_tag": "ABX9TyObl6MBdqTwVl38tBxVwDUk",
      "include_colab_link": true
    },
    "kernelspec": {
      "display_name": "Python 3",
      "name": "python3"
    },
    "language_info": {
      "name": "python"
    }
  },
  "cells": [
    {
      "cell_type": "markdown",
      "metadata": {
        "id": "view-in-github",
        "colab_type": "text"
      },
      "source": [
        "<a href=\"https://colab.research.google.com/github/AlexandreAdam/Censai/blob/eager2.4/notebooks/train_rim.ipynb\" target=\"_parent\"><img src=\"https://colab.research.google.com/assets/colab-badge.svg\" alt=\"Open In Colab\"/></a>"
      ]
    },
    {
      "cell_type": "code",
      "metadata": {
        "colab": {
          "base_uri": "https://localhost:8080/"
        },
        "id": "l6SfC1uMDaQR",
        "outputId": "3e6a3925-72be-49a0-a193-4d66e33bbe77"
      },
      "source": [
        "!git clone https://github.com/AlexandreAdam/Censai.git\n",
        "%cd Censai\n",
        "!git checkout eager2.4 \n",
        "!python setup.py install\n",
        "!pip install wandb"
      ],
      "execution_count": 1,
      "outputs": [
        {
          "output_type": "stream",
          "text": [
            "Cloning into 'Censai'...\n",
            "remote: Enumerating objects: 173, done.\u001b[K\n",
            "remote: Counting objects: 100% (173/173), done.\u001b[K\n",
            "remote: Compressing objects: 100% (122/122), done.\u001b[K\n",
            "remote: Total 600 (delta 90), reused 108 (delta 41), pack-reused 427\u001b[K\n",
            "Receiving objects: 100% (600/600), 13.60 MiB | 33.39 MiB/s, done.\n",
            "Resolving deltas: 100% (323/323), done.\n",
            "/content/Censai\n",
            "Branch 'eager2.4' set up to track remote branch 'eager2.4' from 'origin'.\n",
            "Switched to a new branch 'eager2.4'\n",
            "running install\n",
            "running bdist_egg\n",
            "running egg_info\n",
            "creating censai.egg-info\n",
            "writing censai.egg-info/PKG-INFO\n",
            "writing dependency_links to censai.egg-info/dependency_links.txt\n",
            "writing top-level names to censai.egg-info/top_level.txt\n",
            "writing manifest file 'censai.egg-info/SOURCES.txt'\n",
            "writing manifest file 'censai.egg-info/SOURCES.txt'\n",
            "installing library code to build/bdist.linux-x86_64/egg\n",
            "running install_lib\n",
            "running build_py\n",
            "creating build\n",
            "creating build/lib\n",
            "creating build/lib/censai\n",
            "copying censai/__init__.py -> build/lib/censai\n",
            "copying censai/physical_model.py -> build/lib/censai\n",
            "copying censai/utilities.py -> build/lib/censai\n",
            "copying censai/definitions.py -> build/lib/censai\n",
            "copying censai/data_generator.py -> build/lib/censai\n",
            "creating build/bdist.linux-x86_64\n",
            "creating build/bdist.linux-x86_64/egg\n",
            "creating build/bdist.linux-x86_64/egg/censai\n",
            "copying build/lib/censai/__init__.py -> build/bdist.linux-x86_64/egg/censai\n",
            "copying build/lib/censai/physical_model.py -> build/bdist.linux-x86_64/egg/censai\n",
            "copying build/lib/censai/utilities.py -> build/bdist.linux-x86_64/egg/censai\n",
            "copying build/lib/censai/definitions.py -> build/bdist.linux-x86_64/egg/censai\n",
            "copying build/lib/censai/data_generator.py -> build/bdist.linux-x86_64/egg/censai\n",
            "byte-compiling build/bdist.linux-x86_64/egg/censai/__init__.py to __init__.cpython-37.pyc\n",
            "byte-compiling build/bdist.linux-x86_64/egg/censai/physical_model.py to physical_model.cpython-37.pyc\n",
            "byte-compiling build/bdist.linux-x86_64/egg/censai/utilities.py to utilities.cpython-37.pyc\n",
            "byte-compiling build/bdist.linux-x86_64/egg/censai/definitions.py to definitions.cpython-37.pyc\n",
            "byte-compiling build/bdist.linux-x86_64/egg/censai/data_generator.py to data_generator.cpython-37.pyc\n",
            "creating build/bdist.linux-x86_64/egg/EGG-INFO\n",
            "copying censai.egg-info/PKG-INFO -> build/bdist.linux-x86_64/egg/EGG-INFO\n",
            "copying censai.egg-info/SOURCES.txt -> build/bdist.linux-x86_64/egg/EGG-INFO\n",
            "copying censai.egg-info/dependency_links.txt -> build/bdist.linux-x86_64/egg/EGG-INFO\n",
            "copying censai.egg-info/top_level.txt -> build/bdist.linux-x86_64/egg/EGG-INFO\n",
            "zip_safe flag not set; analyzing archive contents...\n",
            "creating dist\n",
            "creating 'dist/censai-0.2-py3.7.egg' and adding 'build/bdist.linux-x86_64/egg' to it\n",
            "removing 'build/bdist.linux-x86_64/egg' (and everything under it)\n",
            "Processing censai-0.2-py3.7.egg\n",
            "Copying censai-0.2-py3.7.egg to /usr/local/lib/python3.7/dist-packages\n",
            "Adding censai 0.2 to easy-install.pth file\n",
            "\n",
            "Installed /usr/local/lib/python3.7/dist-packages/censai-0.2-py3.7.egg\n",
            "Processing dependencies for censai==0.2\n",
            "Finished processing dependencies for censai==0.2\n",
            "Collecting wandb\n",
            "\u001b[?25l  Downloading https://files.pythonhosted.org/packages/33/ae/79374d2b875e638090600eaa2a423479865b7590c53fb78e8ccf6a64acb1/wandb-0.10.22-py2.py3-none-any.whl (2.0MB)\n",
            "\u001b[K     |████████████████████████████████| 2.0MB 7.9MB/s \n",
            "\u001b[?25hCollecting pathtools\n",
            "  Downloading https://files.pythonhosted.org/packages/e7/7f/470d6fcdf23f9f3518f6b0b76be9df16dcc8630ad409947f8be2eb0ed13a/pathtools-0.1.2.tar.gz\n",
            "Collecting sentry-sdk>=0.4.0\n",
            "\u001b[?25l  Downloading https://files.pythonhosted.org/packages/f3/92/5a33be64990ba815364a8f2dd9e6f51de60d23dfddafb4f1fc5577d4dc64/sentry_sdk-1.0.0-py2.py3-none-any.whl (131kB)\n",
            "\u001b[K     |████████████████████████████████| 133kB 50.8MB/s \n",
            "\u001b[?25hCollecting configparser>=3.8.1\n",
            "  Downloading https://files.pythonhosted.org/packages/fd/01/ff260a18caaf4457eb028c96eeb405c4a230ca06c8ec9c1379f813caa52e/configparser-5.0.2-py3-none-any.whl\n",
            "Requirement already satisfied: python-dateutil>=2.6.1 in /usr/local/lib/python3.7/dist-packages (from wandb) (2.8.1)\n",
            "Requirement already satisfied: promise<3,>=2.0 in /usr/local/lib/python3.7/dist-packages (from wandb) (2.3)\n",
            "Requirement already satisfied: requests<3,>=2.0.0 in /usr/local/lib/python3.7/dist-packages (from wandb) (2.23.0)\n",
            "Requirement already satisfied: Click>=7.0 in /usr/local/lib/python3.7/dist-packages (from wandb) (7.1.2)\n",
            "Requirement already satisfied: PyYAML in /usr/local/lib/python3.7/dist-packages (from wandb) (3.13)\n",
            "Collecting subprocess32>=3.5.3\n",
            "\u001b[?25l  Downloading https://files.pythonhosted.org/packages/32/c8/564be4d12629b912ea431f1a50eb8b3b9d00f1a0b1ceff17f266be190007/subprocess32-3.5.4.tar.gz (97kB)\n",
            "\u001b[K     |████████████████████████████████| 102kB 14.0MB/s \n",
            "\u001b[?25hCollecting GitPython>=1.0.0\n",
            "\u001b[?25l  Downloading https://files.pythonhosted.org/packages/a6/99/98019716955ba243657daedd1de8f3a88ca1f5b75057c38e959db22fb87b/GitPython-3.1.14-py3-none-any.whl (159kB)\n",
            "\u001b[K     |████████████████████████████████| 163kB 44.9MB/s \n",
            "\u001b[?25hRequirement already satisfied: protobuf>=3.12.0 in /usr/local/lib/python3.7/dist-packages (from wandb) (3.12.4)\n",
            "Requirement already satisfied: six>=1.13.0 in /usr/local/lib/python3.7/dist-packages (from wandb) (1.15.0)\n",
            "Collecting docker-pycreds>=0.4.0\n",
            "  Downloading https://files.pythonhosted.org/packages/f5/e8/f6bd1eee09314e7e6dee49cbe2c5e22314ccdb38db16c9fc72d2fa80d054/docker_pycreds-0.4.0-py2.py3-none-any.whl\n",
            "Collecting shortuuid>=0.5.0\n",
            "  Downloading https://files.pythonhosted.org/packages/25/a6/2ecc1daa6a304e7f1b216f0896b26156b78e7c38e1211e9b798b4716c53d/shortuuid-1.0.1-py3-none-any.whl\n",
            "Requirement already satisfied: psutil>=5.0.0 in /usr/local/lib/python3.7/dist-packages (from wandb) (5.4.8)\n",
            "Requirement already satisfied: certifi in /usr/local/lib/python3.7/dist-packages (from sentry-sdk>=0.4.0->wandb) (2020.12.5)\n",
            "Requirement already satisfied: urllib3>=1.10.0 in /usr/local/lib/python3.7/dist-packages (from sentry-sdk>=0.4.0->wandb) (1.24.3)\n",
            "Requirement already satisfied: idna<3,>=2.5 in /usr/local/lib/python3.7/dist-packages (from requests<3,>=2.0.0->wandb) (2.10)\n",
            "Requirement already satisfied: chardet<4,>=3.0.2 in /usr/local/lib/python3.7/dist-packages (from requests<3,>=2.0.0->wandb) (3.0.4)\n",
            "Collecting gitdb<5,>=4.0.1\n",
            "\u001b[?25l  Downloading https://files.pythonhosted.org/packages/48/11/d1800bca0a3bae820b84b7d813ad1eff15a48a64caea9c823fc8c1b119e8/gitdb-4.0.5-py3-none-any.whl (63kB)\n",
            "\u001b[K     |████████████████████████████████| 71kB 10.4MB/s \n",
            "\u001b[?25hRequirement already satisfied: setuptools in /usr/local/lib/python3.7/dist-packages (from protobuf>=3.12.0->wandb) (54.1.2)\n",
            "Collecting smmap<4,>=3.0.1\n",
            "  Downloading https://files.pythonhosted.org/packages/d5/1e/6130925131f639b2acde0f7f18b73e33ce082ff2d90783c436b52040af5a/smmap-3.0.5-py2.py3-none-any.whl\n",
            "Building wheels for collected packages: pathtools, subprocess32\n",
            "  Building wheel for pathtools (setup.py) ... \u001b[?25l\u001b[?25hdone\n",
            "  Created wheel for pathtools: filename=pathtools-0.1.2-cp37-none-any.whl size=8786 sha256=eb8b82b1f8cae1a15cf659096198d2a29119982dc0c1b322ee194c3f8a2853be\n",
            "  Stored in directory: /root/.cache/pip/wheels/0b/04/79/c3b0c3a0266a3cb4376da31e5bfe8bba0c489246968a68e843\n",
            "  Building wheel for subprocess32 (setup.py) ... \u001b[?25l\u001b[?25hdone\n",
            "  Created wheel for subprocess32: filename=subprocess32-3.5.4-cp37-none-any.whl size=6489 sha256=c18faf534c84b683d7489c0a6528ad5c590ea6584a0ba1745f16737dbf55190b\n",
            "  Stored in directory: /root/.cache/pip/wheels/68/39/1a/5e402bdfdf004af1786c8b853fd92f8c4a04f22aad179654d1\n",
            "Successfully built pathtools subprocess32\n",
            "Installing collected packages: pathtools, sentry-sdk, configparser, subprocess32, smmap, gitdb, GitPython, docker-pycreds, shortuuid, wandb\n",
            "Successfully installed GitPython-3.1.14 configparser-5.0.2 docker-pycreds-0.4.0 gitdb-4.0.5 pathtools-0.1.2 sentry-sdk-1.0.0 shortuuid-1.0.1 smmap-3.0.5 subprocess32-3.5.4 wandb-0.10.22\n"
          ],
          "name": "stdout"
        }
      ]
    },
    {
      "cell_type": "code",
      "metadata": {
        "colab": {
          "base_uri": "https://localhost:8080/"
        },
        "id": "VHhFqsr1D2sY",
        "outputId": "d0458816-1f3b-4113-ae3f-0057ae0d7411"
      },
      "source": [
        "# wanb login\n",
        "%pip install wandb -q\n",
        "%pip install tensorflow_addons\n",
        "import wandb\n"
      ],
      "execution_count": 2,
      "outputs": [
        {
          "output_type": "stream",
          "text": [
            "Collecting tensorflow_addons\n",
            "\u001b[?25l  Downloading https://files.pythonhosted.org/packages/74/e3/56d2fe76f0bb7c88ed9b2a6a557e25e83e252aec08f13de34369cd850a0b/tensorflow_addons-0.12.1-cp37-cp37m-manylinux2010_x86_64.whl (703kB)\n",
            "\r\u001b[K     |▌                               | 10kB 21.9MB/s eta 0:00:01\r\u001b[K     |█                               | 20kB 14.3MB/s eta 0:00:01\r\u001b[K     |█▍                              | 30kB 12.3MB/s eta 0:00:01\r\u001b[K     |█▉                              | 40kB 11.8MB/s eta 0:00:01\r\u001b[K     |██▎                             | 51kB 7.6MB/s eta 0:00:01\r\u001b[K     |██▉                             | 61kB 7.1MB/s eta 0:00:01\r\u001b[K     |███▎                            | 71kB 8.1MB/s eta 0:00:01\r\u001b[K     |███▊                            | 81kB 7.7MB/s eta 0:00:01\r\u001b[K     |████▏                           | 92kB 8.3MB/s eta 0:00:01\r\u001b[K     |████▋                           | 102kB 7.4MB/s eta 0:00:01\r\u001b[K     |█████▏                          | 112kB 7.4MB/s eta 0:00:01\r\u001b[K     |█████▋                          | 122kB 7.4MB/s eta 0:00:01\r\u001b[K     |██████                          | 133kB 7.4MB/s eta 0:00:01\r\u001b[K     |██████▌                         | 143kB 7.4MB/s eta 0:00:01\r\u001b[K     |███████                         | 153kB 7.4MB/s eta 0:00:01\r\u001b[K     |███████▌                        | 163kB 7.4MB/s eta 0:00:01\r\u001b[K     |████████                        | 174kB 7.4MB/s eta 0:00:01\r\u001b[K     |████████▍                       | 184kB 7.4MB/s eta 0:00:01\r\u001b[K     |████████▉                       | 194kB 7.4MB/s eta 0:00:01\r\u001b[K     |█████████▎                      | 204kB 7.4MB/s eta 0:00:01\r\u001b[K     |█████████▉                      | 215kB 7.4MB/s eta 0:00:01\r\u001b[K     |██████████▎                     | 225kB 7.4MB/s eta 0:00:01\r\u001b[K     |██████████▊                     | 235kB 7.4MB/s eta 0:00:01\r\u001b[K     |███████████▏                    | 245kB 7.4MB/s eta 0:00:01\r\u001b[K     |███████████▋                    | 256kB 7.4MB/s eta 0:00:01\r\u001b[K     |████████████▏                   | 266kB 7.4MB/s eta 0:00:01\r\u001b[K     |████████████▋                   | 276kB 7.4MB/s eta 0:00:01\r\u001b[K     |█████████████                   | 286kB 7.4MB/s eta 0:00:01\r\u001b[K     |█████████████▌                  | 296kB 7.4MB/s eta 0:00:01\r\u001b[K     |██████████████                  | 307kB 7.4MB/s eta 0:00:01\r\u001b[K     |██████████████▍                 | 317kB 7.4MB/s eta 0:00:01\r\u001b[K     |███████████████                 | 327kB 7.4MB/s eta 0:00:01\r\u001b[K     |███████████████▍                | 337kB 7.4MB/s eta 0:00:01\r\u001b[K     |███████████████▉                | 348kB 7.4MB/s eta 0:00:01\r\u001b[K     |████████████████▎               | 358kB 7.4MB/s eta 0:00:01\r\u001b[K     |████████████████▊               | 368kB 7.4MB/s eta 0:00:01\r\u001b[K     |█████████████████▎              | 378kB 7.4MB/s eta 0:00:01\r\u001b[K     |█████████████████▊              | 389kB 7.4MB/s eta 0:00:01\r\u001b[K     |██████████████████▏             | 399kB 7.4MB/s eta 0:00:01\r\u001b[K     |██████████████████▋             | 409kB 7.4MB/s eta 0:00:01\r\u001b[K     |███████████████████             | 419kB 7.4MB/s eta 0:00:01\r\u001b[K     |███████████████████▋            | 430kB 7.4MB/s eta 0:00:01\r\u001b[K     |████████████████████            | 440kB 7.4MB/s eta 0:00:01\r\u001b[K     |████████████████████▌           | 450kB 7.4MB/s eta 0:00:01\r\u001b[K     |█████████████████████           | 460kB 7.4MB/s eta 0:00:01\r\u001b[K     |█████████████████████▍          | 471kB 7.4MB/s eta 0:00:01\r\u001b[K     |██████████████████████          | 481kB 7.4MB/s eta 0:00:01\r\u001b[K     |██████████████████████▍         | 491kB 7.4MB/s eta 0:00:01\r\u001b[K     |██████████████████████▉         | 501kB 7.4MB/s eta 0:00:01\r\u001b[K     |███████████████████████▎        | 512kB 7.4MB/s eta 0:00:01\r\u001b[K     |███████████████████████▊        | 522kB 7.4MB/s eta 0:00:01\r\u001b[K     |████████████████████████▎       | 532kB 7.4MB/s eta 0:00:01\r\u001b[K     |████████████████████████▊       | 542kB 7.4MB/s eta 0:00:01\r\u001b[K     |█████████████████████████▏      | 552kB 7.4MB/s eta 0:00:01\r\u001b[K     |█████████████████████████▋      | 563kB 7.4MB/s eta 0:00:01\r\u001b[K     |██████████████████████████      | 573kB 7.4MB/s eta 0:00:01\r\u001b[K     |██████████████████████████▋     | 583kB 7.4MB/s eta 0:00:01\r\u001b[K     |███████████████████████████     | 593kB 7.4MB/s eta 0:00:01\r\u001b[K     |███████████████████████████▌    | 604kB 7.4MB/s eta 0:00:01\r\u001b[K     |████████████████████████████    | 614kB 7.4MB/s eta 0:00:01\r\u001b[K     |████████████████████████████▍   | 624kB 7.4MB/s eta 0:00:01\r\u001b[K     |████████████████████████████▉   | 634kB 7.4MB/s eta 0:00:01\r\u001b[K     |█████████████████████████████▍  | 645kB 7.4MB/s eta 0:00:01\r\u001b[K     |█████████████████████████████▉  | 655kB 7.4MB/s eta 0:00:01\r\u001b[K     |██████████████████████████████▎ | 665kB 7.4MB/s eta 0:00:01\r\u001b[K     |██████████████████████████████▊ | 675kB 7.4MB/s eta 0:00:01\r\u001b[K     |███████████████████████████████▏| 686kB 7.4MB/s eta 0:00:01\r\u001b[K     |███████████████████████████████▊| 696kB 7.4MB/s eta 0:00:01\r\u001b[K     |████████████████████████████████| 706kB 7.4MB/s \n",
            "\u001b[?25hRequirement already satisfied: typeguard>=2.7 in /usr/local/lib/python3.7/dist-packages (from tensorflow_addons) (2.7.1)\n",
            "Installing collected packages: tensorflow-addons\n",
            "Successfully installed tensorflow-addons-0.12.1\n"
          ],
          "name": "stdout"
        }
      ]
    },
    {
      "cell_type": "code",
      "metadata": {
        "id": "3EB6rCiJGrgn"
      },
      "source": [
        "import tensorflow as tf\n",
        "from censai.physical_model import PhysicalModel\n",
        "from censai.data_generator import NISGenerator\n",
        "from censai.definitions import RIM_UNET_CELL\n",
        "from censai.utilities import nullwriter\n",
        "import os\n",
        "from datetime import datetime\n",
        "import matplotlib.pyplot as plt\n",
        "from mpl_toolkits.axes_grid1 import make_axes_locatable\n",
        "import numpy as np\n",
        "%matplotlib inline\n",
        "os.mkdir(\"logs\") # run only once"
      ],
      "execution_count": 7,
      "outputs": []
    },
    {
      "cell_type": "code",
      "metadata": {
        "id": "K_PSldSAGv40"
      },
      "source": [
        "def main(args):\n",
        "    if wndb:\n",
        "          config = wandb.config\n",
        "          config.learning_rate = args.lr\n",
        "          config.batch_size = args.batch_size\n",
        "          config.epochs = args.epochs\n",
        "          config.architecture=\"Double RIM Unet\"\n",
        "          config.update(args)\n",
        "    gen = NISGenerator(args.total_items, args.batch_size, model=\"rim\", pixels=args.pixels) #TODO add noise to observed lens\n",
        "    gen_test = NISGenerator(args.validation, args.validation, train=False, model=\"rim\", pixels=args.pixels)\n",
        "    phys = PhysicalModel(pixels=args.pixels, noise_rms=args.noise_rms)\n",
        "    rim = RIM_UNET_CELL(phys, args.batch_size, args.time_steps, args.pixels)\n",
        "    optim = tf.optimizers.Adam(args.lr)\n",
        "\t# setup tensorboard writer (nullwriter in case we do not want to sync)\n",
        "    if args.logdir.lower() != \"none\":\n",
        "        logdir = os.path.join(args.logdir, args.logname)\n",
        "        traindir = os.path.join(logdir, \"train\")\n",
        "        testdir = os.path.join(logdir, \"test\")\n",
        "        if not os.path.isdir(logdir):\n",
        "            os.mkdir(logdir)\n",
        "        if not os.path.isdir(traindir):\n",
        "            os.mkdir(traindir)\n",
        "        if not os.path.isdir(testdir):\n",
        "            os.mkdir(testdir)\n",
        "        train_writer = tf.summary.create_file_writer(traindir)\n",
        "        test_writer = tf.summary.create_file_writer(testdir)\n",
        "    else:\n",
        "        test_writer = nullwriter()\n",
        "        train_writer = nullwriter()\n",
        "\n",
        "    epoch_loss = tf.metrics.Mean()\n",
        "    best_loss = np.inf\n",
        "    patience = args.patience\n",
        "    step = 1\n",
        "    # if args.kappalog:\n",
        "    #     link = lambda x: tf.math.log(x) / tf.math.log(10.)\n",
        "    #     invlink = lambda x: 10.**(x)\n",
        "    # else:\n",
        "    #     link = lambda x: x\n",
        "    #     invlink = lambda x: x\n",
        "    step = 1\n",
        "    for epoch in range(args.epochs):\n",
        "        epoch_loss.reset_states()\n",
        "        with train_writer.as_default():\n",
        "            for batch, (kappa, source, Y) in enumerate(gen):\n",
        "                with tf.GradientTape(persistent=True, watch_accessed_variables=True) as tape:\n",
        "                    tape.watch(rim.model_1.trainable_variables)\n",
        "                    tape.watch(rim.model_2.trainable_variables)\n",
        "                    cost = rim.cost_function(Y, source, kappa)\n",
        "                gradient1 = tape.gradient(cost, rim.model_1.trainable_variables)\n",
        "                gradient2 = tape.gradient(cost, rim.model_2.trainable_variables)\n",
        "                # clipped_gradient = [tf.clip_by_value(grad, -10, 10) for grad in gradient]\n",
        "                optim.apply_gradients(zip(gradient1, rim.model_1.trainable_variables)) # backprop\n",
        "                optim.apply_gradients(zip(gradient2, rim.model_2.trainable_variables))\n",
        "\n",
        "                #========== Summary and logs ==========\n",
        "                epoch_loss.update_state([cost])\n",
        "                tf.summary.scalar(\"MSE\", cost, step=step)\n",
        "                step += 1\n",
        "            # tf.summary.scalar(\"Learning Rate\", optim.lr(step), step=step)\n",
        "        with test_writer.as_default():\n",
        "            for (kappa, source, Y) in gen_test:\n",
        "                test_cost = rim.cost_function(Y, source, kappa)\n",
        "            tf.summary.scalar(\"MSE\", test_cost, step=step)\n",
        "        print(f\"epoch {epoch} | train loss {epoch_loss.result().numpy():.3e} | val loss {test_cost.numpy():.3e}\") #| learning rate {optim.lr(step).numpy():.2e}\")\n",
        "        if test_cost < best_loss - args.tolerance:\n",
        "            best_loss = test_cost\n",
        "            patience = args.patience\n",
        "        else:\n",
        "            patience -= 1\n",
        "        if patience == 0:\n",
        "            print(\"Reached patience\")\n",
        "            break\n",
        "    return gen, gen_test, rim, epoch_loss.result()"
      ],
      "execution_count": 11,
      "outputs": []
    },
    {
      "cell_type": "code",
      "metadata": {
        "id": "fP9UAQWBHVUK"
      },
      "source": [
        "# quick hack to make a config like args of ArgumentParser\n",
        "class AttrDict(dict):\n",
        "    def __init__(self, *args, **kwargs):\n",
        "        super(AttrDict, self).__init__(*args, **kwargs)\n",
        "        self.__dict__ = self\n",
        "\n",
        "lr = 1e-3\n",
        "decay_steps=100\n",
        "decay_rate=0.95\n",
        "lr_schedule = tf.keras.optimizers.schedules.ExponentialDecay(\n",
        "    lr,\n",
        "    decay_steps=decay_steps,\n",
        "    decay_rate=decay_rate,\n",
        "    staircase=True)\n",
        "init_range = 0.1\n",
        "# initializer = tf.keras.initializers.RandomUniform(minval=-init_range, maxval=init_range)\n",
        "# initializer = tf.keras.initializers.RandomNormal(mean=0.0, stddev=init_range)\n",
        "initializer = tf.keras.initializers.GlorotNormal()\n",
        "# setup hyperparameter and other configs\n",
        "date = datetime.now().strftime(\"%y-%m-%d_%H-%M-%S\")\n",
        "Config = AttrDict()\n",
        "Config.update({\n",
        "    #hparams\n",
        "    \"epochs\": 10,\n",
        "    \"lr\": lr, # initial learning rate\n",
        "    \"decay_steps\": decay_steps,\n",
        "    \"decay_rate\": decay_rate,\n",
        "    \"batch_size\": 10,\n",
        "    \"kappalog\": False,\n",
        "    \"clipping\": False,\n",
        "    \"pixels\": 64,\n",
        "    \"noise_rms\": 0.1,\n",
        "    \"time_steps\": 8,\n",
        "    # \"initializer_range\":init_range,\n",
        "    \"initializer_type\": \"glorot_normal\",\n",
        "    \"optimizer_name\": \"Adam\",\n",
        "    #configs\n",
        "    \"total_items\": 100, # items per epochs\n",
        "    \"logdir\": \"logs\",\n",
        "    \"logname\": date,\n",
        "    \"validation\": 10,\n",
        "    \"patience\": np.inf,\n",
        "    \"tolerance\": 0,\n",
        "    # \"schedule\": lr_schedule,\n",
        "    \"initializer\": initializer,\n",
        "    \"optimizer\": tf.keras.optimizers.Adam(learning_rate=lr_schedule),\n",
        "    \"note\": \"Data generator updated parameter space. x_c does not vary anymore, fixed t0 0.05\"\n",
        "\n",
        "})\n"
      ],
      "execution_count": 17,
      "outputs": []
    },
    {
      "cell_type": "code",
      "metadata": {
        "colab": {
          "base_uri": "https://localhost:8080/",
          "height": 374
        },
        "id": "aW8LdTB9IYCk",
        "outputId": "38cf44cb-4c1f-4b1f-e231-80c946784aed"
      },
      "source": [
        "wndb = True\n",
        "wandb.init(project=\"censai\", entity=\"adam-alexandre01123\", sync_tensorboard=True)\n",
        "gen, gen_test, rim, loss = main(Config)"
      ],
      "execution_count": 18,
      "outputs": [
        {
          "output_type": "display_data",
          "data": {
            "application/javascript": [
              "\n",
              "        window._wandbApiKey = new Promise((resolve, reject) => {\n",
              "            function loadScript(url) {\n",
              "            return new Promise(function(resolve, reject) {\n",
              "                let newScript = document.createElement(\"script\");\n",
              "                newScript.onerror = reject;\n",
              "                newScript.onload = resolve;\n",
              "                document.body.appendChild(newScript);\n",
              "                newScript.src = url;\n",
              "            });\n",
              "            }\n",
              "            loadScript(\"https://cdn.jsdelivr.net/npm/postmate/build/postmate.min.js\").then(() => {\n",
              "            const iframe = document.createElement('iframe')\n",
              "            iframe.style.cssText = \"width:0;height:0;border:none\"\n",
              "            document.body.appendChild(iframe)\n",
              "            const handshake = new Postmate({\n",
              "                container: iframe,\n",
              "                url: 'https://wandb.ai/authorize'\n",
              "            });\n",
              "            const timeout = setTimeout(() => reject(\"Couldn't auto authenticate\"), 5000)\n",
              "            handshake.then(function(child) {\n",
              "                child.on('authorize', data => {\n",
              "                    clearTimeout(timeout)\n",
              "                    resolve(data)\n",
              "                });\n",
              "            });\n",
              "            })\n",
              "        });\n",
              "    "
            ],
            "text/plain": [
              "<IPython.core.display.Javascript object>"
            ]
          },
          "metadata": {
            "tags": []
          }
        },
        {
          "output_type": "stream",
          "text": [
            "\u001b[34m\u001b[1mwandb\u001b[0m: You can find your API key in your browser here: https://wandb.ai/authorize\n"
          ],
          "name": "stderr"
        },
        {
          "output_type": "stream",
          "text": [
            "wandb: Paste an API key from your profile and hit enter: ··········\n"
          ],
          "name": "stdout"
        },
        {
          "output_type": "stream",
          "text": [
            "\u001b[34m\u001b[1mwandb\u001b[0m: Appending key for api.wandb.ai to your netrc file: /root/.netrc\n"
          ],
          "name": "stderr"
        },
        {
          "output_type": "display_data",
          "data": {
            "text/html": [
              "\n",
              "                Tracking run with wandb version 0.10.22<br/>\n",
              "                Syncing run <strong style=\"color:#cdcd00\">curious-fog-74</strong> to <a href=\"https://wandb.ai\" target=\"_blank\">Weights & Biases</a> <a href=\"https://docs.wandb.com/integrations/jupyter.html\" target=\"_blank\">(Documentation)</a>.<br/>\n",
              "                Project page: <a href=\"https://wandb.ai/adam-alexandre01123/censai\" target=\"_blank\">https://wandb.ai/adam-alexandre01123/censai</a><br/>\n",
              "                Run page: <a href=\"https://wandb.ai/adam-alexandre01123/censai/runs/t9yb1qwx\" target=\"_blank\">https://wandb.ai/adam-alexandre01123/censai/runs/t9yb1qwx</a><br/>\n",
              "                Run data is saved locally in <code>/content/Censai/wandb/run-20210319_222404-t9yb1qwx</code><br/><br/>\n",
              "            "
            ],
            "text/plain": [
              "<IPython.core.display.HTML object>"
            ]
          },
          "metadata": {
            "tags": []
          }
        },
        {
          "output_type": "stream",
          "text": [
            "\u001b[34m\u001b[1mwandb\u001b[0m: \u001b[33mWARNING\u001b[0m When using several event log directories, please call wandb.tensorboard.patch(root_logdir=\"...\") before wandb.init\n"
          ],
          "name": "stderr"
        },
        {
          "output_type": "stream",
          "text": [
            "epoch 0 | train loss 1.596e+00 | val loss 9.980e-01\n",
            "epoch 1 | train loss 3.912e+00 | val loss 9.965e-01\n",
            "epoch 2 | train loss 3.030e+00 | val loss 9.942e-01\n",
            "epoch 3 | train loss 8.685e-01 | val loss 9.919e-01\n",
            "epoch 4 | train loss 1.977e+00 | val loss 9.873e-01\n",
            "epoch 5 | train loss 1.321e+00 | val loss 1.002e+00\n",
            "epoch 6 | train loss 9.562e-01 | val loss 9.969e-01\n",
            "epoch 7 | train loss 1.964e+00 | val loss 9.971e-01\n",
            "epoch 8 | train loss 1.267e+00 | val loss 9.941e-01\n",
            "epoch 9 | train loss 1.811e+00 | val loss 9.945e-01\n"
          ],
          "name": "stdout"
        }
      ]
    },
    {
      "cell_type": "code",
      "metadata": {
        "id": "5tolDEjaJYvw"
      },
      "source": [
        "X, source, kap = gen[8]"
      ],
      "execution_count": 46,
      "outputs": []
    },
    {
      "cell_type": "code",
      "metadata": {
        "colab": {
          "base_uri": "https://localhost:8080/",
          "height": 285
        },
        "id": "BbBLwygmmuYm",
        "outputId": "55b580d3-e525-457b-d369-960b8a176407"
      },
      "source": [
        "plt.imshow(X.numpy()[0, ..., 0])"
      ],
      "execution_count": 49,
      "outputs": [
        {
          "output_type": "execute_result",
          "data": {
            "text/plain": [
              "<matplotlib.image.AxesImage at 0x7fdfbe00acd0>"
            ]
          },
          "metadata": {
            "tags": []
          },
          "execution_count": 49
        },
        {
          "output_type": "display_data",
          "data": {
            "image/png": "[encoded data removed]",
            "text/plain": [
              "<Figure size 432x288 with 1 Axes>"
            ]
          },
          "metadata": {
            "tags": [],
            "needs_background": "light"
          }
        }
      ]
    },
    {
      "cell_type": "code",
      "metadata": {
        "colab": {
          "base_uri": "https://localhost:8080/",
          "height": 979
        },
        "id": "s35IV-xImvTg",
        "outputId": "31e961d8-9355-4043-b279-55974acd28b1"
      },
      "source": [
        "plt.hist(X.numpy().ravel(), bins=100)"
      ],
      "execution_count": 32,
      "outputs": [
        {
          "output_type": "execute_result",
          "data": {
            "text/plain": [
              "(array([3.9384e+04, 2.5300e+02, 1.5300e+02, 1.0300e+02, 6.7000e+01,\n",
              "        5.8000e+01, 6.5000e+01, 4.6000e+01, 3.7000e+01, 3.0000e+01,\n",
              "        2.9000e+01, 3.4000e+01, 2.8000e+01, 1.8000e+01, 1.8000e+01,\n",
              "        1.7000e+01, 1.6000e+01, 1.7000e+01, 1.9000e+01, 1.7000e+01,\n",
              "        1.5000e+01, 1.3000e+01, 1.2000e+01, 1.0000e+01, 1.6000e+01,\n",
              "        1.2000e+01, 8.0000e+00, 1.2000e+01, 1.5000e+01, 1.3000e+01,\n",
              "        8.0000e+00, 7.0000e+00, 7.0000e+00, 9.0000e+00, 7.0000e+00,\n",
              "        1.6000e+01, 1.1000e+01, 1.0000e+01, 4.0000e+00, 9.0000e+00,\n",
              "        6.0000e+00, 6.0000e+00, 1.3000e+01, 1.0000e+01, 1.1000e+01,\n",
              "        8.0000e+00, 7.0000e+00, 6.0000e+00, 8.0000e+00, 7.0000e+00,\n",
              "        2.0000e+00, 5.0000e+00, 4.0000e+00, 9.0000e+00, 1.0000e+01,\n",
              "        2.0000e+00, 1.3000e+01, 5.0000e+00, 1.0000e+01, 5.0000e+00,\n",
              "        6.0000e+00, 5.0000e+00, 0.0000e+00, 5.0000e+00, 3.0000e+00,\n",
              "        4.0000e+00, 7.0000e+00, 1.0000e+00, 8.0000e+00, 2.0000e+00,\n",
              "        7.0000e+00, 7.0000e+00, 6.0000e+00, 8.0000e+00, 3.0000e+00,\n",
              "        4.0000e+00, 3.0000e+00, 4.0000e+00, 6.0000e+00, 2.0000e+00,\n",
              "        9.0000e+00, 3.0000e+00, 3.0000e+00, 1.0000e+00, 6.0000e+00,\n",
              "        5.0000e+00, 5.0000e+00, 5.0000e+00, 4.0000e+00, 6.0000e+00,\n",
              "        1.0000e+01, 3.0000e+00, 7.0000e+00, 8.0000e+00, 5.0000e+00,\n",
              "        2.0000e+00, 6.0000e+00, 3.0000e+00, 2.0000e+00, 6.0000e+00]),\n",
              " array([0.        , 0.00695297, 0.01390594, 0.02085891, 0.02781188,\n",
              "        0.03476484, 0.04171781, 0.04867078, 0.05562375, 0.06257672,\n",
              "        0.06952969, 0.07648265, 0.08343562, 0.0903886 , 0.09734157,\n",
              "        0.10429453, 0.1112475 , 0.11820047, 0.12515344, 0.13210641,\n",
              "        0.13905938, 0.14601235, 0.1529653 , 0.15991828, 0.16687125,\n",
              "        0.17382422, 0.18077719, 0.18773016, 0.19468313, 0.20163609,\n",
              "        0.20858906, 0.21554203, 0.222495  , 0.22944798, 0.23640095,\n",
              "        0.2433539 , 0.25030687, 0.25725985, 0.26421282, 0.2711658 ,\n",
              "        0.27811876, 0.28507173, 0.2920247 , 0.29897767, 0.3059306 ,\n",
              "        0.3128836 , 0.31983656, 0.32678953, 0.3337425 , 0.34069547,\n",
              "        0.34764844, 0.3546014 , 0.36155438, 0.36850736, 0.37546033,\n",
              "        0.3824133 , 0.38936627, 0.3963192 , 0.40327218, 0.41022515,\n",
              "        0.41717812, 0.4241311 , 0.43108407, 0.43803704, 0.44499   ,\n",
              "        0.45194298, 0.45889595, 0.46584892, 0.4728019 , 0.47975484,\n",
              "        0.4867078 , 0.49366078, 0.50061375, 0.50756675, 0.5145197 ,\n",
              "        0.5214727 , 0.52842563, 0.5353786 , 0.5423316 , 0.5492845 ,\n",
              "        0.5562375 , 0.56319046, 0.57014346, 0.5770964 , 0.5840494 ,\n",
              "        0.59100235, 0.59795535, 0.6049083 , 0.6118612 , 0.61881423,\n",
              "        0.6257672 , 0.6327202 , 0.6396731 , 0.6466261 , 0.65357906,\n",
              "        0.66053206, 0.667485  , 0.674438  , 0.68139094, 0.68834394,\n",
              "        0.6952969 ], dtype=float32),\n",
              " <a list of 100 Patch objects>)"
            ]
          },
          "metadata": {
            "tags": []
          },
          "execution_count": 32
        },
        {
          "output_type": "display_data",
          "data": {
            "image/png": "[encoded data removed]",
            "text/plain": [
              "<Figure size 432x288 with 1 Axes>"
            ]
          },
          "metadata": {
            "tags": [],
            "needs_background": "light"
          }
        }
      ]
    },
    {
      "cell_type": "code",
      "metadata": {
        "id": "li2uik8Qm1DI"
      },
      "source": [
        ""
      ],
      "execution_count": null,
      "outputs": []
    }
  ]
}