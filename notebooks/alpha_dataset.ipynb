{
 "cells": [
  {
   "cell_type": "code",
   "execution_count": 1,
   "id": "a3be2e05-2173-40eb-8436-028fddfd7fbf",
   "metadata": {},
   "outputs": [],
   "source": [
    "import tensorflow as tf\n",
    "from censai import RayTracer, PhysicalModel\n",
    "from censai.data.alpha_tng import decode_train, decode_physical_info\n",
    "from censai.utils import nullwriter, plot_to_image, raytracer_residual_plot as residual_plot\n",
    "import os, glob, json\n",
    "import numpy as np\n",
    "import math\n",
    "from datetime import datetime\n",
    "import time"
   ]
  },
  {
   "cell_type": "code",
   "execution_count": 2,
   "id": "05ef1c6a-4d89-4f6a-8514-4b33d4ebdd70",
   "metadata": {},
   "outputs": [],
   "source": [
    "datapath = \"/home/aadam/scratch/Censai/data/alpha128_512_hTNG_15k\"\n",
    "\n",
    "\n",
    "files = glob.glob(os.path.join(datapath, \"*.tfrecords\"))\n",
    "files = tf.data.Dataset.from_tensor_slices(files)\n",
    "dataset = files.interleave(lambda x: tf.data.TFRecordDataset(x, compression_type=\"GZIP\"), block_length=1, num_parallel_calls=tf.data.AUTOTUNE)#.map(decode_all)\n",
    "# data = tf.data.TFRecordDataset(filenames, compression_type=\"GZIP\").map(decode_all)\n",
    "# data = tf.data.TFRecordDataset(files, compression_type=\"GZIP\").map(decode_physical_model_info)"
   ]
  },
  {
   "cell_type": "code",
   "execution_count": 3,
   "id": "c628fc22-62d3-452e-9d4e-66c59c80c551",
   "metadata": {},
   "outputs": [],
   "source": [
    "for image_fov, kappa_fov in dataset.map(decode_physical_info):\n",
    "    break"
   ]
  },
  {
   "cell_type": "code",
   "execution_count": 4,
   "id": "3e0c0bf2-aafa-49d3-9c11-0861df161aeb",
   "metadata": {},
   "outputs": [
    {
     "data": {
      "text/plain": [
       "<tf.Tensor: shape=(), dtype=float32, numpy=17.425909>"
      ]
     },
     "execution_count": 4,
     "metadata": {},
     "output_type": "execute_result"
    }
   ],
   "source": [
    "image_fov"
   ]
  },
  {
   "cell_type": "code",
   "execution_count": 5,
   "id": "79620c2e-5ff1-4b14-ba5e-ac276ef11809",
   "metadata": {},
   "outputs": [
    {
     "data": {
      "text/plain": [
       "<tf.Tensor: shape=(), dtype=float32, numpy=17.425909>"
      ]
     },
     "execution_count": 5,
     "metadata": {},
     "output_type": "execute_result"
    }
   ],
   "source": [
    "kappa_fov"
   ]
  }
 ],
 "metadata": {
  "kernelspec": {
   "display_name": "censai",
   "language": "python",
   "name": "censai"
  },
  "language_info": {
   "codemirror_mode": {
    "name": "ipython",
    "version": 3
   },
   "file_extension": ".py",
   "mimetype": "text/x-python",
   "name": "python",
   "nbconvert_exporter": "python",
   "pygments_lexer": "ipython3",
   "version": "3.8.2"
  }
 },
 "nbformat": 4,
 "nbformat_minor": 5
}
