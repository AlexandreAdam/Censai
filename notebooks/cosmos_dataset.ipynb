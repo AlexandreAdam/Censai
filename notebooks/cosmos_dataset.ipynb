{
 "cells": [
  {
   "cell_type": "code",
   "execution_count": 10,
   "id": "642cdca7-1e94-4bf4-b444-22fecb3f0062",
   "metadata": {},
   "outputs": [],
   "source": [
    "import numpy as np\n",
    "from astropy.io import fits\n",
    "import os, glob\n",
    "import galsim"
   ]
  },
  {
   "cell_type": "code",
   "execution_count": 11,
   "id": "9eb31efa-969a-4251-92ef-5ee3c2b88a9d",
   "metadata": {},
   "outputs": [],
   "source": [
    "datapath = \"/home/aadam/scratch/data/COSMOS/COSMOS_25.2_training_sample\""
   ]
  },
  {
   "cell_type": "code",
   "execution_count": null,
   "id": "b2d01440-7d96-45e5-8bc7-079d6fbe5bdb",
   "metadata": {},
   "outputs": [],
   "source": []
  }
 ],
 "metadata": {
  "kernelspec": {
   "display_name": "censai",
   "language": "python",
   "name": "censai"
  },
  "language_info": {
   "codemirror_mode": {
    "name": "ipython",
    "version": 3
   },
   "file_extension": ".py",
   "mimetype": "text/x-python",
   "name": "python",
   "nbconvert_exporter": "python",
   "pygments_lexer": "ipython3",
   "version": "3.8.2"
  }
 },
 "nbformat": 4,
 "nbformat_minor": 5
}
