{
 "cells": [
  {
   "cell_type": "code",
   "execution_count": 1,
   "id": "9d46e65d-bf0c-434f-b6bf-5390f474a547",
   "metadata": {},
   "outputs": [],
   "source": [
    "import tensorflow as tf\n",
    "import numpy as np\n",
    "import matplotlib.pyplot as plt\n",
    "from censai import RIMUnet, PhysicalModel\n",
    "from censai.data import NISGenerator\n",
    "import os"
   ]
  },
  {
   "cell_type": "code",
   "execution_count": 3,
   "id": "35acd79a-03d1-46e8-ab15-f10b4a8ff6c0",
   "metadata": {},
   "outputs": [
    {
     "data": {
      "text/plain": [
       "<tensorflow.python.training.tracking.util.CheckpointLoadStatus at 0x2b8fefec9940>"
      ]
     },
     "execution_count": 3,
     "metadata": {},
     "output_type": "execute_result"
    }
   ],
   "source": [
    "kappa_checkpoints_dir = os.path.join(os.getenv(\"HOME\"), \"scratch/Censai/models/UnetRIM_21-06-02_15-11-15/kappa_checkpoints/\")\n",
    "source_checkpoints_dir = os.path.join(os.getenv(\"HOME\"), \"scratch/Censai/models/UnetRIM_21-06-02_15-11-15/source_checkpoints/\")\n",
    "\n",
    "\n",
    "phys = PhysicalModel(\n",
    "    pixels=64,\n",
    "    src_pixels=3,\n",
    "    image_fov=7.68,\n",
    "    kappa_fov=7.68,\n",
    "    method=\"conv2d\",\n",
    "    noise_rms=1e-3,\n",
    "    kappalog=True,\n",
    ")\n",
    "\n",
    "rim = RIMUnet(phys, 16, adam=True, kappalog=True, normalize=False,\n",
    "                  **{\"source\": {\"strides\": 2},\n",
    "                     \"kappa\": {\"strides\": 2}})\n",
    "\n",
    "source_ckpt = tf.train.Checkpoint(net=rim.source_model)\n",
    "source_checkpoint_manager = tf.train.CheckpointManager(source_ckpt, source_checkpoints_dir, max_to_keep=3)\n",
    "kappa_ckpt = tf.train.Checkpoint(net=rim.kappa_model)\n",
    "kappa_checkpoint_manager = tf.train.CheckpointManager(kappa_ckpt, kappa_checkpoints_dir, max_to_keep=3)\n",
    "\n",
    "kappa_checkpoint_manager.checkpoint.restore(kappa_checkpoint_manager.latest_checkpoint)\n",
    "source_checkpoint_manager.checkpoint.restore(source_checkpoint_manager.latest_checkpoint)"
   ]
  },
  {
   "cell_type": "code",
   "execution_count": 4,
   "id": "06d6ee33-44a2-4302-858b-d4db9511e1aa",
   "metadata": {},
   "outputs": [],
   "source": [
    "gen = NISGenerator(1000, batch_size=50, pixels=64)"
   ]
  },
  {
   "cell_type": "code",
   "execution_count": 5,
   "id": "8f746e4c-ff68-49df-811f-f35e2d45e625",
   "metadata": {},
   "outputs": [],
   "source": [
    "lens, source, kap = gen.generate_batch_rim()"
   ]
  },
  {
   "cell_type": "code",
   "execution_count": 7,
   "id": "66b5f453-42ac-4bb7-b877-23714d728cb4",
   "metadata": {},
   "outputs": [],
   "source": [
    "# tf.compat.v1.logging.set_verbosity(tf.compat.v1.logging.ERROR)\n",
    "# source_pred, kap_pred, cost = rim.forward_pass(lens) "
   ]
  },
  {
   "cell_type": "code",
   "execution_count": null,
   "id": "0d97248f-8a2e-4512-a271-a153312a7251",
   "metadata": {},
   "outputs": [],
   "source": [
    "plt.imshow(kap_pred[-1][2, ..., 0])"
   ]
  },
  {
   "cell_type": "code",
   "execution_count": 51,
   "id": "44f9a270-d1c7-454b-a66d-2ae1bce87c25",
   "metadata": {},
   "outputs": [
    {
     "data": {
      "text/plain": [
       "<matplotlib.image.AxesImage at 0x2ba7efc6c880>"
      ]
     },
     "execution_count": 51,
     "metadata": {},
     "output_type": "execute_result"
    },
    {
     "data": {
      "image/png": "[encoded data removed]",
      "text/plain": [
       "<Figure size 432x288 with 1 Axes>"
      ]
     },
     "metadata": {
      "needs_background": "light"
     },
     "output_type": "display_data"
    }
   ],
   "source": [
    "plt.imshow(kap[30, ..., 0])"
   ]
  },
  {
   "cell_type": "code",
   "execution_count": null,
   "id": "326a80ff-e096-48b1-b74e-7a9410658f99",
   "metadata": {},
   "outputs": [],
   "source": []
  }
 ],
 "metadata": {
  "kernelspec": {
   "display_name": "censai",
   "language": "python",
   "name": "censai"
  },
  "language_info": {
   "codemirror_mode": {
    "name": "ipython",
    "version": 3
   },
   "file_extension": ".py",
   "mimetype": "text/x-python",
   "name": "python",
   "nbconvert_exporter": "python",
   "pygments_lexer": "ipython3",
   "version": "3.8.2"
  }
 },
 "nbformat": 4,
 "nbformat_minor": 5
}
