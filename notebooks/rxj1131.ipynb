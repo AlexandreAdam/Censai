{
 "cells": [
  {
   "cell_type": "code",
   "execution_count": 1,
   "metadata": {},
   "outputs": [],
   "source": [
    "from censai import RIMSharedUnetv3, PhysicalModelv2\n",
    "from censai.models import SharedUnetModelv4\n",
    "import tensorflow as tf\n",
    "import json, os\n",
    "import numpy as np\n",
    "import matplotlib.pyplot as plt\n",
    "from astropy.io import fits\n",
    "import matplotlib.pylab as pylab\n",
    "from astropy.visualization import SqrtStretch, imshow_norm, LogStretch\n",
    "from astropy.visualization.mpl_normalize import ImageNormalize\n",
    "import astropy.units as u\n",
    "from astropy.wcs import WCS\n",
    "from lenstronomy.LensModel.lens_model import LensModel\n",
    "from lenstronomy.LensModel.Solver.lens_equation_solver import LensEquationSolver\n",
    "from lenstronomy.LightModel.light_model import LightModel\n",
    "from lenstronomy.PointSource.point_source import PointSource\n",
    "from lenstronomy.LensModel.Profiles.spep import SPEP\n",
    "from lenstronomy.ImSim.image_model import ImageModel\n",
    "from lenstronomy.Sampling.parameters import Param\n",
    "import lenstronomy.Util.param_util as param_util\n",
    "import lenstronomy.Util.simulation_util as sim_util\n",
    "import lenstronomy.Util.image_util as image_util\n",
    "from lenstronomy.Util import kernel_util\n",
    "from lenstronomy.Data.imaging_data import ImageData\n",
    "from lenstronomy.Data.psf import PSF\n",
    "import matplotlib.pylab as pylab\n",
    "import pandas as pd\n",
    "import corner\n",
    "\n",
    "\n",
    "plt.style.use(\"science\")\n",
    "params = {'legend.fontsize': 'x-large',\n",
    "#           'figure.figsize': (10, 10),\n",
    "         'axes.labelsize': 25,\n",
    "         'axes.titlesize':25,\n",
    "         'xtick.labelsize':25,\n",
    "         'ytick.labelsize':25}\n",
    "pylab.rcParams.update(params)\n",
    "\n",
    "# from reproject import reproject_interp\n",
    "\n",
    "pd.set_option('display.max_columns', 500)\n",
    "pd.set_option('display.max_rows', 500)\n",
    "\n",
    "np.set_printoptions(edgeitems=10)\n",
    "np.core.arrayprint._line_width = 180\n",
    "%matplotlib inline\n",
    "basepath = \"/media/alexandre/Seagate/Ecole/Automne2021/Censai/\""
   ]
  },
  {
   "cell_type": "markdown",
   "metadata": {},
   "source": [
    "# Preprocessing of the F814W image"
   ]
  },
  {
   "cell_type": "code",
   "execution_count": null,
   "metadata": {},
   "outputs": [],
   "source": [
    "datapath = \"../data/hst_mos_0043768_acs_wfc_f814w_drz.fits\"\n",
    "data = fits.open(datapath)"
   ]
  },
  {
   "cell_type": "code",
   "execution_count": null,
   "metadata": {},
   "outputs": [],
   "source": [
    "wcs = WCS(data[\"SCI\"].header)\n",
    "plt.figure(figsize=(10, 10))\n",
    "plt.subplot(projection=wcs)\n",
    "plt.imshow(image, cmap=\"gray_r\", norm=ImageNormalize(interval=ZScaleInterval(), stretch=LogStretch()))\n",
    "\n",
    "ax = plt.gca()\n",
    "ax.set_xlabel('RA')\n",
    "ax.set_ylabel('Dec');"
   ]
  },
  {
   "cell_type": "code",
   "execution_count": null,
   "metadata": {},
   "outputs": [],
   "source": [
    "centroid = SkyCoord(172.96435966, -12.53284896, unit=\"deg\")\n",
    "centroid = centroid.to_pixel(wcs)\n",
    "centroid"
   ]
  },
  {
   "cell_type": "code",
   "execution_count": null,
   "metadata": {},
   "outputs": [],
   "source": [
    "size = 175 * u.pixel\n",
    "cutout = Cutout2D(image, centroid, size, wcs=wcs)\n",
    "cutout_image = cutout.data\n",
    "wcs_cutout = cutout.wcs"
   ]
  },
  {
   "cell_type": "code",
   "execution_count": null,
   "metadata": {},
   "outputs": [],
   "source": [
    "cutout = Cutout2D(weights, centroid, size, wcs=wcs)\n",
    "cutout_weights = cutout.data"
   ]
  },
  {
   "cell_type": "code",
   "execution_count": null,
   "metadata": {},
   "outputs": [],
   "source": [
    "mean, median, std = sigma_clipped_stats(cutout_image,  sigma=3.0)\n",
    "print(mean, median, std)\n",
    "daofind = DAOStarFinder(fwhm=3.0, threshold=5.*std)\n",
    "sources = daofind(cutout_image)\n",
    "positions = np.transpose((sources['xcentroid'], sources['ycentroid']))\n",
    "\n",
    "object_positions = sources[[7, 3, 1, 5, 4, 6]][\"xcentroid\", \"ycentroid\"].to_pandas().to_numpy() # B, A, C, D, G, S\n",
    "ox, oy = object_positions[:, 0], object_positions[:, 1]"
   ]
  },
  {
   "cell_type": "code",
   "execution_count": null,
   "metadata": {},
   "outputs": [],
   "source": [
    "plt.figure(figsize=(10, 10))\n",
    "plt.subplot(projection=wcs_cutout)\n",
    "plt.imshow(cutout_image, cmap=\"gray_r\", norm=ImageNormalize(interval=ZScaleInterval(), stretch=LogStretch()))\n",
    "# plt.imshow(cutout_image > cutout_image.std())\n",
    "ax = plt.gca()\n",
    "ax.annotate(\"A\",  [ox[1]-15, oy[1]], color=\"k\", fontsize=20)\n",
    "ax.annotate(\"B\",  [ox[0]-15, oy[0]], color=\"k\", fontsize=20)\n",
    "ax.annotate(\"C\",  [ox[2]-10, oy[2]], color=\"k\", fontsize=20)\n",
    "ax.annotate(\"D\",  [ox[3], oy[3]-10], color=\"k\", fontsize=20)\n",
    "ax.annotate(\"G\",  [ox[4], oy[4]-10], color=\"k\", fontsize=20)\n",
    "ax.annotate(\"S\",  [ox[5], oy[5]+5], color=\"k\", fontsize=20)\n",
    "ax.set_xlabel('RA')\n",
    "ax.set_ylabel('Dec')\n",
    "\n",
    "\n",
    "N, M = cutout_image.shape\n",
    "y = np.arange(N) #- N//2. + 0.5 * ((N + 1) % 2)\n",
    "x = np.arange(M) #- M//2. + 0.5 * ((M + 1) % 2)\n",
    "x, y = np.meshgrid(x, y)\n",
    "lens_sky = wcs_cutout.pixel_to_world(x.ravel(), y.ravel())\n",
    "x = lens_sky.ra.to(u.arcsec) -  lens_sky.ra.min()\n",
    "y = lens_sky.dec.to(u.arcsec) - lens_sky.dec.min()\n",
    "width = x.max().value\n",
    "deltaPix = (x[1] - x[0]).value\n",
    "x_center = (x[M//2]).to(u.arcsec).value\n",
    "y_center = (y[M*N//2]).to(u.arcsec).value\n",
    "\n",
    "#scale bar\n",
    "p0 = 30\n",
    "dist = 1 / deltaPix\n",
    "ax.plot([p0, p0 + dist], [10, 10], linewidth=2, color=\"k\")\n",
    "ax.text(p0 + dist / 2., 14, \"1''\", fontsize=15, color=\"k\", ha='center')\n",
    "\n",
    "#coordinate array\n",
    "arrow_size = 0.01\n",
    "color=\"k\"\n",
    "font_size = 15\n",
    "width = 175\n",
    "d0 = 10\n",
    "p0 = 15\n",
    "pt = 20\n",
    "\n",
    "xx_, yy_ = (width - d0), d0\n",
    "xx_ra, yy_ra = xx_ + p0, yy_\n",
    "xx_dec, yy_dec = xx_, yy_ + p0\n",
    "xx_ra_t, yy_ra_t = xx_ - pt, yy_\n",
    "xx_dec_t, yy_dec_t = xx_, yy_ + pt\n",
    "\n",
    "ax.arrow(xx_ , yy_, -(xx_ra - xx_), -(yy_ra - yy_),\n",
    "         head_width=arrow_size * width, head_length=arrow_size * width, fc=color, ec=color, linewidth=1)\n",
    "ax.text(xx_ra_t, yy_ra_t, \"E\", color=color, fontsize=font_size, ha='center')\n",
    "ax.arrow(xx_, yy_, (xx_dec - xx_), (yy_dec - yy_),\n",
    "         head_width=arrow_size * width, head_length=arrow_size * width, fc=color, ec=color, linewidth=1)\n",
    "ax.text(xx_dec_t, yy_dec_t, \"N\", color=color, fontsize=font_size, ha='center')\n",
    "\n",
    "ax.set_title(\"RXJ1131-1231\")"
   ]
  },
  {
   "cell_type": "code",
   "execution_count": null,
   "metadata": {},
   "outputs": [],
   "source": [
    "header = wcs_cutout.to_header()\n",
    "header[\"EXPTIME\"] = exptime\n",
    "new_hdul = fits.HDUList()\n",
    "new_hdul.append(fits.PrimaryHDU(data=cutout_image, header=header))\n",
    "new_hdul.writeto(basepath + \"data/rxj1131_cutout.fits\", overwrite=True)"
   ]
  },
  {
   "cell_type": "code",
   "execution_count": null,
   "metadata": {},
   "outputs": [],
   "source": [
    "noise_map = np.sqrt(np.maximum(residual, 0.) + exptime**2/cutout_weights)\n",
    "new_hdul = fits.HDUList()\n",
    "new_hdul.append(fits.PrimaryHDU(data=noise_map, header=wcs_cutout.to_header()))\n",
    "new_hdul.writeto(\"../data/rxj1131_cutout_noise_map.fits\", overwrite=True)"
   ]
  },
  {
   "cell_type": "markdown",
   "metadata": {},
   "source": [
    "# Galfit of the lens light"
   ]
  },
  {
   "cell_type": "code",
   "execution_count": null,
   "metadata": {},
   "outputs": [],
   "source": [
    "N = cutout_image.shape[1]\n",
    "x = np.arange(N) - N//2\n",
    "M = cutout_image.shape[0]\n",
    "y = np.arange(M) - M//2\n",
    "xx, yy = np.meshgrid(x, y)\n",
    "rho = np.hypot(xx, yy)b"
   ]
  },
  {
   "cell_type": "code",
   "execution_count": null,
   "metadata": {},
   "outputs": [],
   "source": [
    "plt.figure(figsize=(10, 10))\n",
    "b_map = np.zeros_like(cutout_image)\n",
    "b_map += (rho > 20) & (cutout_image > 0.4*std)\n",
    "plt.imshow(cutout_image * (~b_map.astype(bool)), norm=ImageNormalize(stretch=LogStretch()), origin=\"lower\", cmap=\"gray\")\n",
    "plt.axis(\"off\")\n",
    "plt.title(\"Mask\")"
   ]
  },
  {
   "cell_type": "code",
   "execution_count": null,
   "metadata": {},
   "outputs": [],
   "source": [
    "new_hdul = fits.HDUList()\n",
    "new_hdul.append(fits.PrimaryHDU(data=b_map, header=wcs_cutout.to_header()))\n",
    "new_hdul.writeto(\"../data/rxj1131_bad_pixel_map_galfit.fits\", overwrite=True)"
   ]
  },
  {
   "cell_type": "code",
   "execution_count": null,
   "metadata": {},
   "outputs": [],
   "source": [
    "new_hdul = fits.HDUList()\n",
    "new_hdul.append(fits.PrimaryHDU(data=cutout_weights, header=wcs_cutout.to_header()))\n",
    "new_hdul.writeto(\"../data/rxj1131_cutout_weights.fits\", overwrite=True)"
   ]
  },
  {
   "cell_type": "code",
   "execution_count": null,
   "metadata": {},
   "outputs": [],
   "source": [
    "# after galfit\n",
    "block = fits.open(basepath + \"/data/rxj1131_galfitted.fits\")"
   ]
  },
  {
   "cell_type": "markdown",
   "metadata": {},
   "source": [
    "# RIM prediction"
   ]
  },
  {
   "cell_type": "code",
   "execution_count": 2,
   "metadata": {},
   "outputs": [],
   "source": [
    "phys = PhysicalModelv2( # use same parameter as was used during training, rescale kappa later\n",
    "    pixels=175,\n",
    "    kappa_pixels=128,\n",
    "    src_pixels=128,\n",
    "    image_fov=7.68,\n",
    "    kappa_fov=7.68,\n",
    "    src_fov=4,\n",
    "    method=\"fft\",\n",
    ")"
   ]
  },
  {
   "cell_type": "code",
   "execution_count": 9,
   "metadata": {},
   "outputs": [],
   "source": [
    "path = basepath + \"/models/RIMSU128hstv4_augmented_003_K3_L5_BCL2_211124140837_continue_lr6e-05_211129202839\"\n",
    "with open(os.path.join(path, \"unet_hparams.json\")) as f:\n",
    "    unet_params = json.load(f)\n",
    "# unet_params[\"kernel_l2_amp\"] = args.l2_amp\n",
    "unet = SharedUnetModelv4(**unet_params)\n",
    "ckpt = tf.train.Checkpoint(net=unet)\n",
    "checkpoint_manager = tf.train.CheckpointManager(ckpt, path, 1)\n",
    "checkpoint_manager.checkpoint.restore(checkpoint_manager.latest_checkpoint).expect_partial()\n",
    "with open(os.path.join(path, \"rim_hparams.json\")) as f:\n",
    "    rim_params = json.load(f)\n",
    "rim_params[\"source_link\"] = \"relu\"\n",
    "rim = RIMSharedUnetv3(phys, unet, **rim_params)"
   ]
  },
  {
   "cell_type": "code",
   "execution_count": 29,
   "metadata": {},
   "outputs": [],
   "source": [
    "SNR = 5.098 # known from original fits file\n",
    "sky_zero_point = -21.1 # mag\n",
    "photflam = 6.9548454E-20 # inverse sensitivity ergs/cm2/Ang/electron\n",
    "im = galfit_data[3].data\n",
    "wcs= WCS(galfit_data[1].header)\n",
    "psf = fits.open(basepath + \"/data/rxj1131_psf1.fits\")[0].data\n",
    "psf2 = fits.open(basepath + \"/data/tiny_psf00_psf.fits\")[0].data\n",
    "# noise_map = fits.open(basepath + \"/data/rxj1131_cutout_noise_map.fits\")[0].data\n",
    "im[im < 0] = 0\n",
    "# image_principales = np.loadtxt(basepath + \"/data/images_positions.txt\")[:4] ## B, A, C, D, G, S\n",
    "f_vega = 8.60e-10 "
   ]
  },
  {
   "cell_type": "code",
   "execution_count": 30,
   "metadata": {},
   "outputs": [
    {
     "data": {
      "text/plain": [
       "<matplotlib.colorbar.Colorbar at 0x7fdddd6e7490>"
      ]
     },
     "execution_count": 30,
     "metadata": {},
     "output_type": "execute_result"
    },
    {
     "data": {
      "image/png": "[encoded data removed]",
      "text/plain": [
       "<Figure size 720x720 with 2 Axes>"
      ]
     },
     "metadata": {
      "needs_background": "light"
     },
     "output_type": "display_data"
    }
   ],
   "source": [
    "plt.figure(figsize=(10, 10))\n",
    "plt.subplot(projection=wcs)\n",
    "plt.imshow(im, cmap=\"gray\", norm=ImageNormalize(stretch=LogStretch()))#, norm=ImageNormalize(stretch=SqrtStretch()))\n",
    "ax = plt.gca()\n",
    "ax.set_xlabel('RA')\n",
    "ax.set_ylabel('Dec')\n",
    "plt.colorbar()"
   ]
  },
  {
   "cell_type": "markdown",
   "metadata": {},
   "source": [
    "# Lenstronomy fit for comparison, follow Birrer 2017"
   ]
  },
  {
   "cell_type": "code",
   "execution_count": 12,
   "metadata": {},
   "outputs": [
    {
     "name": "stdout",
     "output_type": "stream",
     "text": [
      "Filename: /media/alexandre/Seagate/Ecole/Automne2021/Censai//data/rxj1131_galfitted.fits\n",
      "No.    Name      Ver    Type      Cards   Dimensions   Format\n",
      "  0  PRIMARY       1 PrimaryHDU       8   (175, 175)   float32   \n",
      "  1                1 ImageHDU        31   (175, 175)   float32   \n",
      "  2                1 ImageHDU        50   (175, 175)   float32   \n",
      "  3                1 ImageHDU         6   (175, 175)   float32   \n"
     ]
    }
   ],
   "source": [
    "path = basepath + \"/data/rxj1131_galfitted.fits\"\n",
    "galfit_data = fits.open(path)\n",
    "galfit_data.info()"
   ]
  },
  {
   "cell_type": "code",
   "execution_count": 24,
   "metadata": {},
   "outputs": [],
   "source": [
    "# coordinate system in arcseconds, centered\n",
    "N, M = im.shape\n",
    "y = np.arange(N) #- N//2. + 0.5 * ((N + 1) % 2)\n",
    "x = np.arange(M) #- M//2. + 0.5 * ((M + 1) % 2)\n",
    "x, y = np.meshgrid(x, y)\n",
    "lens_sky = wcs.pixel_to_world(x.ravel(), y.ravel())\n",
    "x_center = (lens_sky.ra[M//2]).to(u.arcsec)\n",
    "y_center = (lens_sky.dec[M*N//2]).to(u.arcsec)\n",
    "\n",
    "\n",
    "# x_image = image_principales[:, 0] # B, A, C, D\n",
    "# y_image = image_principales[:, 1]\n",
    "# positions = wcs.pixel_to_world(x_image, y_image)\n",
    "# x_image = (positions.ra - lens_sky.ra.max()).to(u.arcsec).value\n",
    "# y_image = (positions.dec - lens_sky.dec.min()).to(u.arcsec).value\n",
    "# image_position = pd.DataFrame(np.column_stack([x_image, y_image]), columns=[\"theta_x\", \"theta_y\"])\n",
    "# image_position"
   ]
  },
  {
   "cell_type": "code",
   "execution_count": 28,
   "metadata": {},
   "outputs": [],
   "source": [
    "# data specifics for the lens image\n",
    "# sigma_bkg = .05  #  background noise per pixel (Gaussian)\n",
    "# exp_time = 1.  #  exposure time (arbitrary units, flux per pixel is in units #photons/exp_time unit)\n",
    "delta_pix_x = np.abs(lens_sky.ra[0] - lens_sky.ra[1]).to(u.arcsec).value\n",
    "delta_pix_y = np.abs(lens_sky.dec[0] - lens_sky.dec[M]).to(u.arcsec).value\n",
    "kwargs_data = {\n",
    "    \"image_data\": im, \n",
    "    \"exposure_time\": exp_time, \n",
    "    \"background_rms\": sigma_bkg, # white noise approximation, careful from understimation here\n",
    "    \"noise_map\": noise_map, # drizzling weights\n",
    "               \"transform_pix2angle\":np.array([[-delta_pix_x, 0], [0, delta_pix_y]]),\n",
    "               \"ra_at_xy_0\": 0,\n",
    "               \"dec_at_xy_0\": 0\n",
    "               }\n",
    "data_class = ImageData(**kwargs_data)"
   ]
  },
  {
   "cell_type": "code",
   "execution_count": null,
   "metadata": {},
   "outputs": [],
   "source": [
    "kwargs_ps = [{'ra_image': x_image, 'dec_image': y_image}]\n",
    "#                            'point_amp': np.abs(mag)*1000}]  \n",
    "point_source_list = ['LENSED_POSITION']\n",
    "# point_source_class = PointSource(point_source_type_list=point_source_list, fixed_magnification_list=[False])"
   ]
  },
  {
   "cell_type": "code",
   "execution_count": null,
   "metadata": {},
   "outputs": [],
   "source": [
    "kwargs_psf = {'psf_type': \"PIXEL\", \"kernel_point_source\":psf, \"pixel_size\": delta_pix_x}"
   ]
  },
  {
   "cell_type": "code",
   "execution_count": null,
   "metadata": {},
   "outputs": [],
   "source": [
    "fixed_lens = [{}, {'ra_0': x_center, 'dec_0': y_center}]\n",
    "fixed_lens_light = [{}, {}, {}]\n",
    "fixed_source = [{}, {}]\n",
    "fixed_ps = [{}]\n",
    "\n",
    "kwargs_lens_init = [\n",
    "    {'theta_E': 1.5, 'e1': 0.1, 'e2': 0.1, 'gamma': 2, 'center_x': x_center, 'center_y': y_center}, # SPEP\n",
    "    {'gamma1': 0., 'gamma2': 0.}] # Shear\n",
    "\n",
    "# Start from value known from galfitting\n",
    "kwargs_lens_light_init = [\n",
    "    {}, # Sersic 1 for main deflector G\n",
    "    {}, # sersic 2 for main deflector G\n",
    "    {}  # Small satellite S\n",
    "]\n",
    "\n",
    "kwargs_source_init = [\n",
    "    {'R_sersic': 1, 'n_sersic': 4., 'e1': 0, 'e2': 0, 'center_x': x_center, 'center_y': y_center}, # bulge\n",
    "    {'R_sersic': 1, 'n_sersic': 1., 'e1': 0., 'e2': 0., 'center_x': x_center, 'center_y': y_center} # disc\n",
    "]\n",
    "# kwargs_source_init = [{'amp': 1, 'beta': 0.2, 'n_max': 7, 'center_x': x_center, 'center_y': y_center}]\n",
    "kwargs_ps_init = [{'ra_image': x_image, 'dec_image': y_image}]\n",
    "\n",
    "# initial spread in parameter estimation\n",
    "kwargs_lens_sigma = [\n",
    "    {'theta_E': 0.3, 'e1': 0.1, 'e2': 0.1, 'gamma': .2, 'center_x': 0.1, 'center_y': 0.1},\n",
    "    {'gamma1': 0.1, 'gamma2': 0.1}\n",
    "]\n",
    "kwargs_lens_light_sigma = [\n",
    "    {},\n",
    "    {},\n",
    "    {}\n",
    "]\n",
    "kwargs_source_sigma = [\n",
    "    {'R_sersic': 0.1, 'n_sersic': .5, 'center_x': .1, 'center_y': 0.1, 'e1': 0.2, 'e2': 0.2},\n",
    "    {'R_sersic': 0.1, 'n_sersic': .5, 'center_x': .1, 'center_y': 0.1, 'e1': 0.2, 'e2': 0.2}\n",
    "]\n",
    "# kwargs_source_sigma = [{'amp': 0.1, 'beta': 0.2, 'n_max': 0, 'center_x': 0.2, 'center_y': 0.2}]\n",
    "kwargs_ps_sigma = [{ 'ra_image': [0.02] * 4, 'dec_image': [0.02] * 4}]\n",
    "\n",
    "# hard bound lower limit in parameter space \n",
    "kwargs_lower_lens = [\n",
    "    {'theta_E': 0.5, 'e1': -0.5, 'e2': -0.5, 'gamma': 1.5, 'center_x': x.min().value, 'center_y': y.min().value},\n",
    "    {'gamma1': -0.5, 'gamma2': -0.5}\n",
    "]\n",
    "kwargs_lower_lens_light = [\n",
    "    {},\n",
    "    {},\n",
    "    {}\n",
    "]\n",
    "kwargs_lower_source = [\n",
    "    {'R_sersic': 0.04, 'n_sersic': .5, 'e1': -0.5, 'e2': -0.5, 'center_x': x_center-2, 'center_y': y_center-2},\n",
    "    {'R_sersic': 0.04, 'n_sersic': .5, 'e1': -0.5, 'e2': -0.5, 'center_x': x_center-2, 'center_y': y_center-2}\n",
    "]\n",
    "# kwargs_lower_source = [{'amp': 0, 'beta': 0.2, 'n_max': 0, 'center_x': x.min().value, 'center_y': y.min().value}]\n",
    "kwargs_lower_ps = [{'ra_image': (x_center-5) * np.ones_like(x_image), 'dec_image': (x_center-5) * np.ones_like(y_image)}]\n",
    "\n",
    "# hard bound upper limit in parameter space \n",
    "kwargs_upper_lens = [\n",
    "    {'theta_E': 5, 'e1': 0.5, 'e2': 0.5, 'gamma': 2.5, 'center_x': x.max().value, 'center_y': y.max().value},\n",
    "    {'gamma1': 0.5, 'gamma2': 0.5}\n",
    "]\n",
    "kwargs_upper_lens_light = [\n",
    "    {},\n",
    "    {},\n",
    "    {}\n",
    "]\n",
    "kwargs_upper_source = [\n",
    "    {'R_sersic': 10, 'n_sersic': 5., 'e1': 0.5, 'e2': 0.5, 'center_x': x_center+2, 'center_y': y_center+2},\n",
    "    {'R_sersic': 10, 'n_sersic': 5., 'e1': 0.5, 'e2': 0.5, 'center_x': x_center+2, 'center_y': y_center+2}\n",
    "]\n",
    "# kwargs_upper_source = [{'amp': 10, 'beta': 100, 'n_max': 30, 'center_x': x.max().value, 'center_y': y.max().value}]\n",
    "kwargs_upper_ps = [{'ra_image': (x_center+5) * np.ones_like(x_image), 'dec_image': (y_center+5) * np.ones_like(y_image)}]\n",
    "\n",
    "\n",
    "lens_params = [kwargs_lens_init, kwargs_lens_sigma, fixed_lens, kwargs_lower_lens, kwargs_upper_lens]\n",
    "lens_light_params [kwargs_lens_light_init, kwargs_lens_light_sigma, fixed_lens_light, kwargs_lower_lens_light, kwargs_upper_lens_light]\n",
    "source_params = [kwargs_source_init, kwargs_source_sigma, fixed_source, kwargs_lower_source, kwargs_upper_source]\n",
    "ps_params = [kwargs_ps_init, kwargs_ps_sigma, fixed_ps, kwargs_lower_ps, kwargs_upper_ps]"
   ]
  },
  {
   "cell_type": "code",
   "execution_count": null,
   "metadata": {},
   "outputs": [],
   "source": [
    "plate_scale = (delta_pix_x + delta_pix_y)/2\n",
    "plate_scale"
   ]
  },
  {
   "cell_type": "code",
   "execution_count": null,
   "metadata": {},
   "outputs": [],
   "source": [
    "fixed_special = {}\n",
    "kwargs_special_init = {}\n",
    "kwargs_special_sigma = {}\n",
    "kwargs_lower_special = {}\n",
    "kwargs_upper_special = {}\n",
    "\n",
    "# Quasar represented as point source\n",
    "fixed_special['source_size'] = source_size_arcsec\n",
    "kwargs_special_init['source_size'] = source_size_arcsec\n",
    "kwargs_special_sigma['source_size'] = source_size_arcsec\n",
    "kwargs_lower_special['source_size'] = 0.0001 # arcsec\n",
    "kwargs_upper_special['source_size'] = 0.1\n",
    "\n",
    "# For cosmography\n",
    "# kwargs_special_init['D_dt']= 5000\n",
    "# kwargs_special_sigma['D_dt'] = 1000\n",
    "# kwargs_lower_special['D_dt'] = 100\n",
    "# kwargs_upper_special['D_dt'] =  10000\n",
    "special_params = [kwargs_special_init, kwargs_special_sigma, fixed_special, kwargs_lower_special, kwargs_upper_special]\n",
    "\n",
    "\n",
    "window_size = 0.1  # units of arcseconds\n",
    "grid_number = 100  # supersampled window (per axis)\n",
    "kwargs_flux_compute = {\n",
    "    'source_type': 'INF',  # you can either chose 'INF' which is a infinetesimal source sice, 'GAUSSIAN' or 'TORUS'\n",
    "    'window_size': window_size, # window size to compute the finite source magnification (only when 'GAUSSIAN' or 'TORUS' are chosen.)\n",
    "    'grid_number': grid_number\n",
    "} \n",
    "\n",
    "\n",
    "source_model_list = ['SERSIC_ELLIPSE']*2 # default bulge + disc\n",
    "# source_model_list = [\"SHAPELETS\"] # free form source reconstruction, regularized by number of shapelet used\n",
    "lens_light_model_list = ['SERSIC_ELIPSE']*2 + ['PSF']\n",
    "lens_model_list = ['SPEP', 'SHEAR']\n",
    "\n",
    "kwargs_params = {\n",
    "    'lens_model': lens_params,\n",
    "    'source_model': source_params,\n",
    "    'lens_light_model': lens_light_params,\n",
    "    'point_source_model': ps_params,\n",
    "    'special': special_params}\n",
    "\n",
    "kwargs_model = {\n",
    "    'lens_model_list': lens_model_list, \n",
    "    'lens_light_model_list': lens_light_model_list,\n",
    "    'source_light_model_list': source_model_list,\n",
    "    'point_source_model_list': point_source_list\n",
    "}"
   ]
  },
  {
   "cell_type": "code",
   "execution_count": null,
   "metadata": {},
   "outputs": [],
   "source": [
    "# observation = tf.constant(residual / residual.max(), dtype=tf.float32)[None, ..., None]\n",
    "# lens_light = tf.constant(model, dtype=tf.float32)[None, ..., None]\n",
    "# rim_input1 = tf.constant(rim_input, dtype=tf.float32)[None, ..., None]\n",
    "# psf1 = tf.constant(psf, dtype=tf.float32)[None, ..., None]\n",
    "# noise_rms = tf.constant(std_bkg / residual.max())[None] # same scaling as before  --> make sure rim call support the sigma image\n",
    "# mask1 = tf.constant(mask, dtype=tf.float32)[None, ..., None]"
   ]
  }
 ],
 "metadata": {
  "kernelspec": {
   "display_name": "Python 3",
   "language": "python",
   "name": "python3"
  },
  "language_info": {
   "codemirror_mode": {
    "name": "ipython",
    "version": 3
   },
   "file_extension": ".py",
   "mimetype": "text/x-python",
   "name": "python",
   "nbconvert_exporter": "python",
   "pygments_lexer": "ipython3",
   "version": "3.8.10"
  }
 },
 "nbformat": 4,
 "nbformat_minor": 4
}
