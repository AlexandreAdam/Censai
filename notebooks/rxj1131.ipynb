{
 "cells": [
  {
   "cell_type": "code",
   "execution_count": 7,
   "metadata": {},
   "outputs": [],
   "source": [
    "from censai import RIMSharedUnetv3, PhysicalModelv2\n",
    "from censai.models import SharedUnetModelv4\n",
    "import tensorflow as tf\n",
    "import json, os\n",
    "import numpy as np\n",
    "import matplotlib.pyplot as plt\n",
    "from astropy.io import fits\n",
    "import matplotlib.pylab as pylab\n",
    "\n",
    "\n",
    "plt.style.use(\"science\")\n",
    "params = {'legend.fontsize': 'x-large',\n",
    "#           'figure.figsize': (10, 10),\n",
    "         'axes.labelsize': 25,\n",
    "         'axes.titlesize':25,\n",
    "         'xtick.labelsize':25,\n",
    "         'ytick.labelsize':25}\n",
    "pylab.rcParams.update(params)\n",
    "\n",
    "# from reproject import reproject_interp\n",
    "\n",
    "pd.set_option('display.max_columns', 500)\n",
    "pd.set_option('display.max_rows', 500)\n",
    "\n",
    "np.set_printoptions(edgeitems=10)\n",
    "np.core.arrayprint._line_width = 180\n",
    "%matplotlib inline"
   ]
  },
  {
   "cell_type": "code",
   "execution_count": 8,
   "metadata": {},
   "outputs": [],
   "source": [
    "phys = PhysicalModelv2( # use same parameter as was used during training, rescale kappa later\n",
    "    pixels=175,\n",
    "    kappa_pixels=128,\n",
    "    src_pixels=128,\n",
    "    image_fov=7.68,\n",
    "    kappa_fov=7.68,\n",
    "    src_fov=4,\n",
    "    method=\"fft\",\n",
    ")"
   ]
  },
  {
   "cell_type": "code",
   "execution_count": 9,
   "metadata": {},
   "outputs": [],
   "source": [
    "path = \"/media/alexandre/Seagate/Ecole/Automne2021/Censai/models/RIMSU128hstv4_augmented_003_K3_L5_BCL2_211124140837_continue_lr6e-05_211129202839\"\n",
    "with open(os.path.join(path, \"unet_hparams.json\")) as f:\n",
    "    unet_params = json.load(f)\n",
    "# unet_params[\"kernel_l2_amp\"] = args.l2_amp\n",
    "unet = SharedUnetModelv4(**unet_params)\n",
    "ckpt = tf.train.Checkpoint(net=unet)\n",
    "checkpoint_manager = tf.train.CheckpointManager(ckpt, path, 1)\n",
    "checkpoint_manager.checkpoint.restore(checkpoint_manager.latest_checkpoint).expect_partial()\n",
    "with open(os.path.join(path, \"rim_hparams.json\")) as f:\n",
    "    rim_params = json.load(f)\n",
    "rim_params[\"source_link\"] = \"relu\"\n",
    "rim = RIMSharedUnetv3(phys, unet, **rim_params)"
   ]
  },
  {
   "cell_type": "code",
   "execution_count": 12,
   "metadata": {},
   "outputs": [
    {
     "name": "stdout",
     "output_type": "stream",
     "text": [
      "Filename: ../data/rxj1131_galfitted.fits\n",
      "No.    Name      Ver    Type      Cards   Dimensions   Format\n",
      "  0  PRIMARY       1 PrimaryHDU       8   (175, 175)   float32   \n",
      "  1                1 ImageHDU        31   (175, 175)   float32   \n",
      "  2                1 ImageHDU        50   (175, 175)   float32   \n",
      "  3                1 ImageHDU         6   (175, 175)   float32   \n"
     ]
    }
   ],
   "source": [
    "path = \"../data/rxj1131_galfitted.fits\"\n",
    "galfit_data = fits.open(path)\n",
    "galfit_data.info()"
   ]
  },
  {
   "cell_type": "code",
   "execution_count": null,
   "metadata": {},
   "outputs": [],
   "source": [
    "SNR = 5.098 # known from original fits file\n",
    "sky_zero_point = -21.1 # mag\n",
    "photflam = 6.9548454E-20 # inverse sensitivity ergs/cm2/Ang/electron\n",
    "im = galfit_data[3].data\n",
    "wcs= WCS(galfit_data[1].header)\n",
    "psf = fits.open(\"../data/rxj1131_psf1.fits\")[0].data\n",
    "psf2 = fits.open(\"../data/tiny_psf00_psf.fits\")[0].data\n",
    "im[im < 0] = 0\n",
    "image_principales = np.loadtxt(\"../data/images_positions.txt\")[:4] ## B, A, C, D, G, S\n",
    "f_vega = 8.60e-10 "
   ]
  },
  {
   "cell_type": "code",
   "execution_count": null,
   "metadata": {},
   "outputs": [],
   "source": [
    "observation = tf.constant(residual / residual.max(), dtype=tf.float32)[None, ..., None]\n",
    "lens_light = tf.constant(model, dtype=tf.float32)[None, ..., None]\n",
    "rim_input1 = tf.constant(rim_input, dtype=tf.float32)[None, ..., None]\n",
    "psf1 = tf.constant(psf, dtype=tf.float32)[None, ..., None]\n",
    "noise_rms = tf.constant(std_bkg / residual.max())[None] # same scaling as before  --> make sure rim call support the sigma image\n",
    "mask1 = tf.constant(mask, dtype=tf.float32)[None, ..., None]"
   ]
  }
 ],
 "metadata": {
  "kernelspec": {
   "display_name": "censai",
   "language": "python",
   "name": "censai"
  },
  "language_info": {
   "codemirror_mode": {
    "name": "ipython",
    "version": 3
   },
   "file_extension": ".py",
   "mimetype": "text/x-python",
   "name": "python",
   "nbconvert_exporter": "python",
   "pygments_lexer": "ipython3",
   "version": "3.8.0"
  }
 },
 "nbformat": 4,
 "nbformat_minor": 4
}
